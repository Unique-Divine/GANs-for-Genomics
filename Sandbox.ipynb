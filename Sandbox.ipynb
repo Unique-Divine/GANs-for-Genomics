{
 "cells": [
  {
   "cell_type": "code",
   "execution_count": 2,
   "metadata": {},
   "outputs": [],
   "source": [
    "# import PyTorch\n",
    "import torch\n",
    "\n",
    "# standard DS stack\n",
    "import numpy as np\n",
    "import matplotlib.pyplot as plt\n",
    "import seaborn as sns; sns.set()\n",
    "import pandas as pd\n",
    "# embed static images in the ipynb\n",
    "%matplotlib inline \n",
    "\n",
    "# neural network package\n",
    "import torch.nn as nn \n",
    "import torch.nn.functional as F"
   ]
  },
  {
   "cell_type": "code",
   "execution_count": 3,
   "metadata": {},
   "outputs": [],
   "source": [
    "def plot_V_info(V_info):\n",
    "    \"\"\"[summary]\n",
    "\n",
    "    Args:\n",
    "        V_info ([type]): [description]\n",
    "    \"\"\"\n",
    "    global fig, ax\n",
    "    figscale, defaultSize = 2, np.array([8, 6])\n",
    "    fig, ax = plt.subplots(nrows=2, ncols=2 ,figsize=figscale*defaultSize)\n",
    "    plt.tight_layout()\n",
    "    plt.subplots_adjust(wspace=0.1, hspace=0.4, left = 0.1, right = 0.7, bottom = 0.1, top = 0.9) \n",
    "    \n",
    "    ax[0,0].hist(V_info[\"avg\"])\n",
    "    ax[0,0].set(xlabel=\"V_avg\", ylabel=\"batches\", title=\"Avg(Var)\")\n",
    "    \n",
    "    ax[1,0].hist(V_info[\"std\"])\n",
    "    ax[1,0].set(xlabel=\"V_std\", ylabel=\"batches\", title=\"Std(Var)\")\n",
    "\n",
    "    ax[0,1].hist(V_info[\"max\"])\n",
    "    ax[0,1].set(xlabel=\"V_max\", ylabel=\"batches\", title=\"Max(Var)\")\n",
    "\n",
    "    ax[1,1].hist(V_info[\"min\"])\n",
    "    ax[1,1].set(xlabel=\"V_min\", ylabel=\"batches\", title=\"Min(Var)\")\n",
    "\n",
    "    plt.show()\n",
    "\n",
    "def varAnalysis(X, verbose=False):\n",
    "    V = np.var(X, axis=0)\n",
    "    V_avg, V_std = np.mean(V), np.std(V)\n",
    "    V_max, V_min = np.max(V), np.min(V)\n",
    "    \n",
    "    if verbose == True:\n",
    "        print(f\"V_avg: {np.mean(V):.3f}\")    \n",
    "        print(f\"V_std: {np.std(V):.3f}\")\n",
    "        print(f\"V_max: {np.max(V):.3f}\")\n",
    "        print(f\"V_min: {np.min(V):.3f}\")\n",
    "    \n",
    "    return V_avg, V_std, V_max, V_min"
   ]
  },
  {
   "cell_type": "code",
   "execution_count": 82,
   "metadata": {},
   "outputs": [
    {
     "name": "stdout",
     "output_type": "stream",
     "text": [
      "----------\n",
      "csvBatch: 1\n"
     ]
    },
    {
     "data": {
      "image/png": "[encoded data removed]",
      "text/plain": [
       "<Figure size 1152x864 with 4 Axes>"
      ]
     },
     "metadata": {
      "needs_background": "light"
     },
     "output_type": "display_data"
    }
   ],
   "source": [
    "import time\n",
    "from IPython.display import clear_output\n",
    "\n",
    "start_time = time.time()\n",
    "\n",
    "try:\n",
    "    # There are about 220,000 features, so we can loop <= 110 times.\n",
    "    csvBatchSize = 2000\n",
    "    maxIteration = 1\n",
    "\n",
    "    V_info = {}\n",
    "    ps = []\n",
    "    V_info[\"avg\"] = np.empty(maxIteration + 1) \n",
    "    V_info[\"std\"] = np.empty(maxIteration + 1) \n",
    "    V_info[\"max\"] = np.empty(maxIteration + 1) \n",
    "    V_info[\"min\"] = np.empty(maxIteration + 1) \n",
    "\n",
    "    for csvBatch_idx, csvBatch in enumerate(pd.read_csv(\"gtTypes_C.csv\", chunksize=csvBatchSize)):\n",
    "        data = csvBatch\n",
    "        # current_time = time.time() - start_time\n",
    "        # print(f\"{current_time:.2f}\")\n",
    "        X = data.values[:, 1:].astype(float).T\n",
    "        \n",
    "        varAnalysisInfo = varAnalysis(X=X)\n",
    "        V_info[\"avg\"][csvBatch_idx], V_info[\"std\"][csvBatch_idx] = varAnalysisInfo[:2]\n",
    "        V_info[\"max\"][csvBatch_idx], V_info[\"min\"][csvBatch_idx] = varAnalysisInfo[2:]\n",
    "        \n",
    "        # Dynamically plot variance distributions\n",
    "        V_info_sofar = {} \n",
    "        for key in V_info:\n",
    "            V_info_sofar[key] = V_info[key][:csvBatch_idx + 1]\n",
    "        clear_output(wait=True)\n",
    "        print(f\"----------\\ncsvBatch: {csvBatch_idx}\")\n",
    "        plot_V_info(V_info_sofar)\n",
    "        \n",
    "        # Store p-values\n",
    "        \n",
    "        if csvBatch_idx == maxIteration:\n",
    "            break\n",
    "        \n",
    "except KeyboardInterrupt:\n",
    "    print(\"`stopped\")"
   ]
  },
  {
   "cell_type": "code",
   "execution_count": 83,
   "metadata": {},
   "outputs": [
    {
     "data": {
      "text/plain": [
       "{'avg': array([0.35528835, 0.27617677]),\n",
       " 'std': array([0.18720417, 0.14895694]),\n",
       " 'max': array([0.5977667 , 0.59374164]),\n",
       " 'min': array([0.01981568, 0.02035444])}"
      ]
     },
     "execution_count": 83,
     "metadata": {},
     "output_type": "execute_result"
    }
   ],
   "source": [
    "V_info "
   ]
  },
  {
   "cell_type": "code",
   "execution_count": 84,
   "metadata": {},
   "outputs": [
    {
     "data": {
      "text/plain": [
       "(0.27617677360813053,\n",
       " 0.14895694330654985,\n",
       " 0.5937416361570463,\n",
       " 0.020354437571013382)"
      ]
     },
     "execution_count": 84,
     "metadata": {},
     "output_type": "execute_result"
    }
   ],
   "source": [
    "varAnalysis(X=X)"
   ]
  },
  {
   "cell_type": "markdown",
   "metadata": {},
   "source": [
    "----\n",
    "\n",
    "## Process Targets\n",
    "\n",
    "The mice were scored on a test and grouped into 3 categories: GT, IR, and ST. GT was the worst and ST was the best."
   ]
  },
  {
   "cell_type": "code",
   "execution_count": 90,
   "metadata": {},
   "outputs": [
    {
     "data": {
      "text/plain": [
       "((1780, 1), (1780, 2000))"
      ]
     },
     "execution_count": 90,
     "metadata": {},
     "output_type": "execute_result"
    }
   ],
   "source": [
    "df = pd.read_csv(\"targets.csv\")\n",
    "\n",
    "# Check if targets.csv contains the same IDs as the feature matrix\n",
    "targetRatIDs = df.loc[(df[\"Vendor\"] == \"Charles River\")][[\"RatID\", \"Phenotype\"]].values\n",
    "miceIDs = np.array(data.columns)[1:].astype(int)\n",
    "assert len((a:=set(targetRatIDs[:, 0])).intersection((b:=set(miceIDs)))) == 1780\n",
    "\n",
    "# Remove uncommon elements\n",
    "for number in a.difference(b):\n",
    "    targetRatIDs[:, 0] = np.where((targetRatIDs[:, 0] == number), None, targetRatIDs[:, 0])    \n",
    "targetRatIDs = pd.DataFrame(targetRatIDs, columns=[\"RatID\", \"Phenotype\"]).dropna()\n",
    "assert targetRatIDs.shape[0] == 1780\n",
    "\n",
    "targetRatIDs = targetRatIDs.set_index(\"RatID\").sort_index()\n",
    "miceIDs.sort()\n",
    "assert np.all(targetRatIDs.index.values == miceIDs.astype(int))\n",
    "\n",
    "targetRatIDs = targetRatIDs.astype(str)\n",
    "targetRatIDs[\"Phenotype\"].value_counts()\n",
    "\n",
    "for i, pt in enumerate(targetRatIDs.Phenotype.values):\n",
    "    if 'GT' in pt:\n",
    "        targetRatIDs.Phenotype.iloc[i] = '0'\n",
    "    if 'IR' in pt:\n",
    "        targetRatIDs.Phenotype.iloc[i] = '1'\n",
    "    if 'ST' in pt:\n",
    "        targetRatIDs.Phenotype.iloc[i] = '2'\n",
    "\n",
    "assert len(targetRatIDs.Phenotype.value_counts()) == 3\n",
    "\n",
    "Yr = targetRatIDs.Phenotype.values.astype(int).reshape(-1, 1)\n",
    "Yr.shape, X.shape\n",
    "# get_ps(X, Y)"
   ]
  },
  {
   "cell_type": "markdown",
   "metadata": {},
   "source": [
    "----\n",
    "\n",
    "## Get p values"
   ]
  },
  {
   "cell_type": "code",
   "execution_count": 135,
   "metadata": {},
   "outputs": [],
   "source": [
    "from sklearn.linear_model import SGDClassifier\n",
    "import torch\n",
    "import warnings\n",
    "warnings.filterwarnings('ignore')\n",
    "\n",
    "# !pip install statsmodels\n",
    "import statsmodels.api as sm"
   ]
  },
  {
   "cell_type": "code",
   "execution_count": 86,
   "metadata": {},
   "outputs": [
    {
     "data": {
      "text/plain": [
       "(1780, 2000)"
      ]
     },
     "execution_count": 86,
     "metadata": {},
     "output_type": "execute_result"
    }
   ],
   "source": [
    "X.shape"
   ]
  },
  {
   "cell_type": "code",
   "execution_count": 94,
   "metadata": {},
   "outputs": [
    {
     "data": {
      "text/plain": [
       "0    904\n",
       "1    876\n",
       "dtype: int64"
      ]
     },
     "execution_count": 94,
     "metadata": {},
     "output_type": "execute_result"
    }
   ],
   "source": [
    "pd.DataFrame(Y).value_counts()"
   ]
  },
  {
   "cell_type": "code",
   "execution_count": 95,
   "metadata": {},
   "outputs": [
    {
     "data": {
      "text/plain": [
       "1    733\n",
       "0    687\n",
       "2    360\n",
       "dtype: int64"
      ]
     },
     "execution_count": 95,
     "metadata": {},
     "output_type": "execute_result"
    }
   ],
   "source": [
    "pd.DataFrame(Yr).value_counts()"
   ]
  },
  {
   "cell_type": "code",
   "execution_count": 148,
   "metadata": {},
   "outputs": [
    {
     "name": "stdout",
     "output_type": "stream",
     "text": [
      "(2000, 1780)\n"
     ]
    },
    {
     "data": {
      "text/plain": [
       "array([-1.55919560e-14, -5.51480726e-01,  3.61973479e-01, ...,\n",
       "        3.85817354e-01,  1.09292604e+00, -3.19907867e-01])"
      ]
     },
     "execution_count": 148,
     "metadata": {},
     "output_type": "execute_result"
    }
   ],
   "source": [
    "# simulated target matrix, Y\n",
    "rng = np.random.RandomState(7)\n",
    "Y = rng.randint(0,2, X.shape[0]).reshape(-1,1)\n",
    "\n",
    "print(X.T.shape)\n",
    "def getCriterion(X, Y, get_coefs=False) -> np.ndarray:\n",
    "    \"\"\" Feature selection criterion\n",
    "    Args:\n",
    "        X (np.ndarray, 2D): feature matrix\n",
    "        Y (np.ndarray, 2D): target matrix\n",
    "        get_coefs (bool, optional):  Defaults to False.\n",
    "    Returns:\n",
    "        \n",
    "    \"\"\"\n",
    "    global ps, coefs\n",
    "    items, coefs, ps = [], [], []\n",
    "    try:\n",
    "        # for each column of X\n",
    "        for row in X.T:\n",
    "            x = row.reshape(-1, 1)\n",
    "            \n",
    "            if get_coefs:\n",
    "                # Calculate classification coefficients\n",
    "                # model = SGDClassifier(loss='log') # logit model\n",
    "                model = SGDClassifier(loss='hinge') # SVM classifier\n",
    "                model.fit(x, Y)\n",
    "                y_pred = model.predict(x)\n",
    "                items.append(y_pred)\n",
    "                coefs.append(model.coef_[0,0])\n",
    "\n",
    "            else:\n",
    "                # Calculate p-values from logit model\n",
    "                # sm_model = sm.Logit(Y, sm.add_constant(x)).fit(disp=0)\n",
    "                sm_model = sm.MNLogit(Y, sm.add_constant(x)).fit(disp=0)\n",
    "                ps.append(sm_model.pvalues[1])\n",
    "            \n",
    "            \n",
    "    except KeyboardInterrupt:\n",
    "        ps = np.array(ps)\n",
    "        print(\"stopped\")\n",
    "    \n",
    "    if get_coefs:\n",
    "        return (coefs:= np.array(coefs))\n",
    "    else:\n",
    "        return (ps:= np.array(ps))\n",
    "        \n",
    "getCriterion(X, Y, get_coefs=True)"
   ]
  },
  {
   "cell_type": "code",
   "execution_count": 140,
   "metadata": {},
   "outputs": [
    {
     "data": {
      "image/png": "[encoded data removed]",
      "text/plain": [
       "<Figure size 432x288 with 1 Axes>"
      ]
     },
     "metadata": {
      "needs_background": "light"
     },
     "output_type": "display_data"
    }
   ],
   "source": [
    "plt.hist(coefs);"
   ]
  },
  {
   "cell_type": "code",
   "execution_count": 147,
   "metadata": {},
   "outputs": [
    {
     "data": {
      "text/plain": [
       "torch.return_types.topk(\n",
       "values=tensor([1.9126, 1.5995, 1.3569, 1.2078, 1.2078, 1.2078, 1.2078, 1.1922, 1.1802,\n",
       "        1.1488, 1.1437, 1.1347, 1.1080, 1.0831, 1.0831, 1.0831, 1.0831, 1.0680,\n",
       "        1.0576, 1.0422, 1.0297, 1.0198, 1.0198, 1.0192, 1.0044, 1.0044, 0.9960,\n",
       "        0.9940, 0.9835, 0.9597, 0.9538, 0.9479, 0.9450, 0.9220, 0.9191, 0.9149,\n",
       "        0.9149, 0.9100, 0.8900, 0.8900, 0.8825, 0.8825, 0.8791, 0.8741, 0.8741,\n",
       "        0.8631, 0.8627, 0.8627, 0.8616, 0.8520, 0.8520, 0.8460, 0.8197, 0.8197,\n",
       "        0.8197, 0.8153, 0.8128, 0.8089, 0.8082, 0.7920, 0.7920, 0.7899, 0.7817,\n",
       "        0.7738, 0.7716, 0.7683, 0.7627, 0.7627, 0.7602, 0.7602, 0.7602, 0.7564,\n",
       "        0.7564, 0.7564, 0.7564, 0.7478, 0.7478, 0.7470, 0.7353, 0.7353, 0.7353,\n",
       "        0.7220, 0.7220, 0.7220, 0.7220, 0.7184, 0.7153, 0.7153, 0.7153, 0.7120,\n",
       "        0.7120, 0.7120, 0.7120, 0.7100, 0.7087, 0.7087, 0.7087, 0.6953, 0.6925,\n",
       "        0.6925]),\n",
       "indices=tensor([480, 444, 443,   2, 221, 732, 402, 431, 146, 515, 201, 147, 279, 131,\n",
       "        126, 478, 548,   5, 564, 514, 736, 169, 193, 472, 394, 621, 625,  76,\n",
       "        314, 808, 227, 547, 167, 626, 643, 476, 408, 144, 763, 642, 157, 381,\n",
       "        766, 215, 655, 387, 184, 124, 499, 565, 297, 423, 445, 810, 458,  90,\n",
       "        202, 172, 332,  77, 755, 407, 831, 307, 426, 365, 182, 165, 384, 362,\n",
       "         59, 347,  85, 208, 333, 207,  78, 589, 712, 313, 405, 375, 451, 448,\n",
       "        507, 134, 684,  19, 505, 363, 429, 328, 661, 140, 111, 539, 413, 373,\n",
       "        747, 409]))"
      ]
     },
     "execution_count": 147,
     "metadata": {},
     "output_type": "execute_result"
    }
   ],
   "source": [
    "torch.topk(torch.Tensor(coefs), k=100)"
   ]
  },
  {
   "cell_type": "code",
   "execution_count": 146,
   "metadata": {},
   "outputs": [
    {
     "data": {
      "text/plain": [
       "(1780, 200)"
      ]
     },
     "execution_count": 146,
     "metadata": {},
     "output_type": "execute_result"
    }
   ],
   "source": [
    "from sklearn.feature_selection import SelectKBest, chi2\n",
    "\n",
    "X_dummy = SelectKBest(chi2, k=200).fit_transform(X, Y)\n",
    "X_dummy.shape"
   ]
  },
  {
   "cell_type": "markdown",
   "metadata": {},
   "source": [
    "- Jie Yuan1:26 PM https://stats.idre.ucla.edu/other/mult-pkg/faq/general/faq-what-are-pseudo-r-squareds/\n",
    "- Jie Yuan1:30 PM https://stackoverflow.com/questions/25122999/scikit-learn-how-to-check-coefficients-significance\n",
    "- McKelvey & Zavoina https://stats.idre.ucla.edu/other/mult-pkg/faq/general/faq-what-are-pseudo-r-squareds/"
   ]
  },
  {
   "cell_type": "code",
   "execution_count": 256,
   "metadata": {},
   "outputs": [
    {
     "data": {
      "text/plain": [
       "0.09355327625915083"
      ]
     },
     "execution_count": 256,
     "metadata": {},
     "output_type": "execute_result"
    },
    {
     "data": {
      "image/png": "[encoded data removed]",
      "text/plain": [
       "<Figure size 432x288 with 1 Axes>"
      ]
     },
     "metadata": {
      "needs_background": "light"
     },
     "output_type": "display_data"
    }
   ],
   "source": [
    "ps = np.abs(ps)\n",
    "plt.hist(ps);\n",
    "np.percentile(np.abs(coefs), 25)"
   ]
  },
  {
   "cell_type": "code",
   "execution_count": 258,
   "metadata": {},
   "outputs": [
    {
     "data": {
      "text/plain": [
       "<seaborn.axisgrid.JointGrid at 0x2a43a6998b0>"
      ]
     },
     "execution_count": 258,
     "metadata": {},
     "output_type": "execute_result"
    },
    {
     "data": {
      "image/png": "[encoded data removed]",
      "text/plain": [
       "<Figure size 432x432 with 3 Axes>"
      ]
     },
     "metadata": {},
     "output_type": "display_data"
    }
   ],
   "source": [
    "import seaborn as sns; sns.set()\n",
    "\n",
    "sns.jointplot(ps, coefs, kind=\"scatter\")"
   ]
  },
  {
   "cell_type": "code",
   "execution_count": 257,
   "metadata": {},
   "outputs": [
    {
     "data": {
      "text/plain": [
       "0.09355327625915083"
      ]
     },
     "execution_count": 257,
     "metadata": {},
     "output_type": "execute_result"
    },
    {
     "data": {
      "image/png": "[encoded data removed]",
      "text/plain": [
       "<Figure size 432x288 with 1 Axes>"
      ]
     },
     "metadata": {
      "needs_background": "light"
     },
     "output_type": "display_data"
    }
   ],
   "source": [
    "coefs = np.abs(coefs)\n",
    "plt.hist(coefs);\n",
    "np.percentile(np.abs(coefs), 25)"
   ]
  }
 ],
 "metadata": {
  "kernelspec": {
   "display_name": "Python (ds_env)",
   "language": "python",
   "name": "ds_env"
  },
  "language_info": {
   "codemirror_mode": {
    "name": "ipython",
    "version": 3
   },
   "file_extension": ".py",
   "mimetype": "text/x-python",
   "name": "python",
   "nbconvert_exporter": "python",
   "pygments_lexer": "ipython3",
   "version": "3.8.5"
  }
 },
 "nbformat": 4,
 "nbformat_minor": 4
}
