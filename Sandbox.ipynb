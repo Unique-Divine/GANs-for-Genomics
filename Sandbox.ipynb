{
 "cells": [
  {
   "cell_type": "code",
   "execution_count": 1,
   "metadata": {},
   "outputs": [],
   "source": [
    "# import PyTorch\n",
    "import torch\n",
    "\n",
    "# standard DS stack\n",
    "import numpy as np\n",
    "import matplotlib.pyplot as plt\n",
    "import seaborn as sns; sns.set()\n",
    "import pandas as pd\n",
    "# embed static images in the ipynb\n",
    "%matplotlib inline \n",
    "\n",
    "# neural network package\n",
    "import torch.nn as nn \n",
    "import torch.nn.functional as F"
   ]
  },
  {
   "cell_type": "code",
   "execution_count": 2,
   "metadata": {},
   "outputs": [],
   "source": [
    "def plot_V_info(V_info):\n",
    "    \"\"\"[summary]\n",
    "\n",
    "    Args:\n",
    "        V_info ([type]): [description]\n",
    "    \"\"\"\n",
    "    global fig, ax\n",
    "    figscale, defaultSize = 2, np.array([8, 6])\n",
    "    fig, ax = plt.subplots(nrows=2, ncols=2 ,figsize=figscale*defaultSize)\n",
    "    plt.tight_layout()\n",
    "    plt.subplots_adjust(wspace=0.1, hspace=0.4, left = 0.1, right = 0.7, bottom = 0.1, top = 0.9) \n",
    "    \n",
    "    ax[0,0].hist(V_info[\"avg\"])\n",
    "    ax[0,0].set(xlabel=\"V_avg\", ylabel=\"batches\", title=\"Avg(Var)\")\n",
    "    \n",
    "    ax[1,0].hist(V_info[\"std\"])\n",
    "    ax[1,0].set(xlabel=\"V_std\", ylabel=\"batches\", title=\"Std(Var)\")\n",
    "\n",
    "    ax[0,1].hist(V_info[\"max\"])\n",
    "    ax[0,1].set(xlabel=\"V_max\", ylabel=\"batches\", title=\"Max(Var)\")\n",
    "\n",
    "    ax[1,1].hist(V_info[\"min\"])\n",
    "    ax[1,1].set(xlabel=\"V_min\", ylabel=\"batches\", title=\"Min(Var)\")\n",
    "\n",
    "    plt.show()\n",
    "\n",
    "def varAnalysis(X, verbose=False):\n",
    "    V = np.var(X, axis=0)\n",
    "    V_avg, V_std = np.mean(V), np.std(V)\n",
    "    V_max, V_min = np.max(V), np.min(V)\n",
    "    \n",
    "    if verbose == True:\n",
    "        print(f\"V_avg: {np.mean(V):.3f}\")    \n",
    "        print(f\"V_std: {np.std(V):.3f}\")\n",
    "        print(f\"V_max: {np.max(V):.3f}\")\n",
    "        print(f\"V_min: {np.min(V):.3f}\")\n",
    "    \n",
    "    return V_avg, V_std, V_max, V_min"
   ]
  },
  {
   "cell_type": "code",
   "execution_count": 3,
   "metadata": {},
   "outputs": [
    {
     "name": "stdout",
     "output_type": "stream",
     "text": [
      "----------\n",
      "csvBatch: 1\n"
     ]
    },
    {
     "data": {
      "image/png": "[encoded data removed]",
      "text/plain": [
       "<Figure size 1152x864 with 4 Axes>"
      ]
     },
     "metadata": {
      "needs_background": "light"
     },
     "output_type": "display_data"
    },
    {
     "name": "stdout",
     "output_type": "stream",
     "text": [
      "`stopped\n"
     ]
    }
   ],
   "source": [
    "import time\n",
    "from IPython.display import clear_output\n",
    "\n",
    "start_time = time.time()\n",
    "\n",
    "try:\n",
    "    # There are about 220,000 features, so we can loop <= 110 times.\n",
    "    csvBatchSize = 2001\n",
    "    maxIteration = 2\n",
    "\n",
    "    V_info = {}\n",
    "    ps = []\n",
    "    V_info[\"avg\"] = np.empty(maxIteration + 1) \n",
    "    V_info[\"std\"] = np.empty(maxIteration + 1) \n",
    "    V_info[\"max\"] = np.empty(maxIteration + 1) \n",
    "    V_info[\"min\"] = np.empty(maxIteration + 1) \n",
    "\n",
    "    for csvBatch_idx, csvBatch in enumerate(pd.read_csv(\"gtTypes.csv\", chunksize=csvBatchSize)):\n",
    "        data = csvBatch\n",
    "        # current_time = time.time() - start_time\n",
    "        # print(f\"{current_time:.2f}\")\n",
    "        X = data.values[:, 1:].astype(float).T\n",
    "\n",
    "        varAnalysisInfo = varAnalysis(X=X)\n",
    "        V_info[\"avg\"][csvBatch_idx], V_info[\"std\"][csvBatch_idx] = varAnalysisInfo[:2]\n",
    "        V_info[\"max\"][csvBatch_idx], V_info[\"min\"][csvBatch_idx] = varAnalysisInfo[2:]\n",
    "        \n",
    "        # Dynamically plot variance distributions\n",
    "        V_info_sofar = {} \n",
    "        for key in V_info:\n",
    "            V_info_sofar[key] = V_info[key][:csvBatch_idx + 1]\n",
    "        clear_output(wait=True)\n",
    "        print(f\"----------\\ncsvBatch: {csvBatch_idx}\")\n",
    "        plot_V_info(V_info_sofar)\n",
    "        \n",
    "        # Store p-values\n",
    "        \n",
    "        if csvBatch_idx == maxIteration:\n",
    "            break\n",
    "            \n",
    "except KeyboardInterrupt:\n",
    "    print(\"`stopped\")"
   ]
  },
  {
   "cell_type": "code",
   "execution_count": 5,
   "metadata": {},
   "outputs": [
    {
     "data": {
      "text/plain": [
       "{'avg': array([3.55198114e-001, 2.76203817e-001, 6.47591605e-319]),\n",
       " 'std': array([0.18720089, 0.14902071, 0.        ]),\n",
       " 'max': array([0.5977667 , 0.59374164, 0.        ]),\n",
       " 'min': array([0.01981568, 0.02035444, 0.        ])}"
      ]
     },
     "execution_count": 5,
     "metadata": {},
     "output_type": "execute_result"
    }
   ],
   "source": [
    "V_info "
   ]
  },
  {
   "cell_type": "code",
   "execution_count": 6,
   "metadata": {},
   "outputs": [
    {
     "data": {
      "text/plain": [
       "(0.2762038167256483,\n",
       " 0.14902070909246662,\n",
       " 0.5937416361570463,\n",
       " 0.020354437571013382)"
      ]
     },
     "execution_count": 6,
     "metadata": {},
     "output_type": "execute_result"
    }
   ],
   "source": [
    "varAnalysis(X=X)"
   ]
  },
  {
   "cell_type": "markdown",
   "metadata": {},
   "source": [
    "----\n",
    "\n",
    "## Process Targets"
   ]
  },
  {
   "cell_type": "code",
   "execution_count": 84,
   "metadata": {},
   "outputs": [
    {
     "data": {
      "text/html": [
       "<div>\n",
       "<style scoped>\n",
       "    .dataframe tbody tr th:only-of-type {\n",
       "        vertical-align: middle;\n",
       "    }\n",
       "\n",
       "    .dataframe tbody tr th {\n",
       "        vertical-align: top;\n",
       "    }\n",
       "\n",
       "    .dataframe thead th {\n",
       "        text-align: right;\n",
       "    }\n",
       "</style>\n",
       "<table border=\"1\" class=\"dataframe\">\n",
       "  <thead>\n",
       "    <tr style=\"text-align: right;\">\n",
       "      <th></th>\n",
       "      <th>RatID</th>\n",
       "      <th>Sex</th>\n",
       "      <th>Vendor</th>\n",
       "      <th>Vendor Location</th>\n",
       "      <th>Barrier</th>\n",
       "      <th>Experimenter(s)</th>\n",
       "      <th>Phenotype</th>\n",
       "      <th>Date (Birth)</th>\n",
       "      <th>Date (Training Day 1)</th>\n",
       "      <th>Age</th>\n",
       "      <th>Weight</th>\n",
       "      <th>Housing</th>\n",
       "      <th>Light Cycle</th>\n",
       "      <th>Additional Notes</th>\n",
       "      <th>Shipment (Month [Year])</th>\n",
       "      <th>Box</th>\n",
       "    </tr>\n",
       "  </thead>\n",
       "  <tbody>\n",
       "    <tr>\n",
       "      <th>0</th>\n",
       "      <td>1</td>\n",
       "      <td>M</td>\n",
       "      <td>Harlan</td>\n",
       "      <td>Haslett, MI</td>\n",
       "      <td>206</td>\n",
       "      <td>LMY</td>\n",
       "      <td>GT</td>\n",
       "      <td>16-12-11</td>\n",
       "      <td>21-02-12</td>\n",
       "      <td>67</td>\n",
       "      <td>250</td>\n",
       "      <td>Single</td>\n",
       "      <td>Standard</td>\n",
       "      <td>NaN</td>\n",
       "      <td>October (2012)</td>\n",
       "      <td>?</td>\n",
       "    </tr>\n",
       "    <tr>\n",
       "      <th>1</th>\n",
       "      <td>2</td>\n",
       "      <td>M</td>\n",
       "      <td>Harlan</td>\n",
       "      <td>Haslett, MI</td>\n",
       "      <td>206</td>\n",
       "      <td>LMY</td>\n",
       "      <td>ST</td>\n",
       "      <td>16-12-11</td>\n",
       "      <td>21-02-12</td>\n",
       "      <td>67</td>\n",
       "      <td>250</td>\n",
       "      <td>Single</td>\n",
       "      <td>Standard</td>\n",
       "      <td>NaN</td>\n",
       "      <td>October (2012)</td>\n",
       "      <td>?</td>\n",
       "    </tr>\n",
       "    <tr>\n",
       "      <th>2</th>\n",
       "      <td>3</td>\n",
       "      <td>M</td>\n",
       "      <td>Harlan</td>\n",
       "      <td>Haslett, MI</td>\n",
       "      <td>206</td>\n",
       "      <td>LMY</td>\n",
       "      <td>GT</td>\n",
       "      <td>16-12-11</td>\n",
       "      <td>21-02-12</td>\n",
       "      <td>67</td>\n",
       "      <td>250</td>\n",
       "      <td>Single</td>\n",
       "      <td>Standard</td>\n",
       "      <td>NaN</td>\n",
       "      <td>October (2012)</td>\n",
       "      <td>?</td>\n",
       "    </tr>\n",
       "    <tr>\n",
       "      <th>3</th>\n",
       "      <td>4</td>\n",
       "      <td>M</td>\n",
       "      <td>Harlan</td>\n",
       "      <td>Haslett, MI</td>\n",
       "      <td>206</td>\n",
       "      <td>LMY</td>\n",
       "      <td>ST</td>\n",
       "      <td>16-12-11</td>\n",
       "      <td>21-02-12</td>\n",
       "      <td>67</td>\n",
       "      <td>250</td>\n",
       "      <td>Single</td>\n",
       "      <td>Standard</td>\n",
       "      <td>NaN</td>\n",
       "      <td>October (2012)</td>\n",
       "      <td>?</td>\n",
       "    </tr>\n",
       "    <tr>\n",
       "      <th>4</th>\n",
       "      <td>5</td>\n",
       "      <td>M</td>\n",
       "      <td>Harlan</td>\n",
       "      <td>Haslett, MI</td>\n",
       "      <td>206</td>\n",
       "      <td>LMY</td>\n",
       "      <td>GT</td>\n",
       "      <td>16-12-11</td>\n",
       "      <td>21-02-12</td>\n",
       "      <td>67</td>\n",
       "      <td>250</td>\n",
       "      <td>Single</td>\n",
       "      <td>Standard</td>\n",
       "      <td>NaN</td>\n",
       "      <td>October (2012)</td>\n",
       "      <td>?</td>\n",
       "    </tr>\n",
       "  </tbody>\n",
       "</table>\n",
       "</div>"
      ],
      "text/plain": [
       "   RatID Sex  Vendor Vendor Location Barrier Experimenter(s) Phenotype  \\\n",
       "0      1   M  Harlan     Haslett, MI     206             LMY        GT   \n",
       "1      2   M  Harlan     Haslett, MI     206             LMY        ST   \n",
       "2      3   M  Harlan     Haslett, MI     206             LMY        GT   \n",
       "3      4   M  Harlan     Haslett, MI     206             LMY        ST   \n",
       "4      5   M  Harlan     Haslett, MI     206             LMY        GT   \n",
       "\n",
       "  Date (Birth) Date (Training Day 1) Age Weight Housing Light Cycle  \\\n",
       "0     16-12-11              21-02-12  67    250  Single    Standard   \n",
       "1     16-12-11              21-02-12  67    250  Single    Standard   \n",
       "2     16-12-11              21-02-12  67    250  Single    Standard   \n",
       "3     16-12-11              21-02-12  67    250  Single    Standard   \n",
       "4     16-12-11              21-02-12  67    250  Single    Standard   \n",
       "\n",
       "  Additional Notes Shipment (Month [Year]) Box  \n",
       "0              NaN          October (2012)   ?  \n",
       "1              NaN          October (2012)   ?  \n",
       "2              NaN          October (2012)   ?  \n",
       "3              NaN          October (2012)   ?  \n",
       "4              NaN          October (2012)   ?  "
      ]
     },
     "execution_count": 84,
     "metadata": {},
     "output_type": "execute_result"
    }
   ],
   "source": [
    "df = pd.read_csv(\"targets.csv\")\n",
    "\n",
    "# targetRatIDs = df['RatID'].values\n",
    "targetRatIDs = df.loc[(df[\"Vendor\"] == \"Charles River\")][\"RatID\"].values.astype(int)\n",
    "miceIDs = np.array(data.columns)[1:].astype(int)\n",
    "\n",
    "df.head()"
   ]
  },
  {
   "cell_type": "code",
   "execution_count": 93,
   "metadata": {},
   "outputs": [
    {
     "data": {
      "text/plain": [
       "2335"
      ]
     },
     "execution_count": 93,
     "metadata": {},
     "output_type": "execute_result"
    }
   ],
   "source": [
    "targetRatIDs.size"
   ]
  },
  {
   "cell_type": "code",
   "execution_count": 94,
   "metadata": {},
   "outputs": [
    {
     "data": {
      "text/plain": [
       "1780"
      ]
     },
     "execution_count": 94,
     "metadata": {},
     "output_type": "execute_result"
    }
   ],
   "source": [
    "miceIDs.size"
   ]
  },
  {
   "cell_type": "code",
   "execution_count": 86,
   "metadata": {},
   "outputs": [
    {
     "data": {
      "text/plain": [
       "1780"
      ]
     },
     "execution_count": 86,
     "metadata": {},
     "output_type": "execute_result"
    }
   ],
   "source": [
    "a, b = set(targetRatIDs), set(miceIDs)\n",
    "len(a.intersection(b))"
   ]
  },
  {
   "cell_type": "code",
   "execution_count": 89,
   "metadata": {},
   "outputs": [
    {
     "data": {
      "text/plain": [
       "array([ 671,  672,  675, ..., 4362, 4923,  524], dtype=int64)"
      ]
     },
     "execution_count": 89,
     "metadata": {},
     "output_type": "execute_result"
    }
   ],
   "source": [
    "df[df.columns[0]].values[miceIDs-498]"
   ]
  },
  {
   "cell_type": "code",
   "execution_count": 88,
   "metadata": {},
   "outputs": [
    {
     "data": {
      "text/plain": [
       "(5703, 162)"
      ]
     },
     "execution_count": 88,
     "metadata": {},
     "output_type": "execute_result"
    }
   ],
   "source": [
    "np.max(miceIDs), np.min(miceIDs)"
   ]
  },
  {
   "cell_type": "code",
   "execution_count": 87,
   "metadata": {},
   "outputs": [
    {
     "data": {
      "text/plain": [
       "array([1052, 1053, 1054, ..., 4182, 4659,  920])"
      ]
     },
     "execution_count": 87,
     "metadata": {},
     "output_type": "execute_result"
    }
   ],
   "source": [
    "miceIDs"
   ]
  },
  {
   "cell_type": "markdown",
   "metadata": {},
   "source": [
    "----\n",
    "\n",
    "## Get p values"
   ]
  },
  {
   "cell_type": "code",
   "execution_count": 22,
   "metadata": {},
   "outputs": [],
   "source": [
    "from sklearn.linear_model import SGDClassifier\n",
    "import warnings\n",
    "warnings.filterwarnings('ignore')\n",
    "\n",
    "# !pip install statsmodels\n",
    "import statsmodels.api as sm"
   ]
  },
  {
   "cell_type": "code",
   "execution_count": 23,
   "metadata": {},
   "outputs": [],
   "source": [
    "\n",
    "X = data.values[:, 1:].astype(float).T\n",
    "\n",
    "rng = np.random.RandomState(7)\n",
    "Y = rng.randint(0,2, X.shape[0]).reshape(-1,1)\n",
    "\n",
    "items, coefs, ps = [], [], []\n",
    "try:\n",
    "    for row in X.T:\n",
    "        x = row.reshape(-1, 1)\n",
    "        model = SGDClassifier(loss='log')\n",
    "        model.fit(x, Y)\n",
    "        y_pred = model.predict(x)\n",
    "        items.append(y_pred)\n",
    "        coefs.append(model.coef_[0,0])\n",
    "        sm_model = sm.Logit(Y, sm.add_constant(x)).fit(disp=0)\n",
    "        ps.append(sm_model.pvalues[1])\n",
    "        \n",
    "except KeyboardInterrupt:\n",
    "    print(\"stopped\")"
   ]
  },
  {
   "cell_type": "code",
   "execution_count": 26,
   "metadata": {},
   "outputs": [
    {
     "name": "stdout",
     "output_type": "stream",
     "text": [
      "2.0    1200\n",
      "1.0     516\n",
      "0.0      64\n",
      "dtype: int64\n",
      "0.16658555261209174\n"
     ]
    }
   ],
   "source": [
    "# compare with statsmodels\n",
    "import statsmodels.api as sm\n",
    "# print(sm.add_constant(x))\n",
    "\n",
    "# print(pd.Series(sm.add_constant(x)[:, 1]).value_counts())\n",
    "\n",
    "sm_model = sm.Logit(Y, sm.add_constant(x)).fit(disp=0)\n",
    "print(sm_model.pvalues[1])"
   ]
  },
  {
   "cell_type": "markdown",
   "metadata": {},
   "source": [
    "- Jie Yuan1:26 PM https://stats.idre.ucla.edu/other/mult-pkg/faq/general/faq-what-are-pseudo-r-squareds/\n",
    "- Jie Yuan1:30 PM https://stackoverflow.com/questions/25122999/scikit-learn-how-to-check-coefficients-significance\n",
    "- McKelvey & Zavoina https://stats.idre.ucla.edu/other/mult-pkg/faq/general/faq-what-are-pseudo-r-squareds/"
   ]
  },
  {
   "cell_type": "code",
   "execution_count": 256,
   "metadata": {},
   "outputs": [
    {
     "data": {
      "text/plain": [
       "0.09355327625915083"
      ]
     },
     "execution_count": 256,
     "metadata": {},
     "output_type": "execute_result"
    },
    {
     "data": {
      "image/png": "[encoded data removed]",
      "text/plain": [
       "<Figure size 432x288 with 1 Axes>"
      ]
     },
     "metadata": {
      "needs_background": "light"
     },
     "output_type": "display_data"
    }
   ],
   "source": [
    "ps = np.abs(ps)\n",
    "plt.hist(ps);\n",
    "np.percentile(np.abs(coefs), 25)"
   ]
  },
  {
   "cell_type": "code",
   "execution_count": 258,
   "metadata": {},
   "outputs": [
    {
     "data": {
      "text/plain": [
       "<seaborn.axisgrid.JointGrid at 0x2a43a6998b0>"
      ]
     },
     "execution_count": 258,
     "metadata": {},
     "output_type": "execute_result"
    },
    {
     "data": {
      "image/png": "[encoded data removed]",
      "text/plain": [
       "<Figure size 432x432 with 3 Axes>"
      ]
     },
     "metadata": {},
     "output_type": "display_data"
    }
   ],
   "source": [
    "import seaborn as sns; sns.set()\n",
    "\n",
    "sns.jointplot(ps, coefs, kind=\"scatter\")"
   ]
  },
  {
   "cell_type": "code",
   "execution_count": 257,
   "metadata": {},
   "outputs": [
    {
     "data": {
      "text/plain": [
       "0.09355327625915083"
      ]
     },
     "execution_count": 257,
     "metadata": {},
     "output_type": "execute_result"
    },
    {
     "data": {
      "image/png": "[encoded data removed]",
      "text/plain": [
       "<Figure size 432x288 with 1 Axes>"
      ]
     },
     "metadata": {
      "needs_background": "light"
     },
     "output_type": "display_data"
    }
   ],
   "source": [
    "coefs = np.abs(coefs)\n",
    "plt.hist(coefs);\n",
    "np.percentile(np.abs(coefs), 25)"
   ]
  }
 ],
 "metadata": {
  "kernelspec": {
   "display_name": "Python (ds_env)",
   "language": "python",
   "name": "ds_env"
  },
  "language_info": {
   "codemirror_mode": {
    "name": "ipython",
    "version": 3
   },
   "file_extension": ".py",
   "mimetype": "text/x-python",
   "name": "python",
   "nbconvert_exporter": "python",
   "pygments_lexer": "ipython3",
   "version": "3.8.5"
  }
 },
 "nbformat": 4,
 "nbformat_minor": 4
}
