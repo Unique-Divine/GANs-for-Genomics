{
 "cells": [
  {
   "cell_type": "code",
   "execution_count": 2,
   "metadata": {},
   "outputs": [],
   "source": [
    "# import PyTorch\n",
    "import torch\n",
    "\n",
    "# standard DS stack\n",
    "import numpy as np\n",
    "import matplotlib.pyplot as plt\n",
    "import seaborn as sns; sns.set()\n",
    "import pandas as pd\n",
    "# embed static images in the ipynb\n",
    "%matplotlib inline \n",
    "\n",
    "# neural network package\n",
    "import torch.nn as nn \n",
    "import torch.nn.functional as F"
   ]
  },
  {
   "cell_type": "code",
   "execution_count": 23,
   "metadata": {},
   "outputs": [],
   "source": [
    "def varAnalysis(X, verbose=False):\n",
    "    V = np.var(X, axis=0)\n",
    "    V_avg, V_std = np.mean(V), np.std(V)\n",
    "    V_max, V_min = np.max(V), np.min(V)\n",
    "    \n",
    "    if verbose == True:\n",
    "        print(f\"V_avg: {np.mean(V):.3f}\")    \n",
    "        print(f\"V_std: {np.std(V):.3f}\")\n",
    "        print(f\"V_max: {np.max(V):.3f}\")\n",
    "        print(f\"V_min: {np.min(V):.3f}\")\n",
    "    \n",
    "    return V_avg, V_std, V_max, V_min\n",
    "\n",
    "def plot_V_info(V_info):\n",
    "    \"\"\"[summary]\n",
    "\n",
    "    Args:\n",
    "        V_info (dict[np.ndarray]): [description]\n",
    "    \"\"\"\n",
    "    global fig, ax\n",
    "    figscale, defaultSize = 2, np.array([8, 6])\n",
    "    fig, ax = plt.subplots(nrows=2, ncols=2 ,figsize=figscale*defaultSize)\n",
    "    plt.tight_layout()\n",
    "    plt.subplots_adjust(wspace=0.1, hspace=0.4, left = 0.1, right = 0.7, bottom = 0.1, top = 0.9) \n",
    "    \n",
    "    ax[0,0].hist(V_info[\"avg\"])\n",
    "    ax[0,0].set(xlabel=\"V_avg\", ylabel=\"batches\", title=\"Avg(Var)\")\n",
    "    \n",
    "    ax[1,0].hist(V_info[\"std\"])\n",
    "    ax[1,0].set(xlabel=\"V_std\", ylabel=\"batches\", title=\"Std(Var)\")\n",
    "\n",
    "    ax[0,1].hist(V_info[\"max\"])\n",
    "    ax[0,1].set(xlabel=\"V_max\", ylabel=\"batches\", title=\"Max(Var)\")\n",
    "\n",
    "    ax[1,1].hist(V_info[\"min\"])\n",
    "    ax[1,1].set(xlabel=\"V_min\", ylabel=\"batches\", title=\"Min(Var)\")\n",
    "    clear_output(wait=True)\n",
    "    plt.show()"
   ]
  },
  {
   "cell_type": "markdown",
   "metadata": {},
   "source": [
    "----\n",
    "\n",
    "## Process Targets\n",
    "\n",
    "The mice were scored on a test and grouped into 3 categories: GT, IR, and ST. GT was the worst and ST was the best."
   ]
  },
  {
   "cell_type": "code",
   "execution_count": 17,
   "metadata": {},
   "outputs": [],
   "source": [
    "def getTargets():\n",
    "    \"\"\"Retrives the target matrix from \"targets.csv\".\n",
    "\n",
    "    Returns:\n",
    "        Y (np.ndarray): Phenotype values to be predicted by ML model. \n",
    "        names (np.ndarray): The names of the rats.\n",
    "    \"\"\"\n",
    "    df = pd.read_csv(\"targets.csv\")\n",
    "\n",
    "    # Check if targets.csv contains the same IDs as the feature matrix\n",
    "    targetRatIDs = df.loc[(df[\"Vendor\"] == \"Charles River\")][[\"RatID\", \"Phenotype\"]].values\n",
    "    miceIDs = np.array(data.columns)[1:].astype(int)\n",
    "    assert len((a:=set(targetRatIDs[:, 0])).intersection((b:=set(miceIDs)))) == 1780\n",
    "\n",
    "    # Remove uncommon elements\n",
    "    for number in a.difference(b):\n",
    "        targetRatIDs[:, 0] = np.where((targetRatIDs[:, 0] == number), None, targetRatIDs[:, 0])    \n",
    "    targetRatIDs = pd.DataFrame(targetRatIDs, columns=[\"RatID\", \"Phenotype\"]).dropna()\n",
    "    assert targetRatIDs.shape[0] == 1780\n",
    "\n",
    "    targetRatIDs = targetRatIDs.set_index(\"RatID\").sort_index()\n",
    "    miceIDs.sort()\n",
    "    assert np.all(targetRatIDs.index.values == miceIDs.astype(int))\n",
    "\n",
    "    targetRatIDs = targetRatIDs.astype(str)\n",
    "    targetRatIDs[\"Phenotype\"].value_counts()\n",
    "\n",
    "    for i, pt in enumerate(targetRatIDs.Phenotype.values):\n",
    "        if 'GT' in pt:\n",
    "            targetRatIDs.Phenotype.iloc[i] = '0'\n",
    "        if 'IR' in pt:\n",
    "            targetRatIDs.Phenotype.iloc[i] = '1'\n",
    "        if 'ST' in pt:\n",
    "            targetRatIDs.Phenotype.iloc[i] = '2'\n",
    "\n",
    "    assert len(targetRatIDs.Phenotype.value_counts()) == 3\n",
    "    \n",
    "    Y = targetRatIDs.Phenotype.values.astype(int).reshape(-1, 1)\n",
    "    names = np.array(list(targetRatIDs.index))\n",
    "\n",
    "    assert X.shape[0] == Y.shape[0]\n",
    "\n",
    "    return Y, names"
   ]
  },
  {
   "cell_type": "code",
   "execution_count": 19,
   "metadata": {},
   "outputs": [
    {
     "data": {
      "text/plain": [
       "1    733\n",
       "0    687\n",
       "2    360\n",
       "dtype: int64"
      ]
     },
     "execution_count": 19,
     "metadata": {},
     "output_type": "execute_result"
    }
   ],
   "source": [
    "pd.DataFrame(getTargets()[0]).value_counts()"
   ]
  },
  {
   "cell_type": "markdown",
   "metadata": {},
   "source": [
    "----\n",
    "\n",
    "main()\n"
   ]
  },
  {
   "cell_type": "code",
   "execution_count": null,
   "metadata": {},
   "outputs": [
    {
     "data": {
      "image/png": "[encoded data removed]",
      "text/plain": [
       "<Figure size 1152x864 with 4 Axes>"
      ]
     },
     "metadata": {
      "needs_background": "light"
     },
     "output_type": "display_data"
    }
   ],
   "source": [
    "import time\n",
    "from IPython.display import clear_output\n",
    "\n",
    "start_time = time.time()\n",
    "\n",
    "try:\n",
    "    # There are about 220,000 features, so we can loop <= 110 times.\n",
    "    csvBatchSize = 2000\n",
    "    maxIteration = 100\n",
    "    Y, rat_names = getTargets()\n",
    "    \n",
    "    V_info = {}\n",
    "    ps = []\n",
    "    V_info[\"avg\"] = np.empty(maxIteration + 1) \n",
    "    V_info[\"std\"] = np.empty(maxIteration + 1) \n",
    "    V_info[\"max\"] = np.empty(maxIteration + 1) \n",
    "    V_info[\"min\"] = np.empty(maxIteration + 1) \n",
    "\n",
    "    for csvBatch_idx, csvBatch in enumerate(pd.read_csv(\"gtTypes_C.csv\", chunksize=csvBatchSize)):\n",
    "        data = csvBatch\n",
    "        # current_time = time.time() - start_time\n",
    "        # print(f\"{current_time:.2f}\")\n",
    "        X = data.values[:, 1:].astype(float).T\n",
    "        \n",
    "        varAnalysisInfo = varAnalysis(X=X)\n",
    "        V_info[\"avg\"][csvBatch_idx], V_info[\"std\"][csvBatch_idx] = varAnalysisInfo[:2]\n",
    "        V_info[\"max\"][csvBatch_idx], V_info[\"min\"][csvBatch_idx] = varAnalysisInfo[2:]\n",
    "        \n",
    "        # Dynamically plot variance distributions\n",
    "        V_info_sofar = {} \n",
    "        for key in V_info:\n",
    "            V_info_sofar[key] = V_info[key][:csvBatch_idx + 1]\n",
    "        clear_output(wait=True)\n",
    "        print(f\"----------\\ncsvBatch: {csvBatch_idx}\")\n",
    "        plot_V_info(V_info_sofar)\n",
    "        \n",
    "        # Store p-values\n",
    "        \n",
    "        if csvBatch_idx == maxIteration:\n",
    "            break\n",
    "        \n",
    "except KeyboardInterrupt:\n",
    "    print(\"`stopped\")"
   ]
  },
  {
   "cell_type": "code",
   "execution_count": 5,
   "metadata": {},
   "outputs": [
    {
     "data": {
      "text/plain": [
       "{'avg': array([0.35528835, 0.27617677]),\n",
       " 'std': array([0.18720417, 0.14895694]),\n",
       " 'max': array([0.5977667 , 0.59374164]),\n",
       " 'min': array([0.01981568, 0.02035444])}"
      ]
     },
     "execution_count": 5,
     "metadata": {},
     "output_type": "execute_result"
    }
   ],
   "source": [
    "V_info "
   ]
  },
  {
   "cell_type": "code",
   "execution_count": 6,
   "metadata": {},
   "outputs": [
    {
     "data": {
      "text/plain": [
       "(0.27617677360813053,\n",
       " 0.14895694330654985,\n",
       " 0.5937416361570463,\n",
       " 0.020354437571013382)"
      ]
     },
     "execution_count": 6,
     "metadata": {},
     "output_type": "execute_result"
    }
   ],
   "source": [
    "varAnalysis(X=X)"
   ]
  },
  {
   "cell_type": "markdown",
   "metadata": {},
   "source": [
    "----\n",
    "\n",
    "## Get p values"
   ]
  },
  {
   "cell_type": "code",
   "execution_count": 135,
   "metadata": {},
   "outputs": [],
   "source": [
    "from sklearn.linear_model import SGDClassifier\n",
    "import torch\n",
    "import warnings\n",
    "warnings.filterwarnings('ignore')\n",
    "\n",
    "# !pip install statsmodels\n",
    "import statsmodels.api as sm"
   ]
  },
  {
   "cell_type": "code",
   "execution_count": 86,
   "metadata": {},
   "outputs": [
    {
     "data": {
      "text/plain": [
       "(1780, 2000)"
      ]
     },
     "execution_count": 86,
     "metadata": {},
     "output_type": "execute_result"
    }
   ],
   "source": [
    "X.shape"
   ]
  },
  {
   "cell_type": "code",
   "execution_count": 94,
   "metadata": {},
   "outputs": [
    {
     "data": {
      "text/plain": [
       "0    904\n",
       "1    876\n",
       "dtype: int64"
      ]
     },
     "execution_count": 94,
     "metadata": {},
     "output_type": "execute_result"
    }
   ],
   "source": [
    "pd.DataFrame(Y).value_counts()"
   ]
  },
  {
   "cell_type": "code",
   "execution_count": 95,
   "metadata": {},
   "outputs": [
    {
     "data": {
      "text/plain": [
       "1    733\n",
       "0    687\n",
       "2    360\n",
       "dtype: int64"
      ]
     },
     "execution_count": 95,
     "metadata": {},
     "output_type": "execute_result"
    }
   ],
   "source": [
    "pd.DataFrame(Yr).value_counts()"
   ]
  },
  {
   "cell_type": "code",
   "execution_count": 149,
   "metadata": {},
   "outputs": [
    {
     "data": {
      "text/plain": [
       "array([-6.68045115e-15, -1.45689768e-01,  9.65262612e-01, ...,\n",
       "        7.35307634e-01,  0.00000000e+00,  8.70178125e-02])"
      ]
     },
     "execution_count": 149,
     "metadata": {},
     "output_type": "execute_result"
    }
   ],
   "source": [
    "# simulated target matrix, Y\n",
    "rng = np.random.RandomState(7)\n",
    "Y = rng.randint(0,2, X.shape[0]).reshape(-1,1)\n",
    "\n",
    "def getCriterion(X, Y, get_coefs=False) -> np.ndarray:\n",
    "    \"\"\" Feature selection criterion\n",
    "    Args:\n",
    "        X (np.ndarray, 2D): feature matrix\n",
    "        Y (np.ndarray, 2D): target matrix\n",
    "        get_coefs (bool, optional):  Defaults to False.\n",
    "    Returns:\n",
    "        \n",
    "    \"\"\"\n",
    "    global ps, coefs\n",
    "    items, coefs, ps = [], [], []\n",
    "    try:\n",
    "        # for each column of X\n",
    "        for row in X.T:\n",
    "            x = row.reshape(-1, 1)\n",
    "            \n",
    "            if get_coefs:\n",
    "                # Calculate classification coefficients\n",
    "                # model = SGDClassifier(loss='log') # logit model\n",
    "                model = SGDClassifier(loss='hinge') # SVM classifier\n",
    "                model.fit(x, Y)\n",
    "                y_pred = model.predict(x)\n",
    "                items.append(y_pred)\n",
    "                coefs.append(model.coef_[0,0])\n",
    "\n",
    "            else:\n",
    "                # Calculate p-values from logit model\n",
    "                # sm_model = sm.Logit(Y, sm.add_constant(x)).fit(disp=0)\n",
    "                sm_model = sm.MNLogit(Y, sm.add_constant(x)).fit(disp=0)\n",
    "                ps.append(sm_model.pvalues[1])\n",
    "            \n",
    "            \n",
    "    except KeyboardInterrupt:\n",
    "        ps = np.array(ps)\n",
    "        print(\"stopped\")\n",
    "    \n",
    "    if get_coefs:\n",
    "        return (coefs:= np.array(coefs))\n",
    "    else:\n",
    "        return (ps:= np.array(ps))\n",
    "        \n",
    "getCriterion(X, Yr, get_coefs=True)"
   ]
  },
  {
   "cell_type": "code",
   "execution_count": 150,
   "metadata": {},
   "outputs": [
    {
     "data": {
      "image/png": "[encoded data removed]",
      "text/plain": [
       "<Figure size 432x288 with 1 Axes>"
      ]
     },
     "metadata": {
      "needs_background": "light"
     },
     "output_type": "display_data"
    }
   ],
   "source": [
    "plt.hist(coefs);"
   ]
  },
  {
   "cell_type": "code",
   "execution_count": 151,
   "metadata": {},
   "outputs": [
    {
     "data": {
      "text/plain": [
       "torch.return_types.topk(\n",
       "values=tensor([1.5556, 1.4797, 1.3112, 1.2897, 1.2868, 1.2638, 1.2466, 1.1802, 1.1655,\n",
       "        1.1437, 1.1379, 1.1111, 1.1098, 1.1080, 1.0814, 1.0680, 1.0352, 1.0352,\n",
       "        1.0192, 1.0192, 1.0086, 1.0044, 1.0044, 1.0000, 0.9864, 0.9864, 0.9835,\n",
       "        0.9806, 0.9695, 0.9653, 0.9538, 0.9538, 0.9479, 0.9462, 0.9450, 0.9255,\n",
       "        0.9240, 0.9191, 0.9068, 0.8839, 0.8741, 0.8741, 0.8717, 0.8717, 0.8631,\n",
       "        0.8627, 0.8520, 0.8520, 0.8460, 0.8460, 0.8460, 0.8460, 0.8460, 0.8446,\n",
       "        0.8370, 0.8310, 0.8268, 0.8153, 0.8128, 0.8110, 0.8098, 0.8098, 0.8089,\n",
       "        0.8089, 0.7920, 0.7920, 0.7920, 0.7920, 0.7899, 0.7868, 0.7778, 0.7778,\n",
       "        0.7738, 0.7675, 0.7675, 0.7627, 0.7627, 0.7602, 0.7602, 0.7564, 0.7564,\n",
       "        0.7564, 0.7482, 0.7398, 0.7375, 0.7353, 0.7353, 0.7342, 0.7301, 0.7284,\n",
       "        0.7284, 0.7239, 0.7239, 0.7153, 0.7120, 0.7120, 0.7120, 0.7120, 0.7087,\n",
       "        0.7087]),\n",
       "indices=tensor([1906, 1254,  487, 1163, 1116,  937, 1905,  484, 1160, 1061,  134, 1904,\n",
       "        1780,  249, 1283, 1334,  809,   70, 1023,  623, 1399,  378, 1170, 1472,\n",
       "         537, 1696, 1313,  180, 1421,    2, 1268,   83, 1606,  945, 1435,  798,\n",
       "         834,  367, 1528, 1207,  204, 1328,  232,  552,  402, 1333, 1252, 1877,\n",
       "        1832,  928,  683,  509,  345, 1768, 1346,  660, 1954,  569,  131,  140,\n",
       "         361,  148,  528, 1871, 1437,  137, 1297,  244,   44,  611,  292,  811,\n",
       "         704,  349,  486, 1350, 1901,  885,  741,  570, 1876,  693,  865, 1973,\n",
       "        1522, 1997,  896,  260,  705, 1224, 1360, 1821, 1737, 1147, 1822,  833,\n",
       "        1847,  524, 1205,  969]))"
      ]
     },
     "execution_count": 151,
     "metadata": {},
     "output_type": "execute_result"
    }
   ],
   "source": [
    "torch.topk(torch.Tensor(coefs), k=100)"
   ]
  },
  {
   "cell_type": "code",
   "execution_count": 146,
   "metadata": {},
   "outputs": [
    {
     "data": {
      "text/plain": [
       "(1780, 200)"
      ]
     },
     "execution_count": 146,
     "metadata": {},
     "output_type": "execute_result"
    }
   ],
   "source": [
    "from sklearn.feature_selection import SelectKBest, chi2\n",
    "\n",
    "X_dummy = SelectKBest(chi2, k=200).fit_transform(X, Y)\n",
    "X_dummy.shape"
   ]
  },
  {
   "cell_type": "markdown",
   "metadata": {},
   "source": [
    "- Jie Yuan1:26 PM https://stats.idre.ucla.edu/other/mult-pkg/faq/general/faq-what-are-pseudo-r-squareds/\n",
    "- Jie Yuan1:30 PM https://stackoverflow.com/questions/25122999/scikit-learn-how-to-check-coefficients-significance\n",
    "- McKelvey & Zavoina https://stats.idre.ucla.edu/other/mult-pkg/faq/general/faq-what-are-pseudo-r-squareds/"
   ]
  },
  {
   "cell_type": "code",
   "execution_count": 256,
   "metadata": {},
   "outputs": [
    {
     "data": {
      "text/plain": [
       "0.09355327625915083"
      ]
     },
     "execution_count": 256,
     "metadata": {},
     "output_type": "execute_result"
    },
    {
     "data": {
      "image/png": "[encoded data removed]",
      "text/plain": [
       "<Figure size 432x288 with 1 Axes>"
      ]
     },
     "metadata": {
      "needs_background": "light"
     },
     "output_type": "display_data"
    }
   ],
   "source": [
    "ps = np.abs(ps)\n",
    "plt.hist(ps);\n",
    "np.percentile(np.abs(coefs), 25)"
   ]
  },
  {
   "cell_type": "code",
   "execution_count": 258,
   "metadata": {},
   "outputs": [
    {
     "data": {
      "text/plain": [
       "<seaborn.axisgrid.JointGrid at 0x2a43a6998b0>"
      ]
     },
     "execution_count": 258,
     "metadata": {},
     "output_type": "execute_result"
    },
    {
     "data": {
      "image/png": "[encoded data removed]",
      "text/plain": [
       "<Figure size 432x432 with 3 Axes>"
      ]
     },
     "metadata": {},
     "output_type": "display_data"
    }
   ],
   "source": [
    "import seaborn as sns; sns.set()\n",
    "\n",
    "sns.jointplot(ps, coefs, kind=\"scatter\")"
   ]
  },
  {
   "cell_type": "code",
   "execution_count": 257,
   "metadata": {},
   "outputs": [
    {
     "data": {
      "text/plain": [
       "0.09355327625915083"
      ]
     },
     "execution_count": 257,
     "metadata": {},
     "output_type": "execute_result"
    },
    {
     "data": {
      "image/png": "[encoded data removed]",
      "text/plain": [
       "<Figure size 432x288 with 1 Axes>"
      ]
     },
     "metadata": {
      "needs_background": "light"
     },
     "output_type": "display_data"
    }
   ],
   "source": [
    "coefs = np.abs(coefs)\n",
    "plt.hist(coefs);\n",
    "np.percentile(np.abs(coefs), 25)"
   ]
  }
 ],
 "metadata": {
  "kernelspec": {
   "display_name": "Python (ds_env)",
   "language": "python",
   "name": "ds_env"
  },
  "language_info": {
   "codemirror_mode": {
    "name": "ipython",
    "version": 3
   },
   "file_extension": ".py",
   "mimetype": "text/x-python",
   "name": "python",
   "nbconvert_exporter": "python",
   "pygments_lexer": "ipython3",
   "version": "3.8.5"
  }
 },
 "nbformat": 4,
 "nbformat_minor": 4
}
