{
 "cells": [
  {
   "cell_type": "markdown",
   "metadata": {
    "toc": true
   },
   "source": [
    "<h1>Contents<span class=\"tocSkip\"></span></h1>\n",
    "<div class=\"toc\"><ul class=\"toc-item\"><li><span><a href=\"#TODO:\" data-toc-modified-id=\"TODO:-1\"><span class=\"toc-item-num\">1&nbsp;&nbsp;</span>TODO:</a></span></li><li><span><a href=\"#main()\" data-toc-modified-id=\"main()-2\"><span class=\"toc-item-num\">2&nbsp;&nbsp;</span><code>main()</code></a></span></li><li><span><a href=\"#post-main()\" data-toc-modified-id=\"post-main()-3\"><span class=\"toc-item-num\">3&nbsp;&nbsp;</span>post-<code>main()</code></a></span></li><li><span><a href=\"#ML-Stuff\" data-toc-modified-id=\"ML-Stuff-4\"><span class=\"toc-item-num\">4&nbsp;&nbsp;</span>ML Stuff</a></span></li><li><span><a href=\"#References-&amp;-Further-Reading:\" data-toc-modified-id=\"References-&amp;-Further-Reading:-5\"><span class=\"toc-item-num\">5&nbsp;&nbsp;</span>References &amp; Further Reading:</a></span></li></ul></div>"
   ]
  },
  {
   "cell_type": "code",
   "execution_count": 3,
   "metadata": {},
   "outputs": [],
   "source": [
    "# import PyTorch\n",
    "import torch\n",
    "\n",
    "# standard DS stack\n",
    "import numpy as np\n",
    "import matplotlib.pyplot as plt\n",
    "import seaborn as sns; sns.set()\n",
    "import pandas as pd\n",
    "# embed static images in the ipynb\n",
    "%matplotlib inline \n",
    "\n",
    "# neural network package\n",
    "import torch.nn as nn \n",
    "import torch.nn.functional as F\n",
    "\n",
    "from sklearn import linear_model\n",
    "import sklearn.preprocessing\n",
    "import warnings\n",
    "warnings.filterwarnings('ignore')\n",
    "\n",
    "# !pip install statsmodels\n",
    "import statsmodels.api as sm\n",
    "\n",
    "import os\n",
    "import time\n",
    "from IPython.display import clear_output\n",
    "import preprocessing\n",
    "import ml_models\n",
    "import neural_networks"
   ]
  },
  {
   "cell_type": "markdown",
   "metadata": {},
   "source": [
    "- NN paper:\n",
    "  - SNPs (number of features) - between 350 and 20,000\n",
    "  - sample size (number of mice) - between 10,000 and 65,000\n",
    "  \n",
    "## TODO:\n",
    "1. **Combined dataset**  \n",
    "  - [x] Compare the SNP names from the Charles and Harlan Rivers to find out how much they overlap.\n",
    "  - [x] Create a combined dataset for the overlapping SNPs in data/both/. \n",
    "  - [ ] Save the target matrix for the combined dataset as \"targets.csv\" \n",
    "  - [ ] (optional) Check the coefficient distribution for the combined dataset, i.e. are the top 100 coefs from \"C\" in the top 200-1000 for \"both\"?\n",
    "\n",
    "1. **GANs setup**\n",
    "  - Train your GANs on the top 100.\n",
    "\n",
    "1. **NNs**\n",
    "  - [x] Implement dataloader.\n",
    "  - [x] Implement MLP architecture.\n",
    "  - [x] Implement training\n",
    "\n",
    "1. **Evaluate Models**\n",
    "  - [ ] Evaluate each model on without added samples\n",
    "  - [ ] Evaluate each model with added samples\n",
    "\n",
    "---"
   ]
  },
  {
   "cell_type": "code",
   "execution_count": 19,
   "metadata": {},
   "outputs": [
    {
     "output_type": "stream",
     "name": "stdout",
     "text": [
      "Batch: 0.\tTime (s): 2.1.\tSNPs/s: 0.0\n",
      "Batch: 5.\tTime (s): 9.4.\tSNPs/s: 2482.6\n",
      "Batch: 10.\tTime (s): 19.8.\tSNPs/s: 2369.8\n",
      "Batch: 15.\tTime (s): 27.1.\tSNPs/s: 2590.2\n",
      "(1780, 56156) (56156,)\n",
      "Batch: 0.\tTime (s): 2.0.\tSNPs/s: 0.0\n",
      "Batch: 5.\tTime (s): 14.9.\tSNPs/s: 1455.0\n",
      "Batch: 10.\tTime (s): 32.7.\tSNPs/s: 1330.4\n",
      "Batch: 15.\tTime (s): 48.1.\tSNPs/s: 1354.9\n",
      "(2281, 52113) (52113,)\n",
      "cardinality(overlap): 25869\n",
      "Saving X ...\n"
     ]
    }
   ],
   "source": [
    "def save_X():\n",
    "    pp = preprocessing.Preprocessing()\n",
    "    Xs, SNP_names = {}, {}\n",
    "    Xs[\"C\"], SNP_names[\"C\"] = pp.split_X(\"C\", splits = 20, pct = 0.6)\n",
    "    print(Xs[\"C\"].shape, SNP_names[\"C\"].shape)\n",
    "    Xs[\"C\"] = pd.DataFrame(Xs[\"C\"], columns=SNP_names[\"C\"])\n",
    "    Xs[\"H\"], SNP_names[\"H\"] = pp.split_X(\"H\", splits = 20, pct = 0.6)\n",
    "    print(Xs[\"H\"].shape, SNP_names[\"H\"].shape)\n",
    "    Xs[\"H\"] = pd.DataFrame(Xs[\"H\"], columns=SNP_names[\"H\"])\n",
    "\n",
    "    overlap = set(SNP_names[\"C\"]).intersection(set(SNP_names[\"H\"]))\n",
    "    print(f\"cardinality(overlap): {len(overlap)}\")\n",
    "    Xs[\"C\"] = Xs[\"C\"][list(overlap)]\n",
    "    Xs[\"H\"] = Xs[\"H\"][list(overlap)]\n",
    "\n",
    "    print(\"Saving X ...\")\n",
    "    X = pd.concat([Xs[\"C\"], Xs[\"H\"]])\n",
    "    X.to_csv(\"data/X.csv\", index=False)\n",
    "\n",
    "save_X()"
   ]
  },
  {
   "cell_type": "code",
   "execution_count": 11,
   "metadata": {},
   "outputs": [],
   "source": []
  },
  {
   "cell_type": "code",
   "execution_count": 17,
   "metadata": {},
   "outputs": [
    {
     "output_type": "stream",
     "name": "stdout",
     "text": [
      "Saving X ...\n"
     ]
    }
   ],
   "source": []
  },
  {
   "cell_type": "markdown",
   "metadata": {},
   "source": [
    "---"
   ]
  },
  {
   "cell_type": "markdown",
   "metadata": {},
   "source": [
    "--- \n",
    "\n",
    "## post-`main()`"
   ]
  },
  {
   "cell_type": "code",
   "execution_count": 210,
   "metadata": {},
   "outputs": [
    {
     "name": "stdout",
     "output_type": "stream",
     "text": [
      "Wall time: 0 ns\n"
     ]
    },
    {
     "data": {
      "text/plain": [
       "((1780, 100), (21491,))"
      ]
     },
     "execution_count": 210,
     "metadata": {},
     "output_type": "execute_result"
    }
   ],
   "source": [
    "# Perform the analysis with SNPs selected from SelectKBest.\n",
    "\n",
    "%time \n",
    "from sklearn.feature_selection import SelectKBest, chi2\n",
    "selectk = SelectKBest(chi2, k=100)\n",
    "\n",
    "X_dummy = selectk.fit_transform(X_r, Y)\n",
    "X_dummy.shape, selectk.scores_"
   ]
  },
  {
   "cell_type": "code",
   "execution_count": 220,
   "metadata": {},
   "outputs": [
    {
     "data": {
      "text/plain": [
       "torch.return_types.topk(\n",
       "values=tensor([16.4646, 16.2303, 16.2303, 15.8967, 15.6809, 15.6047, 15.6047, 15.5528,\n",
       "        15.4021, 13.8975, 13.8662, 13.5612, 13.3569, 13.3569, 13.1151, 12.9964,\n",
       "        12.9187, 12.6300, 12.5502, 12.3182, 12.0947, 12.0738, 12.0590, 12.0514,\n",
       "        11.9404, 11.9239, 11.8714, 11.8288, 11.7775, 11.5188, 11.4483, 11.4479,\n",
       "        11.4269, 11.3765, 11.3754, 11.3754, 11.0688, 11.0688, 10.9905, 10.9341,\n",
       "        10.9100, 10.9053, 10.8866, 10.8635, 10.8580, 10.7840, 10.7840, 10.7840,\n",
       "        10.7542, 10.7375, 10.7150, 10.7121, 10.7074, 10.6794, 10.6397, 10.6397,\n",
       "        10.6325, 10.6045, 10.5636, 10.5636, 10.5633, 10.4765, 10.4699, 10.4582,\n",
       "        10.4493, 10.4434, 10.4314, 10.3176, 10.1845, 10.1309, 10.1106, 10.0951,\n",
       "        10.0496, 10.0417, 10.0224,  9.9342,  9.9319,  9.9252,  9.8783,  9.8372,\n",
       "         9.8041,  9.7947,  9.7889,  9.7600,  9.7600,  9.7355,  9.7343,  9.7343,\n",
       "         9.7257,  9.6761,  9.6577,  9.6470,  9.5917,  9.5916,  9.5811,  9.5563,\n",
       "         9.5467,  9.5334,  9.5243,  9.4958]),\n",
       "indices=tensor([10036,  3322,  3341,  3328, 15708,  1300,  1432,  1290, 10721,  3070,\n",
       "        19152,  5031,  4971,  4988, 17551,  8634,  6635,  6498, 15840,  5405,\n",
       "         9503, 19954,  6553,  8520, 14495,  2605,   905, 12432, 15675,    29,\n",
       "         5465, 10700,  3375,  7941,  7764,  7863, 14835, 14888,  5052, 17042,\n",
       "           52, 20904,  4899, 20103, 13169,  3387,  3271,  3272, 15737, 15700,\n",
       "        11352, 17826,  7794,  5567, 12314, 12336, 19377, 10170,  7066,  6946,\n",
       "         7844,  4741,  3389, 19478,  3334,  5388,  4495,  4866,  5332, 17192,\n",
       "        18473,  2214, 15044,  5144,  7798,   272,  7785,  5235,  6659,  7842,\n",
       "        16291,  4496, 16164, 12263, 12265,  5177,  2263,  2171,  9516,   391,\n",
       "        12347, 20613, 14221,  5090,  6537,  8552, 20545, 16318,   994, 19942]))"
      ]
     },
     "execution_count": 220,
     "metadata": {},
     "output_type": "execute_result"
    }
   ],
   "source": [
    "torch.topk(torch.Tensor(selectk.scores_), 100)"
   ]
  },
  {
   "cell_type": "code",
   "execution_count": 218,
   "metadata": {},
   "outputs": [
    {
     "data": {
      "text/plain": [
       "torch.return_types.topk(\n",
       "values=tensor([16.4646, 16.2303, 16.2303, 15.8967, 15.6809, 15.6047, 15.6047, 15.5528,\n",
       "        15.4021, 13.8975, 13.8662, 13.5612, 13.3569, 13.3569, 13.1151, 12.9964,\n",
       "        12.9187, 12.6300, 12.5502, 12.3182, 12.0947, 12.0738, 12.0590, 12.0514,\n",
       "        11.9404, 11.9239, 11.8714, 11.8288, 11.7775, 11.5188, 11.4483, 11.4479,\n",
       "        11.4269, 11.3765, 11.3754, 11.3754, 11.0688, 11.0688, 10.9905, 10.9341,\n",
       "        10.9100, 10.9053, 10.8866, 10.8635, 10.8580, 10.7840, 10.7840, 10.7840,\n",
       "        10.7542, 10.7375, 10.7150, 10.7121, 10.7074, 10.6794, 10.6397, 10.6397,\n",
       "        10.6325, 10.6045, 10.5636, 10.5636, 10.5633, 10.4765, 10.4699, 10.4582,\n",
       "        10.4493, 10.4434, 10.4314, 10.3176, 10.1845, 10.1309, 10.1106, 10.0951,\n",
       "        10.0496, 10.0417, 10.0224,  9.9342,  9.9319,  9.9252,  9.8783,  9.8372,\n",
       "         9.8041,  9.7947,  9.7889,  9.7600,  9.7600,  9.7355,  9.7343,  9.7343,\n",
       "         9.7257,  9.6761,  9.6577,  9.6470,  9.5917,  9.5916,  9.5811,  9.5563,\n",
       "         9.5467,  9.5334,  9.5243,  9.4958]),\n",
       "indices=tensor([10036,  3322,  3341,  3328, 15708,  1300,  1432,  1290, 10721,  3070,\n",
       "        19152,  5031,  4971,  4988, 17551,  8634,  6635,  6498, 15840,  5405,\n",
       "         9503, 19954,  6553,  8520, 14495,  2605,   905, 12432, 15675,    29,\n",
       "         5465, 10700,  3375,  7941,  7764,  7863, 14835, 14888,  5052, 17042,\n",
       "           52, 20904,  4899, 20103, 13169,  3387,  3271,  3272, 15737, 15700,\n",
       "        11352, 17826,  7794,  5567, 12314, 12336, 19377, 10170,  7066,  6946,\n",
       "         7844,  4741,  3389, 19478,  3334,  5388,  4495,  4866,  5332, 17192,\n",
       "        18473,  2214, 15044,  5144,  7798,   272,  7785,  5235,  6659,  7842,\n",
       "        16291,  4496, 16164, 12263, 12265,  5177,  2263,  2171,  9516,   391,\n",
       "        12347, 20613, 14221,  5090,  6537,  8552, 20545, 16318,   994, 19942]))"
      ]
     },
     "execution_count": 218,
     "metadata": {},
     "output_type": "execute_result"
    }
   ],
   "source": [
    "torch.topk(torch.Tensor(chi2_stats), 100)"
   ]
  },
  {
   "cell_type": "code",
   "execution_count": 223,
   "metadata": {},
   "outputs": [
    {
     "data": {
      "text/plain": [
       "array(['chr7.29631577', 'chr2.145686126', 'chr2.145743050',\n",
       "       'chr2.144811756', 'chr13.46775590', 'chr1.196721088',\n",
       "       'chr1.196721085', 'chr1.196721089', 'chr7.110434734',\n",
       "       'chr2.108960762', 'chr17.22777658', 'chr3.104950986',\n",
       "       'chr3.104990952', 'chr3.104991105', 'chr15.14899164',\n",
       "       'chr6.39478341', 'chr4.119528150', 'chr4.118967275',\n",
       "       'chr13.46784040', 'chr3.143256926', 'chr6.130924586',\n",
       "       'chr18.13497419', 'chr4.119363345', 'chr6.6674844',\n",
       "       'chr11.33028547', 'chr2.43248723', 'chr1.132793881',\n",
       "       'chr9.40597849', 'chr12.49835217', 'chr1.19942050',\n",
       "       'chr3.142909318', 'chr7.110496699', 'chr2.143772703',\n",
       "       'chr5.99313779', 'chr5.96661534', 'chr5.96661537',\n",
       "       'chr11.75034553', 'chr11.75034575', 'chr3.103333129',\n",
       "       'chr14.72625273', 'chr1.19942048', 'chr20.5368892',\n",
       "       'chr3.68664801', 'chr18.26857012', 'chr9.116352923',\n",
       "       'chr2.143817940', 'chr2.143822315', 'chr2.143821170',\n",
       "       'chr13.46746378', 'chr13.46818894', 'chr8.51523137',\n",
       "       'chr15.36249080', 'chr5.97384376', 'chr3.143212486',\n",
       "       'chr9.36755184', 'chr9.36755134', 'chr17.36926663',\n",
       "       'chr7.67214102', 'chr4.171707733', 'chr4.171707641',\n",
       "       'chr5.96905834', 'chr3.68649676', 'chr2.145317036',\n",
       "       'chr17.22920424', 'chr2.144733105', 'chr3.145044482',\n",
       "       'chr3.16365216', 'chr3.68749082', 'chr3.139665185',\n",
       "       'chr14.72619764', 'chr16.2706085', 'chr2.6203968',\n",
       "       'chr11.74622783', 'chr3.104537571', 'chr5.95887867',\n",
       "       'chr1.53168329', 'chr5.97285180', 'chr3.139559088',\n",
       "       'chr4.118769841', 'chr5.97382427', 'chr13.77646381',\n",
       "       'chr3.12148776', 'chr13.78064083', 'chr9.39811771',\n",
       "       'chr9.39811755', 'chr3.124167777', 'chr2.7694369', 'chr2.7694461',\n",
       "       'chr6.131088208', 'chr1.52440739', 'chr9.36862967',\n",
       "       'chr18.84669450', 'chr10.102894506', 'chr3.103010344',\n",
       "       'chr4.119044499', 'chr6.4744373', 'chr18.84663583',\n",
       "       'chr13.77798834', 'chr1.134526662', 'chr17.88547268'], dtype='<U15')"
      ]
     },
     "execution_count": 223,
     "metadata": {},
     "output_type": "execute_result"
    }
   ],
   "source": [
    "SNP_names[np.array(torch.topk(torch.Tensor(chi2_stats), 100)[1])]"
   ]
  },
  {
   "cell_type": "code",
   "execution_count": 224,
   "metadata": {},
   "outputs": [
    {
     "data": {
      "text/plain": [
       "array([[0., 0., 0., ..., 0., 0., 0.],\n",
       "       [0., 0., 0., ..., 1., 1., 0.],\n",
       "       [0., 0., 0., ..., 2., 2., 0.],\n",
       "       ...,\n",
       "       [0., 0., 0., ..., 1., 1., 0.],\n",
       "       [0., 0., 1., ..., 0., 0., 0.],\n",
       "       [0., 0., 0., ..., 1., 1., 0.]])"
      ]
     },
     "execution_count": 224,
     "metadata": {},
     "output_type": "execute_result"
    }
   ],
   "source": [
    "X_dummy"
   ]
  },
  {
   "cell_type": "code",
   "execution_count": 214,
   "metadata": {},
   "outputs": [
    {
     "data": {
      "text/plain": [
       "array([[0., 0., 0., ..., 0., 0., 0.],\n",
       "       [0., 0., 0., ..., 0., 0., 0.],\n",
       "       [0., 0., 0., ..., 1., 0., 0.],\n",
       "       ...,\n",
       "       [0., 0., 0., ..., 1., 0., 0.],\n",
       "       [0., 0., 0., ..., 0., 0., 0.],\n",
       "       [0., 0., 0., ..., 0., 0., 0.]])"
      ]
     },
     "execution_count": 214,
     "metadata": {},
     "output_type": "execute_result"
    }
   ],
   "source": [
    "chi2_stats, p_vals = chi2(X_r, Y)\n",
    "chi2_stats, p_vals\n",
    "X_r.values[:, np.array(torch.topk(torch.Tensor(chi2_stats), 100)[1])]"
   ]
  },
  {
   "cell_type": "code",
   "execution_count": 197,
   "metadata": {},
   "outputs": [
    {
     "data": {
      "text/plain": [
       "array([[0., 0., 0., ..., 0., 0., 0.],\n",
       "       [0., 0., 0., ..., 1., 1., 0.],\n",
       "       [0., 0., 0., ..., 2., 2., 0.],\n",
       "       ...,\n",
       "       [0., 0., 0., ..., 1., 1., 0.],\n",
       "       [0., 0., 1., ..., 0., 0., 0.],\n",
       "       [0., 0., 0., ..., 1., 1., 0.]])"
      ]
     },
     "execution_count": 197,
     "metadata": {},
     "output_type": "execute_result"
    }
   ],
   "source": [
    "X_dummy"
   ]
  },
  {
   "cell_type": "markdown",
   "metadata": {},
   "source": [
    "## ML Stuff "
   ]
  },
  {
   "cell_type": "code",
   "execution_count": 269,
   "metadata": {},
   "outputs": [
    {
     "name": "stdout",
     "output_type": "stream",
     "text": [
      "Accuracy: 0.44697 (0.07058)\n",
      "\n",
      "Confusion matrix:\n",
      "[[144  54  19]\n",
      " [100  95  12]\n",
      " [ 40  44  26]]\n",
      "\n",
      "Classification report:\n",
      "              precision    recall  f1-score   support\n",
      "\n",
      "           0       0.51      0.66      0.57       217\n",
      "           1       0.49      0.46      0.47       207\n",
      "           2       0.46      0.24      0.31       110\n",
      "\n",
      "    accuracy                           0.50       534\n",
      "   macro avg       0.49      0.45      0.45       534\n",
      "weighted avg       0.49      0.50      0.48       534\n",
      "\n"
     ]
    },
    {
     "data": {
      "image/png": "[encoded data removed]",
      "text/plain": [
       "<Figure size 1008x1296 with 2 Axes>"
      ]
     },
     "metadata": {
      "needs_background": "light"
     },
     "output_type": "display_data"
    }
   ],
   "source": [
    "from sklearn.ensemble import RandomForestClassifier\n",
    "from sklearn.model_selection import train_test_split\n",
    "from sklearn import metrics\n",
    "from sklearn.model_selection import KFold\n",
    "from sklearn.model_selection import cross_val_score\n",
    "from sklearn.metrics import classification_report\n",
    "from sklearn.metrics import confusion_matrix\n",
    "from sklearn.metrics import accuracy_score\n",
    "\n",
    "def mlmodel(X, Y):\n",
    "    X_train, X_test, Y_train, Y_test = train_test_split(\n",
    "        X.astype(float), Y, test_size=0.3, random_state=7)\n",
    "    model = SGDClassifier(loss='hinge')\n",
    "    # model = RandomForestClassifier()\n",
    "    model.fit(X_train, Y_train)\n",
    "    Y_pred = model.predict(X_test)\n",
    "    \n",
    "    kfold = KFold(n_splits=15)\n",
    "    cv_results = cross_val_score(model, X_train, Y_train, cv=kfold, scoring='accuracy')\n",
    "    accuracy = metrics.accuracy_score(Y_test, Y_pred)\n",
    "    print(f\"Accuracy: {cv_results.mean():.5f} ({cv_results.std():.5f})\\n\"\n",
    "          + f\"\\nConfusion matrix:\\n{confusion_matrix(Y_test, Y_pred)}\\n\"\n",
    "          + f\"\\nClassification report:\\n{classification_report(Y_test, Y_pred)}\")\n",
    "    \n",
    "    fig, ax = plt.subplots(1, 2, figsize=(14, 2*9))\n",
    "    ax[0].hist(Y_pred.astype(int), color='#1f77b4', label=\"Y_pred\")\n",
    "    ax[1].hist(Y_test.astype(int), color='cyan', label=\"True\")\n",
    "    \n",
    "    for a in ax:\n",
    "        a.set(xlabel=\"Phenotype (Y)\")\n",
    "        a.legend()\n",
    "    plt.show()\n",
    "    \n",
    "mlmodel(X_dummy, Y)"
   ]
  },
  {
   "cell_type": "markdown",
   "metadata": {},
   "source": [
    "## References & Further Reading:\n",
    "\n",
    "- Jie Yuan1:26 PM https://stats.idre.ucla.edu/other/mult-pkg/faq/general/faq-what-are-pseudo-r-squareds/\n",
    "- Jie Yuan1:30 PM https://stackoverflow.com/questions/25122999/scikit-learn-how-to-check-coefficients-significance\n",
    "- McKelvey & Zavoina https://stats.idre.ucla.edu/other/mult-pkg/faq/general/faq-what-are-pseudo-r-squareds/"
   ]
  }
 ],
 "metadata": {
  "kernelspec": {
   "display_name": "Python 3",
   "language": "python",
   "name": "python3"
  },
  "language_info": {
   "codemirror_mode": {
    "name": "ipython",
    "version": 3
   },
   "file_extension": ".py",
   "mimetype": "text/x-python",
   "name": "python",
   "nbconvert_exporter": "python",
   "pygments_lexer": "ipython3",
   "version": "3.8.5-final"
  },
  "toc": {
   "base_numbering": 1,
   "nav_menu": {},
   "number_sections": true,
   "sideBar": true,
   "skip_h1_title": true,
   "title_cell": "Contents",
   "title_sidebar": "Contents",
   "toc_cell": true,
   "toc_position": {},
   "toc_section_display": true,
   "toc_window_display": false
  }
 },
 "nbformat": 4,
 "nbformat_minor": 4
}