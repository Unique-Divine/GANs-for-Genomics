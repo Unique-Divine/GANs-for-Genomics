{
 "cells": [
  {
   "cell_type": "code",
   "execution_count": 53,
   "metadata": {},
   "outputs": [],
   "source": [
    "# import PyTorch\n",
    "import torch\n",
    "\n",
    "# standard DS stack\n",
    "import numpy as np\n",
    "import matplotlib.pyplot as plt\n",
    "import seaborn as sns; sns.set()\n",
    "import pandas as pd\n",
    "# embed static images in the ipynb\n",
    "%matplotlib inline \n",
    "\n",
    "# neural network package\n",
    "import torch.nn as nn \n",
    "import torch.nn.functional as F\n",
    "\n",
    "from sklearn.linear_model import SGDClassifier\n",
    "from sklearn.preprocessing import StandardScaler\n",
    "import warnings\n",
    "warnings.filterwarnings('ignore')\n",
    "\n",
    "# !pip install statsmodels\n",
    "import statsmodels.api as sm\n",
    "\n",
    "import time\n",
    "from IPython.display import clear_output"
   ]
  },
  {
   "cell_type": "code",
   "execution_count": 54,
   "metadata": {},
   "outputs": [],
   "source": [
    "def varAnalysis(X, verbose=False):\n",
    "    V = np.var(X, axis=0)\n",
    "    V_avg, V_std = np.mean(V), np.std(V)\n",
    "    V_max, V_min = np.max(V), np.min(V)\n",
    "    \n",
    "    if verbose == True:\n",
    "        print(f\"V_avg: {np.mean(V):.3f}\")    \n",
    "        print(f\"V_std: {np.std(V):.3f}\")\n",
    "        print(f\"V_max: {np.max(V):.3f}\")\n",
    "        print(f\"V_min: {np.min(V):.3f}\")\n",
    "    \n",
    "    return V_avg, V_std, V_max, V_min\n",
    "\n",
    "def plot_V_info(V_info):\n",
    "    \"\"\"[summary]\n",
    "\n",
    "    Args:\n",
    "        V_info (dict[np.ndarray]): [description]\n",
    "    \"\"\"\n",
    "    global fig, ax\n",
    "    figscale, defaultSize = 2, np.array([8, 6])\n",
    "    fig, ax = plt.subplots(nrows=2, ncols=2 ,figsize=figscale*defaultSize)\n",
    "    plt.tight_layout()\n",
    "    plt.subplots_adjust(wspace=0.1, hspace=0.4, left = 0.1, right = 0.7, bottom = 0.1, top = 0.9) \n",
    "    \n",
    "    ax[0,0].hist(V_info[\"avg\"])\n",
    "    ax[0,0].set(xlabel=\"V_avg\", ylabel=\"batches\", title=\"Avg(Var)\")\n",
    "    \n",
    "    ax[1,0].hist(V_info[\"std\"])\n",
    "    ax[1,0].set(xlabel=\"V_std\", ylabel=\"batches\", title=\"Std(Var)\")\n",
    "\n",
    "    ax[0,1].hist(V_info[\"max\"])\n",
    "    ax[0,1].set(xlabel=\"V_max\", ylabel=\"batches\", title=\"Max(Var)\")\n",
    "\n",
    "    ax[1,1].hist(V_info[\"min\"])\n",
    "    ax[1,1].set(xlabel=\"V_min\", ylabel=\"batches\", title=\"Min(Var)\")\n",
    "    plt.show()"
   ]
  },
  {
   "cell_type": "markdown",
   "metadata": {},
   "source": [
    "----\n",
    "\n",
    "## Process Targets\n",
    "\n",
    "The mice were scored on a test and grouped into 3 categories: GT, IR, and ST. GT was the worst and ST was the best."
   ]
  },
  {
   "cell_type": "code",
   "execution_count": 59,
   "metadata": {},
   "outputs": [],
   "source": [
    "def getTargets():\n",
    "    \"\"\"Retrives the target matrix from \"targets.csv\".\n",
    "\n",
    "    Returns:\n",
    "        Y (np.ndarray): Phenotype values to be predicted by ML model. \n",
    "        names (np.ndarray): The names of the rats.\n",
    "    \"\"\"\n",
    "    df = pd.read_csv(\"targets.csv\")\n",
    "\n",
    "    # Check if targets.csv contains the same IDs as the feature matrix\n",
    "    targetRatIDs = df.loc[(df[\"Vendor\"] == \"Charles River\")][[\"RatID\", \"Phenotype\"]].values\n",
    "    miceIDs = np.array(data.columns)[1:].astype(int)\n",
    "    assert len((a:=set(targetRatIDs[:, 0])).intersection((b:=set(miceIDs)))) == 1780\n",
    "\n",
    "    # Remove uncommon elements\n",
    "    for number in a.difference(b):\n",
    "        targetRatIDs[:, 0] = np.where((targetRatIDs[:, 0] == number), None, targetRatIDs[:, 0])    \n",
    "    targetRatIDs = pd.DataFrame(targetRatIDs, columns=[\"RatID\", \"Phenotype\"]).dropna()\n",
    "    assert targetRatIDs.shape[0] == 1780\n",
    "\n",
    "    targetRatIDs = targetRatIDs.set_index(\"RatID\").sort_index()\n",
    "    miceIDs.sort()\n",
    "    assert np.all(targetRatIDs.index.values == miceIDs.astype(int))\n",
    "\n",
    "    targetRatIDs = targetRatIDs.astype(str)\n",
    "    targetRatIDs[\"Phenotype\"].value_counts()\n",
    "\n",
    "    for i, pt in enumerate(targetRatIDs.Phenotype.values):\n",
    "        if 'GT' in pt:\n",
    "            targetRatIDs.Phenotype.iloc[i] = '0'\n",
    "        if 'IR' in pt:\n",
    "            targetRatIDs.Phenotype.iloc[i] = '1'\n",
    "        if 'ST' in pt:\n",
    "            targetRatIDs.Phenotype.iloc[i] = '2'\n",
    "\n",
    "    assert len(targetRatIDs.Phenotype.value_counts()) == 3\n",
    "    \n",
    "    Y = targetRatIDs.Phenotype.values.astype(int).reshape(-1, 1)\n",
    "    names = np.array(list(targetRatIDs.index))\n",
    "\n",
    "    assert X.shape[0] == Y.shape[0]\n",
    "\n",
    "    return Y, names\n",
    "\n",
    "def getCriterion(X, Y, get_coefs=True, test_fn=False) -> np.ndarray:\n",
    "    \"\"\" Get the feature selection criterion, SVM classifier coefficients. \n",
    "    \n",
    "    Args:\n",
    "        X (np.ndarray, 2D): feature matrix\n",
    "        Y (np.ndarray, 2D): target matrix\n",
    "        get_coefs (bool, optional):  Defaults to True.\n",
    "        test_fn (bool, optional): Checks whether the function works correctly using \n",
    "            a randomly generated target matrix, Y_synth. Defaults to False. \n",
    "    Returns:\n",
    "        coefs (np.ndarray, 1D)\n",
    "    \"\"\"\n",
    "    assert X.shape[0] == Y.shape[0], \"X and Y have different numbers of samples\"\n",
    "    assert Y.shape[1] == 1, \"Y needs to be a column vector\"\n",
    "    \n",
    "    if test_fn:\n",
    "        # simulated target matrix, Y\n",
    "        rng = np.random.RandomState(7)\n",
    "        Y_synth = rng.randint(0,3, X.shape[0]).reshape(-1,1)\n",
    "        \n",
    "    coefs, ps = [], []\n",
    "    scaler = StandardScaler()\n",
    "    \n",
    "    # for each column of X\n",
    "    for row in X.T:\n",
    "        x = row.reshape(-1, 1)\n",
    "        x = scaler.fit_transform(x, Y)\n",
    "        if get_coefs:\n",
    "            # Calculate classification coefficients\n",
    "            model = SGDClassifier(loss='hinge') # SVM classifier\n",
    "            model.fit(x, Y)\n",
    "            y_pred = model.predict(x)\n",
    "            coefs.append(model.coef_[0,0])\n",
    "\n",
    "        else:\n",
    "            # Calculate p-values from logit model\n",
    "            # sm_model = sm.Logit(Y, sm.add_constant(x)).fit(disp=0)\n",
    "            sm_model = sm.MNLogit(Y, sm.add_constant(x)).fit(disp=0)\n",
    "            ps.append(sm_model.pvalues[1])\n",
    "    \n",
    "    if get_coefs:\n",
    "        return (coefs:= np.array(coefs))\n",
    "    else:\n",
    "        return (ps:= np.array(ps))"
   ]
  },
  {
   "cell_type": "markdown",
   "metadata": {},
   "source": [
    "----\n",
    "\n",
    "## `main()`\n"
   ]
  },
  {
   "cell_type": "code",
   "execution_count": null,
   "metadata": {},
   "outputs": [
    {
     "name": "stdout",
     "output_type": "stream",
     "text": [
      "Batch: 0.\tTime: 0 min, 0.38 s.\tSamples per second:0.00\n",
      "Batch: 1.\tTime: 0 min, 26.17 s.\tSamples per second:76.42\n"
     ]
    }
   ],
   "source": [
    "\n",
    "\n",
    "def main(plot_vars=False):\n",
    "    # There are about 220,000 features, so we can loop <= 110 times.\n",
    "    csvBatchSize = 2000\n",
    "    maxIteration = 112\n",
    "    \n",
    "    V_info = {}\n",
    "    V_info[\"avg\"] = np.empty(maxIteration + 1) \n",
    "    V_info[\"std\"] = np.empty(maxIteration + 1) \n",
    "    V_info[\"max\"] = np.empty(maxIteration + 1) \n",
    "    V_info[\"min\"] = np.empty(maxIteration + 1) \n",
    "    \n",
    "    global coefs\n",
    "    coefs = []\n",
    "    start_time = time.time()\n",
    "    \n",
    "    for csvBatch_idx, csvBatch in enumerate(pd.read_csv(\"gtTypes_C.csv\", chunksize=csvBatchSize)):\n",
    "        current_time = time.time() - start_time\n",
    "        minutes = int(current_time / 60)\n",
    "        seconds = current_time % 60\n",
    "        print(f\"Batch: {csvBatch_idx}.\\tTime: {minutes} min, {seconds:.2f} s.\"\n",
    "             + f\"\\tSamples per second:{(csvBatchSize * csvBatch_idx) / current_time:.2f}\")\n",
    "\n",
    "        data = csvBatch\n",
    "        X = data.values[:, 1:].astype(float).T\n",
    "        \n",
    "        if csvBatch_idx == 0:\n",
    "            global Y, rat_names\n",
    "            Y, rat_names = getTargets()\n",
    "        \n",
    "        # Dynamically plot variance distributions\n",
    "        if plot_vars:\n",
    "            varAnalysisInfo = varAnalysis(X=X)\n",
    "            V_info[\"avg\"][csvBatch_idx], V_info[\"std\"][csvBatch_idx] = varAnalysisInfo[:2]\n",
    "            V_info[\"max\"][csvBatch_idx], V_info[\"min\"][csvBatch_idx] = varAnalysisInfo[2:]\n",
    "            \n",
    "            V_info_sofar = {} \n",
    "            for key in V_info:\n",
    "                V_info_sofar[key] = V_info[key][:csvBatch_idx + 1]\n",
    "            clear_output(wait=True)\n",
    "            print(f\"----------\\ncsvBatch: {csvBatch_idx}\")\n",
    "            plot_V_info(V_info_sofar)\n",
    "        \n",
    "        # Store feature selection coefficients\n",
    "        coefs.append(getCriterion(X, Y))\n",
    "        \n",
    "        if csvBatch_idx == maxIteration:\n",
    "            break\n",
    "\n",
    "if __name__ == \"__main__\":\n",
    "    try:\n",
    "        main()\n",
    "        print(len(coefs))\n",
    "        \n",
    "    except KeyboardInterrupt:\n",
    "        print(\"stopped\")"
   ]
  },
  {
   "cell_type": "code",
   "execution_count": 11,
   "metadata": {},
   "outputs": [
    {
     "data": {
      "text/plain": [
       "1    733\n",
       "0    687\n",
       "2    360\n",
       "dtype: int64"
      ]
     },
     "execution_count": 11,
     "metadata": {},
     "output_type": "execute_result"
    }
   ],
   "source": [
    "pd.DataFrame(getTargets()[0]).value_counts()"
   ]
  },
  {
   "cell_type": "code",
   "execution_count": 12,
   "metadata": {},
   "outputs": [
    {
     "data": {
      "text/plain": [
       "{'avg': array([3.55288346e-001, 2.76176774e-001, 1.06345328e-311, 1.21906099e-152,\n",
       "        1.06345461e-311, 1.06345328e-311, 7.35984537e+223, 1.06345461e-311,\n",
       "        1.06345328e-311, 2.31647091e-152, 2.84786527e+275, 2.30908182e+251,\n",
       "        1.28059255e-152, 1.06345865e-311, 1.06345328e-311, 2.43207542e-152,\n",
       "        2.84852034e+275, 7.09806672e+194, 3.10499744e+169, 1.06345858e-311,\n",
       "        1.06345328e-311, 6.01346953e-154, 1.06345865e-311, 1.06345328e-311,\n",
       "        6.01346953e-154, 1.06345461e-311, 1.06345328e-311, 7.67597033e+228,\n",
       "        1.06345858e-311, 1.06345328e-311, 3.77689971e+180, 2.13223750e-259,\n",
       "        6.01347002e-154, 3.65284486e+233, 1.11319004e+171, 6.01347002e-154,\n",
       "        1.10866773e+219, 1.67786555e+243, 5.98742050e+247, 6.01334435e-154,\n",
       "        6.01347002e-154, 3.38377018e+063, 4.34976151e-114, 2.88067912e+214,\n",
       "        6.01346953e-154, 6.01347002e-154, 1.33629952e-152, 2.57409075e+151,\n",
       "        1.51777946e+256, 1.67646306e+243, 2.51716341e+180, 6.01334541e-154,\n",
       "        6.01347002e-154, 6.01347002e-154, 5.02842751e+063, 8.02389374e-095,\n",
       "        3.08534650e+150, 3.18490078e-114, 6.01347002e-154, 6.01347002e-154,\n",
       "        4.96009496e+180]),\n",
       " 'std': array([1.87204171e-001, 1.48956943e-001, 2.11954162e-321,             nan,\n",
       "        1.81736463e-152, 0.00000000e+000, 7.35161610e+223, 7.36549361e+223,\n",
       "        7.36517037e+223, 7.93885791e+068, 1.15306712e+214, 3.94655078e+180,\n",
       "        1.09719158e+248, 8.03408340e-095, 1.14448383e+243, 2.44012881e-154,\n",
       "        6.01347002e-154, 7.72190208e+228, 1.05894329e-153, 7.93258031e+068,\n",
       "        3.60497827e+252, 8.02678501e-095, 8.08181840e-013, 5.98149228e-154,\n",
       "        6.01347002e-154, 4.54351955e+223, 3.94655078e+180, 5.48799569e+247,\n",
       "        1.02103701e+160, 1.04991226e-153, 1.99108555e+209, 8.81482041e-106,\n",
       "        5.98157061e-154, 2.17235484e-153, 1.76094275e+199, 3.52477780e+233,\n",
       "        1.71796322e+161, 6.23221937e-109, 4.91347426e+252, 2.04919908e+214,\n",
       "        5.81543600e+180, 1.13903273e-094, 5.75657487e+252, 1.69499688e+166,\n",
       "        7.36496343e+271, 5.98149257e-154, 6.01347002e-154, 6.01347002e-154,\n",
       "        3.62126859e+151, 8.37474032e+242, 3.60497827e+252, 8.41888773e+252,\n",
       "        4.65400295e+151, 6.72775460e+199, 1.10987430e+171, 6.01347002e-154,\n",
       "        6.01347002e-154, 6.01347002e-154, 1.30943233e+166, 1.37400102e+228,\n",
       "        1.02276940e-259]),\n",
       " 'max': array([5.97766696e-001, 5.93741636e-001, 0.00000000e+000, 6.95308464e-310,\n",
       "        2.71736105e-322, 1.06363106e-311, 1.06363108e-311, 1.06363106e-311,\n",
       "        1.06363108e-311, 1.06363108e-311, 1.06363106e-311, 1.06363106e-311,\n",
       "        1.06363108e-311, 1.06363108e-311, 1.06363108e-311, 1.06363108e-311,\n",
       "        1.06363108e-311, 1.06363106e-311, 1.06363108e-311, 1.06363106e-311,\n",
       "        1.06363106e-311, 1.06363108e-311, 1.06363106e-311, 1.06363108e-311,\n",
       "        1.06363108e-311, 1.06363106e-311, 1.06363108e-311, 1.06363106e-311,\n",
       "        1.06363106e-311, 1.06363108e-311, 1.06363108e-311, 1.06363106e-311,\n",
       "        1.06363108e-311, 1.06363106e-311, 1.06363108e-311, 1.06363108e-311,\n",
       "        1.06363108e-311, 1.06363108e-311, 1.06363108e-311, 1.06363106e-311,\n",
       "        1.06363108e-311, 1.06363108e-311, 1.06363108e-311, 1.06363108e-311,\n",
       "        1.06363108e-311, 1.06363108e-311, 1.06363108e-311, 1.06363108e-311,\n",
       "        1.06363106e-311, 1.06363106e-311, 1.06363106e-311, 1.06363108e-311,\n",
       "        1.06363106e-311, 1.06363108e-311, 1.06363108e-311, 1.06363108e-311,\n",
       "        1.06363108e-311, 1.06363108e-311, 1.06363108e-311, 1.06363106e-311,\n",
       "        5.97409021e-299]),\n",
       " 'min': array([1.98156798e-002, 2.03544376e-002, 0.00000000e+000, 6.95308464e-310,\n",
       "        2.76676762e-322, 1.06341104e-311, 1.06341105e-311, 1.06341104e-311,\n",
       "        1.06341105e-311, 1.06341104e-311, 1.06341105e-311, 1.06341104e-311,\n",
       "        1.06341104e-311, 1.06341105e-311, 1.06341104e-311, 1.06341105e-311,\n",
       "        1.06341105e-311, 1.06341094e-311, 1.06341105e-311, 1.06341104e-311,\n",
       "        1.06341104e-311, 1.06341104e-311, 1.06341104e-311, 1.06341090e-311,\n",
       "        1.06341104e-311, 1.06341104e-311, 1.06341105e-311, 1.06341104e-311,\n",
       "        1.06341104e-311, 1.06341104e-311, 1.06341104e-311, 1.06341105e-311,\n",
       "        1.06341105e-311, 1.06341105e-311, 1.06341100e-311, 1.06341105e-311,\n",
       "        1.06341100e-311, 1.06341105e-311, 1.06341099e-311, 1.06341105e-311,\n",
       "        1.06341112e-311, 1.06341105e-311, 1.06341105e-311, 1.06341105e-311,\n",
       "        1.06341105e-311, 1.06341105e-311, 1.06341105e-311, 1.06341105e-311,\n",
       "        1.06341105e-311, 1.06341102e-311, 1.06341105e-311, 1.06341105e-311,\n",
       "        1.06341105e-311, 1.06341105e-311, 1.06341105e-311, 1.06341105e-311,\n",
       "        1.06341105e-311, 1.06341105e-311, 1.06341105e-311, 1.06341105e-311,\n",
       "        1.06341105e-311])}"
      ]
     },
     "execution_count": 12,
     "metadata": {},
     "output_type": "execute_result"
    }
   ],
   "source": [
    "V_info "
   ]
  },
  {
   "cell_type": "code",
   "execution_count": 13,
   "metadata": {},
   "outputs": [
    {
     "data": {
      "text/plain": [
       "(0.27617677360813053,\n",
       " 0.14895694330654985,\n",
       " 0.5937416361570463,\n",
       " 0.020354437571013382)"
      ]
     },
     "execution_count": 13,
     "metadata": {},
     "output_type": "execute_result"
    }
   ],
   "source": [
    "varAnalysis(X=X)"
   ]
  },
  {
   "cell_type": "markdown",
   "metadata": {},
   "source": [
    "----\n",
    "\n",
    "## Get p values"
   ]
  },
  {
   "cell_type": "code",
   "execution_count": 14,
   "metadata": {},
   "outputs": [],
   "source": [
    "from sklearn.linear_model import SGDClassifier\n",
    "import torch\n",
    "import warnings\n",
    "warnings.filterwarnings('ignore')\n",
    "\n",
    "# !pip install statsmodels\n",
    "import statsmodels.api as sm"
   ]
  },
  {
   "cell_type": "code",
   "execution_count": 24,
   "metadata": {},
   "outputs": [],
   "source": []
  },
  {
   "cell_type": "code",
   "execution_count": 29,
   "metadata": {},
   "outputs": [
    {
     "name": "stdout",
     "output_type": "stream",
     "text": [
      "Wall time: 24.7 s\n"
     ]
    },
    {
     "data": {
      "text/plain": [
       "(array([  4.,  14., 138., 578., 718., 274., 157.,  78.,  33.,   6.]),\n",
       " array([-1.04223664, -0.79171671, -0.54119678, -0.29067685, -0.04015692,\n",
       "         0.21036301,  0.46088294,  0.71140287,  0.9619228 ,  1.21244273,\n",
       "         1.46296266]),\n",
       " <BarContainer object of 10 artists>)"
      ]
     },
     "execution_count": 29,
     "metadata": {},
     "output_type": "execute_result"
    },
    {
     "data": {
      "image/png": "[encoded data removed]",
      "text/plain": [
       "<Figure size 432x288 with 1 Axes>"
      ]
     },
     "metadata": {
      "needs_background": "light"
     },
     "output_type": "display_data"
    }
   ],
   "source": [
    "%%time\n",
    "\n",
    "def getCriterion(X, Y, get_coefs=True, test_fn=False) -> np.ndarray:\n",
    "    \"\"\" Get the feature selection criterion, SVM classifier coefficients. \n",
    "    \n",
    "    Args:\n",
    "        X (np.ndarray, 2D): feature matrix\n",
    "        Y (np.ndarray, 2D): target matrix\n",
    "        get_coefs (bool, optional):  Defaults to True.\n",
    "        test_fn (bool, optional): Checks whether the function works correctly using \n",
    "            a randomly generated target matrix, Y_synth. Defaults to False. \n",
    "    Returns:\n",
    "        coefs (np.ndarray, 1D)\n",
    "    \"\"\"\n",
    "    assert X.shape[0] == Y.shape[0], \"X and Y have different numbers of samples\"\n",
    "    assert Y.shape[1] == 1, \"Y needs to be a column vector\"\n",
    "    \n",
    "    if test_fn:\n",
    "        # simulated target matrix, Y\n",
    "        rng = np.random.RandomState(7)\n",
    "        Y_synth = rng.randint(0,3, X.shape[0]).reshape(-1,1)\n",
    "        \n",
    "        \n",
    "    global ps, coefs\n",
    "    coefs, ps = [], []\n",
    "\n",
    "    # for each column of X\n",
    "    for row in X.T:\n",
    "        x = row.reshape(-1, 1)\n",
    "\n",
    "        if get_coefs:\n",
    "            # Calculate classification coefficients\n",
    "            model = SGDClassifier(loss='hinge') # SVM classifier\n",
    "            model.fit(x, Y)\n",
    "            y_pred = model.predict(x)\n",
    "            coefs.append(model.coef_[0,0])\n",
    "\n",
    "        else:\n",
    "            # Calculate p-values from logit model\n",
    "            # sm_model = sm.Logit(Y, sm.add_constant(x)).fit(disp=0)\n",
    "            sm_model = sm.MNLogit(Y, sm.add_constant(x)).fit(disp=0)\n",
    "            ps.append(sm_model.pvalues[1])\n",
    "    \n",
    "    if get_coefs:\n",
    "        return (coefs:= np.array(coefs))\n",
    "    else:\n",
    "        return (ps:= np.array(ps))\n",
    "        \n",
    "coefs = getCriterion(X, Y)\n",
    "plt.hist(coefs);"
   ]
  },
  {
   "cell_type": "code",
   "execution_count": 19,
   "metadata": {},
   "outputs": [
    {
     "data": {
      "text/plain": [
       "tensor([1812,  254, 1711,  ..., 1117, 1066, 1959])"
      ]
     },
     "execution_count": 19,
     "metadata": {},
     "output_type": "execute_result"
    }
   ],
   "source": [
    "torch.topk(torch.Tensor(coefs), k=2000)[1]"
   ]
  },
  {
   "cell_type": "code",
   "execution_count": 37,
   "metadata": {},
   "outputs": [
    {
     "ename": "MemoryError",
     "evalue": "Unable to allocate 4.00 KiB for an array with shape (512,) and data type int64",
     "output_type": "error",
     "traceback": [
      "\u001b[1;31m---------------------------------------------------------------------------\u001b[0m",
      "\u001b[1;31mMemoryError\u001b[0m                               Traceback (most recent call last)",
      "\u001b[1;32m<ipython-input-37-aa0cf0ada63d>\u001b[0m in \u001b[0;36m<module>\u001b[1;34m\u001b[0m\n\u001b[1;32m----> 1\u001b[1;33m \u001b[0mX\u001b[0m \u001b[1;33m=\u001b[0m \u001b[0mpd\u001b[0m\u001b[1;33m.\u001b[0m\u001b[0mread_csv\u001b[0m\u001b[1;33m(\u001b[0m\u001b[1;34m\"gtTypes_C.csv\"\u001b[0m\u001b[1;33m)\u001b[0m\u001b[1;33m\u001b[0m\u001b[1;33m\u001b[0m\u001b[0m\n\u001b[0m\u001b[0;32m      2\u001b[0m \u001b[0mX\u001b[0m\u001b[1;33m.\u001b[0m\u001b[0mshape\u001b[0m\u001b[1;33m\u001b[0m\u001b[1;33m\u001b[0m\u001b[0m\n",
      "\u001b[1;32m~\\anaconda3\\envs\\ds_env\\lib\\site-packages\\pandas\\io\\parsers.py\u001b[0m in \u001b[0;36mread_csv\u001b[1;34m(filepath_or_buffer, sep, delimiter, header, names, index_col, usecols, squeeze, prefix, mangle_dupe_cols, dtype, engine, converters, true_values, false_values, skipinitialspace, skiprows, skipfooter, nrows, na_values, keep_default_na, na_filter, verbose, skip_blank_lines, parse_dates, infer_datetime_format, keep_date_col, date_parser, dayfirst, cache_dates, iterator, chunksize, compression, thousands, decimal, lineterminator, quotechar, quoting, doublequote, escapechar, comment, encoding, dialect, error_bad_lines, warn_bad_lines, delim_whitespace, low_memory, memory_map, float_precision)\u001b[0m\n\u001b[0;32m    684\u001b[0m     )\n\u001b[0;32m    685\u001b[0m \u001b[1;33m\u001b[0m\u001b[0m\n\u001b[1;32m--> 686\u001b[1;33m     \u001b[1;32mreturn\u001b[0m \u001b[0m_read\u001b[0m\u001b[1;33m(\u001b[0m\u001b[0mfilepath_or_buffer\u001b[0m\u001b[1;33m,\u001b[0m \u001b[0mkwds\u001b[0m\u001b[1;33m)\u001b[0m\u001b[1;33m\u001b[0m\u001b[1;33m\u001b[0m\u001b[0m\n\u001b[0m\u001b[0;32m    687\u001b[0m \u001b[1;33m\u001b[0m\u001b[0m\n\u001b[0;32m    688\u001b[0m \u001b[1;33m\u001b[0m\u001b[0m\n",
      "\u001b[1;32m~\\anaconda3\\envs\\ds_env\\lib\\site-packages\\pandas\\io\\parsers.py\u001b[0m in \u001b[0;36m_read\u001b[1;34m(filepath_or_buffer, kwds)\u001b[0m\n\u001b[0;32m    456\u001b[0m \u001b[1;33m\u001b[0m\u001b[0m\n\u001b[0;32m    457\u001b[0m     \u001b[1;32mtry\u001b[0m\u001b[1;33m:\u001b[0m\u001b[1;33m\u001b[0m\u001b[1;33m\u001b[0m\u001b[0m\n\u001b[1;32m--> 458\u001b[1;33m         \u001b[0mdata\u001b[0m \u001b[1;33m=\u001b[0m \u001b[0mparser\u001b[0m\u001b[1;33m.\u001b[0m\u001b[0mread\u001b[0m\u001b[1;33m(\u001b[0m\u001b[0mnrows\u001b[0m\u001b[1;33m)\u001b[0m\u001b[1;33m\u001b[0m\u001b[1;33m\u001b[0m\u001b[0m\n\u001b[0m\u001b[0;32m    459\u001b[0m     \u001b[1;32mfinally\u001b[0m\u001b[1;33m:\u001b[0m\u001b[1;33m\u001b[0m\u001b[1;33m\u001b[0m\u001b[0m\n\u001b[0;32m    460\u001b[0m         \u001b[0mparser\u001b[0m\u001b[1;33m.\u001b[0m\u001b[0mclose\u001b[0m\u001b[1;33m(\u001b[0m\u001b[1;33m)\u001b[0m\u001b[1;33m\u001b[0m\u001b[1;33m\u001b[0m\u001b[0m\n",
      "\u001b[1;32m~\\anaconda3\\envs\\ds_env\\lib\\site-packages\\pandas\\io\\parsers.py\u001b[0m in \u001b[0;36mread\u001b[1;34m(self, nrows)\u001b[0m\n\u001b[0;32m   1194\u001b[0m     \u001b[1;32mdef\u001b[0m \u001b[0mread\u001b[0m\u001b[1;33m(\u001b[0m\u001b[0mself\u001b[0m\u001b[1;33m,\u001b[0m \u001b[0mnrows\u001b[0m\u001b[1;33m=\u001b[0m\u001b[1;32mNone\u001b[0m\u001b[1;33m)\u001b[0m\u001b[1;33m:\u001b[0m\u001b[1;33m\u001b[0m\u001b[1;33m\u001b[0m\u001b[0m\n\u001b[0;32m   1195\u001b[0m         \u001b[0mnrows\u001b[0m \u001b[1;33m=\u001b[0m \u001b[0m_validate_integer\u001b[0m\u001b[1;33m(\u001b[0m\u001b[1;34m\"nrows\"\u001b[0m\u001b[1;33m,\u001b[0m \u001b[0mnrows\u001b[0m\u001b[1;33m)\u001b[0m\u001b[1;33m\u001b[0m\u001b[1;33m\u001b[0m\u001b[0m\n\u001b[1;32m-> 1196\u001b[1;33m         \u001b[0mret\u001b[0m \u001b[1;33m=\u001b[0m \u001b[0mself\u001b[0m\u001b[1;33m.\u001b[0m\u001b[0m_engine\u001b[0m\u001b[1;33m.\u001b[0m\u001b[0mread\u001b[0m\u001b[1;33m(\u001b[0m\u001b[0mnrows\u001b[0m\u001b[1;33m)\u001b[0m\u001b[1;33m\u001b[0m\u001b[1;33m\u001b[0m\u001b[0m\n\u001b[0m\u001b[0;32m   1197\u001b[0m \u001b[1;33m\u001b[0m\u001b[0m\n\u001b[0;32m   1198\u001b[0m         \u001b[1;31m# May alter columns / col_dict\u001b[0m\u001b[1;33m\u001b[0m\u001b[1;33m\u001b[0m\u001b[1;33m\u001b[0m\u001b[0m\n",
      "\u001b[1;32m~\\anaconda3\\envs\\ds_env\\lib\\site-packages\\pandas\\io\\parsers.py\u001b[0m in \u001b[0;36mread\u001b[1;34m(self, nrows)\u001b[0m\n\u001b[0;32m   2153\u001b[0m     \u001b[1;32mdef\u001b[0m \u001b[0mread\u001b[0m\u001b[1;33m(\u001b[0m\u001b[0mself\u001b[0m\u001b[1;33m,\u001b[0m \u001b[0mnrows\u001b[0m\u001b[1;33m=\u001b[0m\u001b[1;32mNone\u001b[0m\u001b[1;33m)\u001b[0m\u001b[1;33m:\u001b[0m\u001b[1;33m\u001b[0m\u001b[1;33m\u001b[0m\u001b[0m\n\u001b[0;32m   2154\u001b[0m         \u001b[1;32mtry\u001b[0m\u001b[1;33m:\u001b[0m\u001b[1;33m\u001b[0m\u001b[1;33m\u001b[0m\u001b[0m\n\u001b[1;32m-> 2155\u001b[1;33m             \u001b[0mdata\u001b[0m \u001b[1;33m=\u001b[0m \u001b[0mself\u001b[0m\u001b[1;33m.\u001b[0m\u001b[0m_reader\u001b[0m\u001b[1;33m.\u001b[0m\u001b[0mread\u001b[0m\u001b[1;33m(\u001b[0m\u001b[0mnrows\u001b[0m\u001b[1;33m)\u001b[0m\u001b[1;33m\u001b[0m\u001b[1;33m\u001b[0m\u001b[0m\n\u001b[0m\u001b[0;32m   2156\u001b[0m         \u001b[1;32mexcept\u001b[0m \u001b[0mStopIteration\u001b[0m\u001b[1;33m:\u001b[0m\u001b[1;33m\u001b[0m\u001b[1;33m\u001b[0m\u001b[0m\n\u001b[0;32m   2157\u001b[0m             \u001b[1;32mif\u001b[0m \u001b[0mself\u001b[0m\u001b[1;33m.\u001b[0m\u001b[0m_first_chunk\u001b[0m\u001b[1;33m:\u001b[0m\u001b[1;33m\u001b[0m\u001b[1;33m\u001b[0m\u001b[0m\n",
      "\u001b[1;32mpandas\\_libs\\parsers.pyx\u001b[0m in \u001b[0;36mpandas._libs.parsers.TextReader.read\u001b[1;34m()\u001b[0m\n",
      "\u001b[1;32mpandas\\_libs\\parsers.pyx\u001b[0m in \u001b[0;36mpandas._libs.parsers.TextReader._read_low_memory\u001b[1;34m()\u001b[0m\n",
      "\u001b[1;32mpandas\\_libs\\parsers.pyx\u001b[0m in \u001b[0;36mpandas._libs.parsers.TextReader._read_rows\u001b[1;34m()\u001b[0m\n",
      "\u001b[1;32mpandas\\_libs\\parsers.pyx\u001b[0m in \u001b[0;36mpandas._libs.parsers.TextReader._convert_column_data\u001b[1;34m()\u001b[0m\n",
      "\u001b[1;32mpandas\\_libs\\parsers.pyx\u001b[0m in \u001b[0;36mpandas._libs.parsers.TextReader._convert_tokens\u001b[1;34m()\u001b[0m\n",
      "\u001b[1;32mpandas\\_libs\\parsers.pyx\u001b[0m in \u001b[0;36mpandas._libs.parsers.TextReader._convert_with_dtype\u001b[1;34m()\u001b[0m\n",
      "\u001b[1;32mpandas\\_libs\\parsers.pyx\u001b[0m in \u001b[0;36mpandas._libs.parsers._try_int64\u001b[1;34m()\u001b[0m\n",
      "\u001b[1;31mMemoryError\u001b[0m: Unable to allocate 4.00 KiB for an array with shape (512,) and data type int64"
     ]
    }
   ],
   "source": [
    "X = pd.read_csv(\"gtTypes_C.csv\")\n",
    "X.shape"
   ]
  },
  {
   "cell_type": "code",
   "execution_count": 24,
   "metadata": {},
   "outputs": [
    {
     "data": {
      "text/plain": [
       "(1780, 1200)"
      ]
     },
     "execution_count": 24,
     "metadata": {},
     "output_type": "execute_result"
    }
   ],
   "source": [
    "%time \n",
    "from sklearn.feature_selection import SelectKBest, chi2\n",
    "\n",
    "X_dummy = SelectKBest(chi2, k=1200).fit_transform(X, Y)\n",
    "X_dummy.shape"
   ]
  },
  {
   "cell_type": "markdown",
   "metadata": {},
   "source": [
    "- Jie Yuan1:26 PM https://stats.idre.ucla.edu/other/mult-pkg/faq/general/faq-what-are-pseudo-r-squareds/\n",
    "- Jie Yuan1:30 PM https://stackoverflow.com/questions/25122999/scikit-learn-how-to-check-coefficients-significance\n",
    "- McKelvey & Zavoina https://stats.idre.ucla.edu/other/mult-pkg/faq/general/faq-what-are-pseudo-r-squareds/"
   ]
  },
  {
   "cell_type": "code",
   "execution_count": 256,
   "metadata": {},
   "outputs": [
    {
     "data": {
      "text/plain": [
       "0.09355327625915083"
      ]
     },
     "execution_count": 256,
     "metadata": {},
     "output_type": "execute_result"
    },
    {
     "data": {
      "image/png": "[encoded data removed]",
      "text/plain": [
       "<Figure size 432x288 with 1 Axes>"
      ]
     },
     "metadata": {
      "needs_background": "light"
     },
     "output_type": "display_data"
    }
   ],
   "source": [
    "ps = np.abs(ps)\n",
    "plt.hist(ps);\n",
    "np.percentile(np.abs(coefs), 25)"
   ]
  },
  {
   "cell_type": "code",
   "execution_count": 258,
   "metadata": {},
   "outputs": [
    {
     "data": {
      "text/plain": [
       "<seaborn.axisgrid.JointGrid at 0x2a43a6998b0>"
      ]
     },
     "execution_count": 258,
     "metadata": {},
     "output_type": "execute_result"
    },
    {
     "data": {
      "image/png": "[encoded data removed]",
      "text/plain": [
       "<Figure size 432x432 with 3 Axes>"
      ]
     },
     "metadata": {},
     "output_type": "display_data"
    }
   ],
   "source": [
    "import seaborn as sns; sns.set()\n",
    "\n",
    "sns.jointplot(ps, coefs, kind=\"scatter\")"
   ]
  },
  {
   "cell_type": "code",
   "execution_count": 257,
   "metadata": {},
   "outputs": [
    {
     "data": {
      "text/plain": [
       "0.09355327625915083"
      ]
     },
     "execution_count": 257,
     "metadata": {},
     "output_type": "execute_result"
    },
    {
     "data": {
      "image/png": "[encoded data removed]",
      "text/plain": [
       "<Figure size 432x288 with 1 Axes>"
      ]
     },
     "metadata": {
      "needs_background": "light"
     },
     "output_type": "display_data"
    }
   ],
   "source": [
    "coefs = np.abs(coefs)\n",
    "plt.hist(coefs);\n",
    "np.percentile(np.abs(coefs), 25)"
   ]
  }
 ],
 "metadata": {
  "kernelspec": {
   "display_name": "Python (ds_env)",
   "language": "python",
   "name": "ds_env"
  },
  "language_info": {
   "codemirror_mode": {
    "name": "ipython",
    "version": 3
   },
   "file_extension": ".py",
   "mimetype": "text/x-python",
   "name": "python",
   "nbconvert_exporter": "python",
   "pygments_lexer": "ipython3",
   "version": "3.8.5"
  }
 },
 "nbformat": 4,
 "nbformat_minor": 4
}
