{
 "cells": [
  {
   "cell_type": "markdown",
   "metadata": {
    "toc": true
   },
   "source": [
    "<h1>Table of Contents<span class=\"tocSkip\"></span></h1>\n",
    "<div class=\"toc\"><ul class=\"toc-item\"><li><span><a href=\"#Thoughts\" data-toc-modified-id=\"Thoughts-1\"><span class=\"toc-item-num\">1&nbsp;&nbsp;</span>Thoughts</a></span></li></ul></div>"
   ]
  },
  {
   "cell_type": "code",
   "execution_count": 1,
   "metadata": {},
   "outputs": [],
   "source": [
    "# import PyTorch\n",
    "import torch\n",
    "\n",
    "# standard DS stack\n",
    "import numpy as np\n",
    "import matplotlib.pyplot as plt\n",
    "import seaborn as sns; sns.set()\n",
    "import pandas as pd\n",
    "# embed static images in the ipynb\n",
    "%matplotlib inline \n",
    "\n",
    "# neural network package\n",
    "import torch.nn as nn \n",
    "import torch.nn.functional as F\n",
    "\n",
    "# computer vision\n",
    "import torchvision\n",
    "from torchvision import transforms\n",
    "from PIL import Image\n",
    "\n",
    "# dataset loading\n",
    "from torch.utils.data import Dataset, DataLoader\n",
    "\n",
    "# convenient package for plotting loss functions\n",
    "# from livelossplot import PlotLosses\n",
    "\n",
    "import copy\n",
    "# import tqdm"
   ]
  },
  {
   "cell_type": "code",
   "execution_count": 2,
   "metadata": {},
   "outputs": [
    {
     "name": "stdout",
     "output_type": "stream",
     "text": [
      "genos_only.shape: (5000, 100)\n",
      "phenos_only.shape: (5000,)\n",
      "genos_plus.shape: (500, 100)\n",
      "exprs_plus.shape: (500, 10)\n",
      "phenos_plus.shape: (500,)\n",
      "beta0.shape (100, 10)\n",
      "beta1.shape (10,)\n",
      "beta2.shape (100,)\n"
     ]
    }
   ],
   "source": [
    "# Run script for simulated data\n",
    "import importlib.util\n",
    "\n",
    "system_path = r\"C:\\Users\\uniqu\\Adaptation\\github repos\" \\\n",
    "              + \"\\Bioinformatics-Neural Networks for Genomic Risk\"\n",
    "local_path = \"\\simulate_twas.py\"\n",
    "path = system_path + local_path\n",
    "\n",
    "exec(open(path).read())\n",
    "(beta1, beta2, beta3) = (beta for beta in betas)"
   ]
  },
  {
   "cell_type": "code",
   "execution_count": 3,
   "metadata": {},
   "outputs": [
    {
     "name": "stdout",
     "output_type": "stream",
     "text": [
      "genos_only.shape: (5000, 100)\n",
      "phenos_only.shape: (5000, 1)\n",
      "genos_plus.shape: (500, 100)\n",
      "exprs_plus.shape: (500, 10)\n",
      "phenos_plus.shape: (500, 1)\n",
      "beta0.shape (1000, 1)\n",
      "beta1.shape (10, 1)\n",
      "beta2.shape (100, 1)\n"
     ]
    }
   ],
   "source": [
    "# turn 1D arrays to column vectors\n",
    "variables = [genos_only, phenos_only, genos_plus, exprs_plus, phenos_plus]\n",
    "\n",
    "for idx, var in enumerate(variables):\n",
    "    if var.ndim == 1:\n",
    "        variables[idx] = np.reshape(variables[idx], newshape=(-1,1))\n",
    "[genos_only, phenos_only, genos_plus, exprs_plus, phenos_plus] = variables\n",
    "\n",
    "betas = list(betas)\n",
    "for idx, beta in enumerate(betas):\n",
    "    if var.ndim == 1:\n",
    "        betas[idx] = np.reshape(betas[idx], newshape=(-1,1))\n",
    "\n",
    "print_shapes()"
   ]
  },
  {
   "cell_type": "code",
   "execution_count": 4,
   "metadata": {},
   "outputs": [],
   "source": [
    "# Perform train-test split\n",
    "X, Y = genos_only, phenos_only\n",
    "from sklearn.model_selection import train_test_split\n",
    "X_train, X_test, Y_train, Y_test = train_test_split(X, Y, test_size=0.3,\n",
    "                                                    random_state=7)"
   ]
  },
  {
   "cell_type": "code",
   "execution_count": 5,
   "metadata": {},
   "outputs": [
    {
     "name": "stdout",
     "output_type": "stream",
     "text": [
      "torch.Size([60, 100]) torch.Size([60, 1])\n",
      "Shape of single feature: torch.Size([100])\n",
      "Shape of single target: torch.Size([1])\n"
     ]
    }
   ],
   "source": [
    "class simulated_Dataset(Dataset): # inherit from torch's Dataset class.\n",
    "    def __init__(self, train):\n",
    "        # data loading\n",
    "        if train == True:\n",
    "            self.X = torch.from_numpy(X_train.astype(np.float32))\n",
    "            self.Y = torch.from_numpy(Y_train.astype(np.float32))\n",
    "        else:\n",
    "            self.X = torch.from_numpy(X_test.astype(np.float32))\n",
    "            self.Y = torch.from_numpy(Y_test.reshape(-1,1).astype(np.float32))\n",
    "\n",
    "        if self.X.shape[0] == self.Y.shape[0]:\n",
    "            self.n_samples = self.X.shape[0]\n",
    "        else:\n",
    "            raise ValueError(\"Shape mismatch\")\n",
    "        \n",
    "    def __getitem__(self, idx):\n",
    "        return self.X[idx], self.Y[idx]\n",
    "    \n",
    "    def __len__(self):\n",
    "        return self.n_samples\n",
    "\n",
    "BATCH_SIZE = 60\n",
    "\n",
    "train_set = simulated_Dataset(train=True)\n",
    "test_set = simulated_Dataset(train=False)\n",
    "\n",
    "train_dl = DataLoader(dataset=train_set, batch_size=BATCH_SIZE, shuffle=True)\n",
    "test_dl = DataLoader(dataset=test_set, batch_size=BATCH_SIZE, shuffle=True)\n",
    "\n",
    "for data in train_dl:\n",
    "    features, labels = data\n",
    "    print(features.shape, labels.shape)\n",
    "    break\n",
    "print(f\"Shape of single feature: {data[0][0].shape}\") # 1D tensor\n",
    "print(f\"Shape of single target: {data[1][0].shape}\") # 0D tensor (scalar)\n",
    "\n",
    "n_features = torch.flatten(data[0][0]).shape[0]"
   ]
  },
  {
   "cell_type": "code",
   "execution_count": 6,
   "metadata": {},
   "outputs": [],
   "source": [
    "class Sequential_Net(nn.Module): # class inherits from nn.Module\n",
    "    def __init__(self):\n",
    "        super(Sequential_Net, self).__init__() # initialize nn.Module\n",
    "        # some fully connected layers w/ linear transformation\n",
    "        \"\"\" nn.Linear(in_features, out_features, bias=True)\n",
    "        Args:\n",
    "            in_features: size of each input sample. For input shape (28, 28), \n",
    "                we would have in_features = 28 * 28 = 784\n",
    "            out_features: size of each output sample.\n",
    "        \"\"\"\n",
    "        self.fc1 = nn.Linear(n_features, 70)\n",
    "        self.fc2 = nn.Linear(70, 30)\n",
    "        self.fc3 = nn.Linear(30, 1)\n",
    "    def forward(self, x): # defines the forward propagation\n",
    "        x = F.relu(self.fc1(x)) # relu activation function\n",
    "        x = F.relu(self.fc2(x)) \n",
    "        x = F.leaky_relu(self.fc3(x))\n",
    "        return x"
   ]
  },
  {
   "cell_type": "code",
   "execution_count": 7,
   "metadata": {},
   "outputs": [],
   "source": [
    "def train(network, loss_fn, train_loader, val_loader,\n",
    "          n_epochs, optimizer, device):\n",
    "    \"\"\"\n",
    "\n",
    "    Args:\n",
    "        network (nn.Module-like): NN object\n",
    "        loss_fn: loss function\n",
    "        train_loader (DataLoader): PyTorch DataLoader for training set\n",
    "        val_loader (DataLoader): PyTorch DataLoader for validation set\n",
    "        n_epochs (int): number of epochs := # of full passes through data\n",
    "        optimizer (torch.optim optimizer): SGD, Adam, etc.\n",
    "        device (torch.device, optional): GPU selection. OR, uses CPU.\n",
    "    \"\"\"\n",
    "\n",
    "    train_losses = []\n",
    "    val_losses = []\n",
    "    for epoch in range(n_epochs):\n",
    "        train_loss = 0.0\n",
    "        val_loss = 0.0\n",
    "        \n",
    "        # Training\n",
    "        network.train()\n",
    "        for idx, batch in enumerate(train_loader):\n",
    "            optimizer.zero_grad() # clears gradient buffers of all parameters\n",
    "            inputs, targets = batch\n",
    "            # transfer batch data to computation device\n",
    "            [inputs, targets] = [tensor.to(device) for tensor in [inputs, targets]]\n",
    "            output = network(inputs)\n",
    "            loss = loss_fn(output, targets)\n",
    "            # back propagation\n",
    "            loss.backward()\n",
    "            optimizer.step() # update model weights\n",
    "            train_loss += loss.data.item()\n",
    "        # train_loss /= len(train_iterator)\n",
    "        train_losses.append(train_loss)\n",
    "    \n",
    "        if idx % 10 == 0:\n",
    "            print(f\"epoch {epoch+1}/{n_epochs}, batch {idx}.\")\n",
    "        \n",
    "        # Validation \n",
    "        network.eval()        \n",
    "        for batch in val_loader:\n",
    "            inputs, targets = batch\n",
    "            [inputs, targets] = [tensor.to(device) for tensor in batch]\n",
    "            output = network(inputs)\n",
    "            loss = loss_fn(output, targets)\n",
    "            val_loss += loss.data.item()\n",
    "        # val_loss /= len(valid_iterator)\n",
    "        val_losses.append(val_loss)\n",
    "    \n",
    "        print(f\"Epoch: {epoch}, Training Loss: {train_loss:.3f}, \"\n",
    "             +f\"Validation loss: {val_loss:.3f}\")\n",
    "\n",
    "    fig, ax = plt.subplots()\n",
    "    fig.tight_layout()\n",
    "    ax.plot(np.arange(n_epochs), train_losses, '-')\n",
    "    ax.plot(np.arange(n_epochs), val_losses, '-')\n",
    "    ax.legend()\n",
    "    plt.show()"
   ]
  },
  {
   "cell_type": "markdown",
   "metadata": {},
   "source": [
    "```python\n",
    "# TODO: Implement this later and change to a script instead of a notebook.\n",
    "def main():\n",
    "    network = Sequential_Net()\n",
    "    print(network)\n",
    "    \n",
    "    \n",
    "if __name__ == \"__main__\":\n",
    "    main()\n",
    "```"
   ]
  },
  {
   "cell_type": "code",
   "execution_count": 8,
   "metadata": {},
   "outputs": [
    {
     "name": "stdout",
     "output_type": "stream",
     "text": [
      "Sequential_Net(\n",
      "  (fc1): Linear(in_features=100, out_features=70, bias=True)\n",
      "  (fc2): Linear(in_features=70, out_features=30, bias=True)\n",
      "  (fc3): Linear(in_features=30, out_features=1, bias=True)\n",
      ")\n",
      "Epoch: 0, Training Loss: 17.845, Validation loss: 6.674\n",
      "Epoch: 1, Training Loss: 14.000, Validation loss: 6.686\n",
      "Epoch: 2, Training Loss: 13.261, Validation loss: 6.640\n",
      "Epoch: 3, Training Loss: 12.529, Validation loss: 7.009\n",
      "Epoch: 4, Training Loss: 11.427, Validation loss: 7.202\n",
      "Epoch: 5, Training Loss: 10.420, Validation loss: 7.513\n",
      "Epoch: 6, Training Loss: 9.072, Validation loss: 8.118\n",
      "Epoch: 7, Training Loss: 7.956, Validation loss: 8.711\n",
      "Epoch: 8, Training Loss: 6.693, Validation loss: 9.183\n",
      "Epoch: 9, Training Loss: 5.618, Validation loss: 9.292\n",
      "Epoch: 10, Training Loss: 4.328, Validation loss: 9.282\n",
      "Epoch: 11, Training Loss: 3.822, Validation loss: 9.983\n",
      "Epoch: 12, Training Loss: 3.276, Validation loss: 9.815\n",
      "Epoch: 13, Training Loss: 2.727, Validation loss: 10.376\n",
      "Epoch: 14, Training Loss: 2.424, Validation loss: 10.600\n",
      "Epoch: 15, Training Loss: 2.215, Validation loss: 10.792\n",
      "Epoch: 16, Training Loss: 2.279, Validation loss: 10.998\n",
      "Epoch: 17, Training Loss: 1.820, Validation loss: 10.532\n",
      "Epoch: 18, Training Loss: 1.549, Validation loss: 10.363\n",
      "Epoch: 19, Training Loss: 1.368, Validation loss: 10.695\n"
     ]
    },
    {
     "name": "stderr",
     "output_type": "stream",
     "text": [
      "No handles with labels found to put in legend.\n"
     ]
    },
    {
     "data": {
      "image/png": "[encoded data removed]",
      "text/plain": [
       "<Figure size 432x288 with 1 Axes>"
      ]
     },
     "metadata": {
      "needs_background": "light"
     },
     "output_type": "display_data"
    }
   ],
   "source": [
    "def main():\n",
    "    network = Sequential_Net()\n",
    "    print(network)\n",
    "    \n",
    "    loss_fn = nn.MSELoss()\n",
    "    optimizer = torch.optim.Adam(network.parameters(), lr=0.01)\n",
    "    \n",
    "    # GPU for cloud training\n",
    "    if torch.cuda.is_available(): # If PyTorch reports that GPU is available\n",
    "        device = torch.device(\"cuda\") # device = GPU\n",
    "    else:\n",
    "        device = torch.device(\"cpu\") # device = CPU\n",
    "\n",
    "    network = network.to(device) # Copy model to device\n",
    "    \n",
    "    # Train and Evaluate\n",
    "    train(network=network, loss_fn=loss_fn, optimizer=optimizer,\n",
    "          train_loader=train_dl, val_loader=test_dl, n_epochs=20, \n",
    "          device=device)\n",
    "    \n",
    "    # Save model \n",
    "    system_path = r\"C:/Users/uniqu/Adaptation/github repos\" \\\n",
    "                  + \"/Bioinformatics-Neural Networks for Genomic Risk\"\n",
    "    local_path = \"/temp/saved_weights\"\n",
    "    path = system_path + local_path\n",
    "    torch.save(network.state_dict(), path)\n",
    "    \n",
    "    # Load model\n",
    "    # network_state_dict = torch.load(path)\n",
    "    # new_net = Sequential_Net()\n",
    "    # new_net.load_state_dict(network_state_dict)\n",
    "\n",
    "main()"
   ]
  },
  {
   "cell_type": "markdown",
   "metadata": {},
   "source": [
    "Definitely overtraining.\n",
    "### Thoughts\n",
    "- Add dropout layers\n",
    "- Add regularization term\n",
    "- How do I use exprs?"
   ]
  }
 ],
 "metadata": {
  "kernelspec": {
   "display_name": "Python (ds_env)",
   "language": "python",
   "name": "ds_env"
  },
  "language_info": {
   "codemirror_mode": {
    "name": "ipython",
    "version": 3
   },
   "file_extension": ".py",
   "mimetype": "text/x-python",
   "name": "python",
   "nbconvert_exporter": "python",
   "pygments_lexer": "ipython3",
   "version": "3.8.3"
  },
  "toc": {
   "base_numbering": 1,
   "nav_menu": {},
   "number_sections": true,
   "sideBar": true,
   "skip_h1_title": true,
   "title_cell": "Table of Contents",
   "title_sidebar": "Contents",
   "toc_cell": true,
   "toc_position": {},
   "toc_section_display": true,
   "toc_window_display": false
  }
 },
 "nbformat": 4,
 "nbformat_minor": 4
}
