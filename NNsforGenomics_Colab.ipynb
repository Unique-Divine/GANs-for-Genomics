{
  "nbformat": 4,
  "nbformat_minor": 0,
  "metadata": {
    "colab": {
      "name": "NNsforGenomics-Colab.ipynb",
      "provenance": []
    },
    "kernelspec": {
      "name": "python3",
      "display_name": "Python 3"
    },
    "accelerator": "GPU"
  },
  "cells": [
    {
      "cell_type": "markdown",
      "metadata": {
        "id": "bkh0Z3vEJuj1"
      },
      "source": [
        "For faster development speed, type `Ctrl + M, H` to view Google Colab keyboard shortcuts."
      ]
    },
    {
      "cell_type": "markdown",
      "metadata": {
        "id": "rwgUdFx9ZQIl"
      },
      "source": [
        "### Getting Started\n",
        "\n",
        "\n",
        "#### Mounting your Google Drive"
      ]
    },
    {
      "cell_type": "code",
      "metadata": {
        "colab": {
          "base_uri": "https://localhost:8080/"
        },
        "id": "ze4LOQG2ZoAk",
        "outputId": "769fa434-b329-4304-d96c-4b46879f2ec3"
      },
      "source": [
        "from google.colab import drive\n",
        "\n",
        "\"\"\"Running this cell will generate a message asking you \n",
        "to click on a link where you'll obtain an authorization code.\n",
        "\n",
        "Paste that authorization code into the text box that appears below.\n",
        "\"\"\"\n",
        "drive.mount('/content/gdrive')"
      ],
      "execution_count": 18,
      "outputs": [
        {
          "output_type": "stream",
          "text": [
            "Mounted at /content/gdrive\n"
          ],
          "name": "stdout"
        }
      ]
    },
    {
      "cell_type": "code",
      "metadata": {
        "colab": {
          "base_uri": "https://localhost:8080/"
        },
        "id": "X8J16t4dZpOp",
        "outputId": "a3f4bddc-f38e-4341-b768-5afc60af5ada"
      },
      "source": [
        "!cd \"/content/gdrive/MyDrive/\" && ls # Displays directories in MyDrive/"
      ],
      "execution_count": 29,
      "outputs": [
        {
          "output_type": "stream",
          "text": [
            " ApTSi\t\t    Education\t'School-Related Planning'   地位を申し込む\n",
            "'Colab Notebooks'   Other\t SCIP\n",
            " Data\t\t    Recordings\t temp\n"
          ],
          "name": "stdout"
        }
      ]
    },
    {
      "cell_type": "code",
      "metadata": {
        "id": "dqxOD3I5RLdi"
      },
      "source": [
        "import torch"
      ],
      "execution_count": 3,
      "outputs": []
    },
    {
      "cell_type": "code",
      "metadata": {
        "colab": {
          "base_uri": "https://localhost:8080/"
        },
        "id": "FOgS9vzhVhL8",
        "outputId": "5da4b4ff-1079-4627-b6ac-1871e6d06fbc"
      },
      "source": [
        "print(torch.cuda.device_count()) # number of GPU devices available\n",
        "print(torch.cuda.get_device_name(0)) # name of device\n",
        "device = torch.device('cuda:0') # sets the device to the cuda at index 0\n",
        "device"
      ],
      "execution_count": 9,
      "outputs": [
        {
          "output_type": "stream",
          "text": [
            "1\n",
            "Tesla K80\n"
          ],
          "name": "stdout"
        },
        {
          "output_type": "execute_result",
          "data": {
            "text/plain": [
              "device(type='cuda', index=0)"
            ]
          },
          "metadata": {
            "tags": []
          },
          "execution_count": 9
        }
      ]
    },
    {
      "cell_type": "code",
      "metadata": {
        "colab": {
          "base_uri": "https://localhost:8080/"
        },
        "id": "JzB-D-ROVnnp",
        "outputId": "95510c36-d944-4cb9-a226-14944c6233e1"
      },
      "source": [
        "torch.device('cuda:0')"
      ],
      "execution_count": 7,
      "outputs": [
        {
          "output_type": "execute_result",
          "data": {
            "text/plain": [
              "device(type='cuda', index=0)"
            ]
          },
          "metadata": {
            "tags": []
          },
          "execution_count": 7
        }
      ]
    },
    {
      "cell_type": "code",
      "metadata": {
        "id": "mqM12yfhV9-J"
      },
      "source": [
        ""
      ],
      "execution_count": null,
      "outputs": []
    }
  ]
}