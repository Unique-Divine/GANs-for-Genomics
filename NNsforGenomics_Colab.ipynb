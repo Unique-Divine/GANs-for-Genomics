{
  "nbformat": 4,
  "nbformat_minor": 0,
  "metadata": {
    "colab": {
      "name": "NNsforGenomics-Colab.ipynb",
      "provenance": []
    },
    "kernelspec": {
      "name": "python3",
      "display_name": "Python 3"
    },
    "accelerator": "GPU"
  },
  "cells": [
    {
      "cell_type": "markdown",
      "metadata": {
        "id": "bkh0Z3vEJuj1"
      },
      "source": [
        "For faster development speed, type `Ctrl + M, H` to view Google Colab keyboard shortcuts."
      ]
    },
    {
      "cell_type": "markdown",
      "metadata": {
        "id": "rwgUdFx9ZQIl"
      },
      "source": [
        "### Getting Started\n",
        "\n",
        "\n",
        "#### Mounting your Google Drive"
      ]
    },
    {
      "cell_type": "code",
      "metadata": {
        "id": "ze4LOQG2ZoAk"
      },
      "source": [
        "import os\n",
        "import torch\n",
        "import numpy as np\n",
        "import pandas as pd\n",
        "import matplotlib.pyplot as plt\n",
        "from sklearn import feature_selection\n",
        "import sklearn.preprocessing\n",
        "from sklearn import metrics"
      ],
      "execution_count": 101,
      "outputs": []
    },
    {
      "cell_type": "code",
      "metadata": {
        "colab": {
          "base_uri": "https://localhost:8080/"
        },
        "id": "5908d_KoaoH3",
        "outputId": "0cc5fe6d-7f7c-4e6f-c0c7-f2cdffe216aa"
      },
      "source": [
        "from google.colab import drive\r\n",
        "\r\n",
        "\"\"\"Running this cell will generate a message asking you \r\n",
        "to click on a link where you'll obtain an authorization code.\r\n",
        "\r\n",
        "Paste that authorization code into the text box that appears below.\r\n",
        "\"\"\"\r\n",
        "drive.mount('/content/gdrive')"
      ],
      "execution_count": 2,
      "outputs": [
        {
          "output_type": "stream",
          "text": [
            "Drive already mounted at /content/gdrive; to attempt to forcibly remount, call drive.mount(\"/content/gdrive\", force_remount=True).\n"
          ],
          "name": "stdout"
        }
      ]
    },
    {
      "cell_type": "code",
      "metadata": {
        "colab": {
          "base_uri": "https://localhost:8080/"
        },
        "id": "X8J16t4dZpOp",
        "outputId": "30f8b0b3-bcdb-4a7e-c611-3dbee5031107"
      },
      "source": [
        "!cd \"/content/gdrive/MyDrive/\" && ls # Displays directories in MyDrive/"
      ],
      "execution_count": 3,
      "outputs": [
        {
          "output_type": "stream",
          "text": [
            " ApTSi\t\t    Education\t'School-Related Planning'   地位を申し込む\n",
            "'Colab Notebooks'   Other\t SCIP\n",
            " Data\t\t    Recordings\t temp\n"
          ],
          "name": "stdout"
        }
      ]
    },
    {
      "cell_type": "code",
      "metadata": {
        "colab": {
          "base_uri": "https://localhost:8080/"
        },
        "id": "zJ2O5DloaWc0",
        "outputId": "74e231c8-13f3-442f-8568-ad7a90365f31"
      },
      "source": [
        "dir_path = os.path.join(\"/content/gdrive/MyDrive/Data\", \"NNsforGenomics\")\r\n",
        "os.path.exists(dir_path)"
      ],
      "execution_count": 4,
      "outputs": [
        {
          "output_type": "execute_result",
          "data": {
            "text/plain": [
              "True"
            ]
          },
          "metadata": {
            "tags": []
          },
          "execution_count": 4
        }
      ]
    },
    {
      "cell_type": "code",
      "metadata": {
        "id": "dqxOD3I5RLdi",
        "colab": {
          "base_uri": "https://localhost:8080/"
        },
        "outputId": "02c854a6-fb00-4f03-8cfc-c15b64656ea1"
      },
      "source": [
        "!cd {dir_path} && ls"
      ],
      "execution_count": 5,
      "outputs": [
        {
          "output_type": "stream",
          "text": [
            "ctgan  data  ml_models.py  neural_networks.py  preprocessing.py  __pycache__\n"
          ],
          "name": "stdout"
        }
      ]
    },
    {
      "cell_type": "code",
      "metadata": {
        "id": "JhpAy83kdexm"
      },
      "source": [
        "import sys\r\n",
        "sys.path.append(dir_path)\r\n",
        "data_path = os.path.join(dir_path, \"data\")\r\n"
      ],
      "execution_count": 6,
      "outputs": []
    },
    {
      "cell_type": "code",
      "metadata": {
        "colab": {
          "base_uri": "https://localhost:8080/"
        },
        "id": "35-fUvYtgGz9",
        "outputId": "b1863f37-7f29-4131-ab6e-a4ab9c94cc4f"
      },
      "source": [
        "import ctgan \r\n",
        "import preprocessing\r\n",
        "import ml_models\r\n",
        "import neural_networks"
      ],
      "execution_count": 7,
      "outputs": [
        {
          "output_type": "stream",
          "text": [
            "/usr/local/lib/python3.6/dist-packages/sklearn/utils/deprecation.py:144: FutureWarning: The sklearn.utils.testing module is  deprecated in version 0.22 and will be removed in version 0.24. The corresponding classes / functions should instead be imported from sklearn.utils. Anything that cannot be imported from sklearn.utils is now part of the private API.\n",
            "  warnings.warn(message, FutureWarning)\n"
          ],
          "name": "stderr"
        }
      ]
    },
    {
      "cell_type": "code",
      "metadata": {
        "id": "0lwJ8AwqgMt3"
      },
      "source": [
        "pp = preprocessing.Preprocessing()\r\n",
        "Y, names = pp.get_Y(data_path=data_path)\r\n",
        "X = pd.read_csv(os.path.join(data_path, \"X.csv\"))"
      ],
      "execution_count": 8,
      "outputs": []
    },
    {
      "cell_type": "code",
      "metadata": {
        "colab": {
          "base_uri": "https://localhost:8080/"
        },
        "id": "Ytp9owvHkloo",
        "outputId": "84fddd65-7cc8-4e01-fe2a-1bdf615147a8"
      },
      "source": [
        "X.shape, Y.shape"
      ],
      "execution_count": 9,
      "outputs": [
        {
          "output_type": "execute_result",
          "data": {
            "text/plain": [
              "((4061, 25869), (4061, 1))"
            ]
          },
          "metadata": {
            "tags": []
          },
          "execution_count": 9
        }
      ]
    },
    {
      "cell_type": "code",
      "metadata": {
        "colab": {
          "base_uri": "https://localhost:8080/"
        },
        "id": "B74XscQVnewY",
        "outputId": "eb5af415-6b99-4d36-874c-4edee8236c84"
      },
      "source": [
        "X.info()"
      ],
      "execution_count": 10,
      "outputs": [
        {
          "output_type": "stream",
          "text": [
            "<class 'pandas.core.frame.DataFrame'>\n",
            "RangeIndex: 4061 entries, 0 to 4060\n",
            "Columns: 25869 entries, chr5.32745853 to chr17.38364472\n",
            "dtypes: float64(25869)\n",
            "memory usage: 801.5 MB\n"
          ],
          "name": "stdout"
        }
      ]
    },
    {
      "cell_type": "code",
      "metadata": {
        "colab": {
          "base_uri": "https://localhost:8080/"
        },
        "id": "2jRbO_T4m60o",
        "outputId": "5503d0f2-2233-4030-ac3b-63c84e14a96f"
      },
      "source": [
        "X.values"
      ],
      "execution_count": 11,
      "outputs": [
        {
          "output_type": "execute_result",
          "data": {
            "text/plain": [
              "array([[0., 0., 0., ..., 1., 1., 0.],\n",
              "       [0., 0., 1., ..., 1., 0., 1.],\n",
              "       [0., 0., 1., ..., 1., 1., 0.],\n",
              "       ...,\n",
              "       [1., 0., 0., ..., 0., 0., 0.],\n",
              "       [1., 0., 0., ..., 0., 0., 0.],\n",
              "       [1., 0., 0., ..., 0., 0., 0.]])"
            ]
          },
          "metadata": {
            "tags": []
          },
          "execution_count": 11
        }
      ]
    },
    {
      "cell_type": "code",
      "metadata": {
        "colab": {
          "base_uri": "https://localhost:8080/",
          "height": 336
        },
        "id": "bOW9NTUPmr59",
        "outputId": "fde369ee-561f-4f94-def1-48bcbe7d7302"
      },
      "source": [
        "X.describe()"
      ],
      "execution_count": 12,
      "outputs": [
        {
          "output_type": "execute_result",
          "data": {
            "text/html": [
              "<div>\n",
              "<style scoped>\n",
              "    .dataframe tbody tr th:only-of-type {\n",
              "        vertical-align: middle;\n",
              "    }\n",
              "\n",
              "    .dataframe tbody tr th {\n",
              "        vertical-align: top;\n",
              "    }\n",
              "\n",
              "    .dataframe thead th {\n",
              "        text-align: right;\n",
              "    }\n",
              "</style>\n",
              "<table border=\"1\" class=\"dataframe\">\n",
              "  <thead>\n",
              "    <tr style=\"text-align: right;\">\n",
              "      <th></th>\n",
              "      <th>chr5.32745853</th>\n",
              "      <th>chr2.149849943</th>\n",
              "      <th>chr5.82690803</th>\n",
              "      <th>chr1.53574431</th>\n",
              "      <th>chr5.17456949</th>\n",
              "      <th>chr2.16908413</th>\n",
              "      <th>chr5.101199272</th>\n",
              "      <th>chr6.87974476</th>\n",
              "      <th>chr1.145668041</th>\n",
              "      <th>chr2.128289333</th>\n",
              "      <th>chr8.55456863</th>\n",
              "      <th>chr16.57579492</th>\n",
              "      <th>chr3.171581928</th>\n",
              "      <th>chr3.146346938</th>\n",
              "      <th>chr11.4956178</th>\n",
              "      <th>chr10.76495410</th>\n",
              "      <th>chr4.66467903</th>\n",
              "      <th>chr3.118922000</th>\n",
              "      <th>chr6.49826396</th>\n",
              "      <th>chr6.52647731</th>\n",
              "      <th>chr15.45004024</th>\n",
              "      <th>chr17.76466409</th>\n",
              "      <th>chr18.16976343</th>\n",
              "      <th>chr12.26514331</th>\n",
              "      <th>chr2.45201538</th>\n",
              "      <th>chr13.71570078</th>\n",
              "      <th>chr15.94670186</th>\n",
              "      <th>chr5.169760208</th>\n",
              "      <th>chr2.26057623</th>\n",
              "      <th>chr3.87933394</th>\n",
              "      <th>chr15.39337568</th>\n",
              "      <th>chr8.38082142</th>\n",
              "      <th>chr3.61930186</th>\n",
              "      <th>chr7.133818582</th>\n",
              "      <th>chr1.176679587</th>\n",
              "      <th>chr1.113308067</th>\n",
              "      <th>chr14.111487418</th>\n",
              "      <th>chr6.36112155</th>\n",
              "      <th>chr20.19654001</th>\n",
              "      <th>chr19.11525760</th>\n",
              "      <th>...</th>\n",
              "      <th>chr7.119977570</th>\n",
              "      <th>chr15.56870663</th>\n",
              "      <th>chr14.112196834</th>\n",
              "      <th>chr4.132265658</th>\n",
              "      <th>chr7.125708822</th>\n",
              "      <th>chr10.47433609</th>\n",
              "      <th>chr18.74608063</th>\n",
              "      <th>chr17.5080971</th>\n",
              "      <th>chr14.39366460</th>\n",
              "      <th>chr19.30358965</th>\n",
              "      <th>chr15.30841673</th>\n",
              "      <th>chr11.61819007</th>\n",
              "      <th>chr1.231581487</th>\n",
              "      <th>chr6.105424335</th>\n",
              "      <th>chr13.53558295</th>\n",
              "      <th>chr15.46605240</th>\n",
              "      <th>chr11.26627375</th>\n",
              "      <th>chr8.12542048</th>\n",
              "      <th>chr4.146868806</th>\n",
              "      <th>chr1.125270544</th>\n",
              "      <th>chr1.153848414</th>\n",
              "      <th>chr18.12304992</th>\n",
              "      <th>chr9.112665146</th>\n",
              "      <th>chr13.56615454</th>\n",
              "      <th>chr6.130328526</th>\n",
              "      <th>chr8.17722261</th>\n",
              "      <th>chr8.59962351</th>\n",
              "      <th>chr5.138885511</th>\n",
              "      <th>chr8.72868651</th>\n",
              "      <th>chr1.130970243</th>\n",
              "      <th>chr17.79903024</th>\n",
              "      <th>chr11.3180079</th>\n",
              "      <th>chr13.69847004</th>\n",
              "      <th>chr1.88863543</th>\n",
              "      <th>chr1.112074978</th>\n",
              "      <th>chr6.41497792</th>\n",
              "      <th>chr5.101909804</th>\n",
              "      <th>chr1.229171454</th>\n",
              "      <th>chr6.4991602</th>\n",
              "      <th>chr17.38364472</th>\n",
              "    </tr>\n",
              "  </thead>\n",
              "  <tbody>\n",
              "    <tr>\n",
              "      <th>count</th>\n",
              "      <td>4061.000000</td>\n",
              "      <td>4061.000000</td>\n",
              "      <td>4061.000000</td>\n",
              "      <td>4061.000000</td>\n",
              "      <td>4061.000000</td>\n",
              "      <td>4061.000000</td>\n",
              "      <td>4061.000000</td>\n",
              "      <td>4061.000000</td>\n",
              "      <td>4061.000000</td>\n",
              "      <td>4061.000000</td>\n",
              "      <td>4061.000000</td>\n",
              "      <td>4061.000000</td>\n",
              "      <td>4061.000000</td>\n",
              "      <td>4061.000000</td>\n",
              "      <td>4061.000000</td>\n",
              "      <td>4061.000000</td>\n",
              "      <td>4061.000000</td>\n",
              "      <td>4061.000000</td>\n",
              "      <td>4061.000000</td>\n",
              "      <td>4061.000000</td>\n",
              "      <td>4061.000000</td>\n",
              "      <td>4061.000000</td>\n",
              "      <td>4061.000000</td>\n",
              "      <td>4061.000000</td>\n",
              "      <td>4061.000000</td>\n",
              "      <td>4061.000000</td>\n",
              "      <td>4061.000000</td>\n",
              "      <td>4061.00000</td>\n",
              "      <td>4061.000000</td>\n",
              "      <td>4061.000000</td>\n",
              "      <td>4061.000000</td>\n",
              "      <td>4061.000000</td>\n",
              "      <td>4061.000000</td>\n",
              "      <td>4061.000000</td>\n",
              "      <td>4061.000000</td>\n",
              "      <td>4061.000000</td>\n",
              "      <td>4061.000000</td>\n",
              "      <td>4061.000000</td>\n",
              "      <td>4061.000000</td>\n",
              "      <td>4061.000000</td>\n",
              "      <td>...</td>\n",
              "      <td>4061.000000</td>\n",
              "      <td>4061.000000</td>\n",
              "      <td>4061.000000</td>\n",
              "      <td>4061.000000</td>\n",
              "      <td>4061.000000</td>\n",
              "      <td>4061.000000</td>\n",
              "      <td>4061.000000</td>\n",
              "      <td>4061.000000</td>\n",
              "      <td>4061.000000</td>\n",
              "      <td>4061.000000</td>\n",
              "      <td>4061.000000</td>\n",
              "      <td>4061.000000</td>\n",
              "      <td>4061.000000</td>\n",
              "      <td>4061.000000</td>\n",
              "      <td>4061.000000</td>\n",
              "      <td>4061.000000</td>\n",
              "      <td>4061.000000</td>\n",
              "      <td>4061.000000</td>\n",
              "      <td>4061.000000</td>\n",
              "      <td>4061.000000</td>\n",
              "      <td>4061.000000</td>\n",
              "      <td>4061.000000</td>\n",
              "      <td>4061.000000</td>\n",
              "      <td>4061.000000</td>\n",
              "      <td>4061.000000</td>\n",
              "      <td>4061.000000</td>\n",
              "      <td>4061.000000</td>\n",
              "      <td>4061.000000</td>\n",
              "      <td>4061.000000</td>\n",
              "      <td>4061.000000</td>\n",
              "      <td>4061.000000</td>\n",
              "      <td>4061.000000</td>\n",
              "      <td>4061.000000</td>\n",
              "      <td>4061.000000</td>\n",
              "      <td>4061.000000</td>\n",
              "      <td>4061.000000</td>\n",
              "      <td>4061.000000</td>\n",
              "      <td>4061.000000</td>\n",
              "      <td>4061.000000</td>\n",
              "      <td>4061.000000</td>\n",
              "    </tr>\n",
              "    <tr>\n",
              "      <th>mean</th>\n",
              "      <td>0.438316</td>\n",
              "      <td>0.057621</td>\n",
              "      <td>0.355331</td>\n",
              "      <td>0.839448</td>\n",
              "      <td>0.964295</td>\n",
              "      <td>0.720758</td>\n",
              "      <td>0.852992</td>\n",
              "      <td>0.489042</td>\n",
              "      <td>0.173603</td>\n",
              "      <td>0.580153</td>\n",
              "      <td>0.375031</td>\n",
              "      <td>0.919724</td>\n",
              "      <td>0.667077</td>\n",
              "      <td>0.847821</td>\n",
              "      <td>0.796109</td>\n",
              "      <td>0.916769</td>\n",
              "      <td>0.155380</td>\n",
              "      <td>0.564885</td>\n",
              "      <td>0.101699</td>\n",
              "      <td>1.020438</td>\n",
              "      <td>0.246737</td>\n",
              "      <td>0.661167</td>\n",
              "      <td>0.612903</td>\n",
              "      <td>0.456045</td>\n",
              "      <td>0.218665</td>\n",
              "      <td>0.527703</td>\n",
              "      <td>0.718788</td>\n",
              "      <td>0.78626</td>\n",
              "      <td>0.878355</td>\n",
              "      <td>0.980793</td>\n",
              "      <td>0.574982</td>\n",
              "      <td>0.055898</td>\n",
              "      <td>0.400148</td>\n",
              "      <td>0.278749</td>\n",
              "      <td>0.166954</td>\n",
              "      <td>0.604777</td>\n",
              "      <td>0.375523</td>\n",
              "      <td>0.373800</td>\n",
              "      <td>0.291061</td>\n",
              "      <td>0.559961</td>\n",
              "      <td>...</td>\n",
              "      <td>0.443979</td>\n",
              "      <td>0.330460</td>\n",
              "      <td>0.714602</td>\n",
              "      <td>0.660428</td>\n",
              "      <td>0.891160</td>\n",
              "      <td>0.151194</td>\n",
              "      <td>0.430928</td>\n",
              "      <td>0.031027</td>\n",
              "      <td>0.833292</td>\n",
              "      <td>0.430190</td>\n",
              "      <td>0.058360</td>\n",
              "      <td>0.170648</td>\n",
              "      <td>0.336124</td>\n",
              "      <td>0.675696</td>\n",
              "      <td>0.504802</td>\n",
              "      <td>0.799557</td>\n",
              "      <td>0.703768</td>\n",
              "      <td>0.942871</td>\n",
              "      <td>0.555036</td>\n",
              "      <td>0.922433</td>\n",
              "      <td>0.875893</td>\n",
              "      <td>0.048018</td>\n",
              "      <td>0.173110</td>\n",
              "      <td>0.360995</td>\n",
              "      <td>0.359025</td>\n",
              "      <td>0.262251</td>\n",
              "      <td>0.939670</td>\n",
              "      <td>1.034721</td>\n",
              "      <td>0.039153</td>\n",
              "      <td>0.777395</td>\n",
              "      <td>0.516622</td>\n",
              "      <td>0.823196</td>\n",
              "      <td>0.753263</td>\n",
              "      <td>0.676188</td>\n",
              "      <td>0.825412</td>\n",
              "      <td>0.278010</td>\n",
              "      <td>0.839448</td>\n",
              "      <td>0.540261</td>\n",
              "      <td>0.505294</td>\n",
              "      <td>0.119921</td>\n",
              "    </tr>\n",
              "    <tr>\n",
              "      <th>std</th>\n",
              "      <td>0.645522</td>\n",
              "      <td>0.233055</td>\n",
              "      <td>0.598491</td>\n",
              "      <td>0.917445</td>\n",
              "      <td>0.863294</td>\n",
              "      <td>0.789921</td>\n",
              "      <td>0.960967</td>\n",
              "      <td>0.675898</td>\n",
              "      <td>0.419538</td>\n",
              "      <td>0.682498</td>\n",
              "      <td>0.590947</td>\n",
              "      <td>0.878847</td>\n",
              "      <td>0.782488</td>\n",
              "      <td>0.707795</td>\n",
              "      <td>0.930223</td>\n",
              "      <td>0.863586</td>\n",
              "      <td>0.362991</td>\n",
              "      <td>0.646353</td>\n",
              "      <td>0.308739</td>\n",
              "      <td>0.875685</td>\n",
              "      <td>0.493497</td>\n",
              "      <td>0.800518</td>\n",
              "      <td>0.810869</td>\n",
              "      <td>0.659042</td>\n",
              "      <td>0.457511</td>\n",
              "      <td>0.652795</td>\n",
              "      <td>0.877027</td>\n",
              "      <td>0.79352</td>\n",
              "      <td>0.902911</td>\n",
              "      <td>0.764434</td>\n",
              "      <td>0.709960</td>\n",
              "      <td>0.235051</td>\n",
              "      <td>0.571223</td>\n",
              "      <td>0.549172</td>\n",
              "      <td>0.411295</td>\n",
              "      <td>0.768638</td>\n",
              "      <td>0.625077</td>\n",
              "      <td>0.560738</td>\n",
              "      <td>0.527557</td>\n",
              "      <td>0.704778</td>\n",
              "      <td>...</td>\n",
              "      <td>0.655501</td>\n",
              "      <td>0.573753</td>\n",
              "      <td>0.704004</td>\n",
              "      <td>0.823714</td>\n",
              "      <td>0.870973</td>\n",
              "      <td>0.386715</td>\n",
              "      <td>0.669879</td>\n",
              "      <td>0.173412</td>\n",
              "      <td>0.733461</td>\n",
              "      <td>0.662407</td>\n",
              "      <td>0.234452</td>\n",
              "      <td>0.406457</td>\n",
              "      <td>0.564157</td>\n",
              "      <td>0.670984</td>\n",
              "      <td>0.635012</td>\n",
              "      <td>0.918453</td>\n",
              "      <td>0.828470</td>\n",
              "      <td>0.894805</td>\n",
              "      <td>0.730569</td>\n",
              "      <td>0.846983</td>\n",
              "      <td>0.822625</td>\n",
              "      <td>0.216122</td>\n",
              "      <td>0.414427</td>\n",
              "      <td>0.610011</td>\n",
              "      <td>0.627479</td>\n",
              "      <td>0.509927</td>\n",
              "      <td>0.774949</td>\n",
              "      <td>0.749401</td>\n",
              "      <td>0.196506</td>\n",
              "      <td>0.841176</td>\n",
              "      <td>0.733459</td>\n",
              "      <td>0.944397</td>\n",
              "      <td>0.818019</td>\n",
              "      <td>0.691822</td>\n",
              "      <td>0.947543</td>\n",
              "      <td>0.509788</td>\n",
              "      <td>0.952999</td>\n",
              "      <td>0.741565</td>\n",
              "      <td>0.721782</td>\n",
              "      <td>0.342620</td>\n",
              "    </tr>\n",
              "    <tr>\n",
              "      <th>min</th>\n",
              "      <td>0.000000</td>\n",
              "      <td>0.000000</td>\n",
              "      <td>0.000000</td>\n",
              "      <td>0.000000</td>\n",
              "      <td>0.000000</td>\n",
              "      <td>0.000000</td>\n",
              "      <td>0.000000</td>\n",
              "      <td>0.000000</td>\n",
              "      <td>0.000000</td>\n",
              "      <td>0.000000</td>\n",
              "      <td>0.000000</td>\n",
              "      <td>0.000000</td>\n",
              "      <td>0.000000</td>\n",
              "      <td>0.000000</td>\n",
              "      <td>0.000000</td>\n",
              "      <td>0.000000</td>\n",
              "      <td>0.000000</td>\n",
              "      <td>0.000000</td>\n",
              "      <td>0.000000</td>\n",
              "      <td>0.000000</td>\n",
              "      <td>0.000000</td>\n",
              "      <td>0.000000</td>\n",
              "      <td>0.000000</td>\n",
              "      <td>0.000000</td>\n",
              "      <td>0.000000</td>\n",
              "      <td>0.000000</td>\n",
              "      <td>0.000000</td>\n",
              "      <td>0.00000</td>\n",
              "      <td>0.000000</td>\n",
              "      <td>0.000000</td>\n",
              "      <td>0.000000</td>\n",
              "      <td>0.000000</td>\n",
              "      <td>0.000000</td>\n",
              "      <td>0.000000</td>\n",
              "      <td>0.000000</td>\n",
              "      <td>0.000000</td>\n",
              "      <td>0.000000</td>\n",
              "      <td>0.000000</td>\n",
              "      <td>0.000000</td>\n",
              "      <td>0.000000</td>\n",
              "      <td>...</td>\n",
              "      <td>0.000000</td>\n",
              "      <td>0.000000</td>\n",
              "      <td>0.000000</td>\n",
              "      <td>0.000000</td>\n",
              "      <td>0.000000</td>\n",
              "      <td>0.000000</td>\n",
              "      <td>0.000000</td>\n",
              "      <td>0.000000</td>\n",
              "      <td>0.000000</td>\n",
              "      <td>0.000000</td>\n",
              "      <td>0.000000</td>\n",
              "      <td>0.000000</td>\n",
              "      <td>0.000000</td>\n",
              "      <td>0.000000</td>\n",
              "      <td>0.000000</td>\n",
              "      <td>0.000000</td>\n",
              "      <td>0.000000</td>\n",
              "      <td>0.000000</td>\n",
              "      <td>0.000000</td>\n",
              "      <td>0.000000</td>\n",
              "      <td>0.000000</td>\n",
              "      <td>0.000000</td>\n",
              "      <td>0.000000</td>\n",
              "      <td>0.000000</td>\n",
              "      <td>0.000000</td>\n",
              "      <td>0.000000</td>\n",
              "      <td>0.000000</td>\n",
              "      <td>0.000000</td>\n",
              "      <td>0.000000</td>\n",
              "      <td>0.000000</td>\n",
              "      <td>0.000000</td>\n",
              "      <td>0.000000</td>\n",
              "      <td>0.000000</td>\n",
              "      <td>0.000000</td>\n",
              "      <td>0.000000</td>\n",
              "      <td>0.000000</td>\n",
              "      <td>0.000000</td>\n",
              "      <td>0.000000</td>\n",
              "      <td>0.000000</td>\n",
              "      <td>0.000000</td>\n",
              "    </tr>\n",
              "    <tr>\n",
              "      <th>25%</th>\n",
              "      <td>0.000000</td>\n",
              "      <td>0.000000</td>\n",
              "      <td>0.000000</td>\n",
              "      <td>0.000000</td>\n",
              "      <td>0.000000</td>\n",
              "      <td>0.000000</td>\n",
              "      <td>0.000000</td>\n",
              "      <td>0.000000</td>\n",
              "      <td>0.000000</td>\n",
              "      <td>0.000000</td>\n",
              "      <td>0.000000</td>\n",
              "      <td>0.000000</td>\n",
              "      <td>0.000000</td>\n",
              "      <td>0.000000</td>\n",
              "      <td>0.000000</td>\n",
              "      <td>0.000000</td>\n",
              "      <td>0.000000</td>\n",
              "      <td>0.000000</td>\n",
              "      <td>0.000000</td>\n",
              "      <td>0.000000</td>\n",
              "      <td>0.000000</td>\n",
              "      <td>0.000000</td>\n",
              "      <td>0.000000</td>\n",
              "      <td>0.000000</td>\n",
              "      <td>0.000000</td>\n",
              "      <td>0.000000</td>\n",
              "      <td>0.000000</td>\n",
              "      <td>0.00000</td>\n",
              "      <td>0.000000</td>\n",
              "      <td>0.000000</td>\n",
              "      <td>0.000000</td>\n",
              "      <td>0.000000</td>\n",
              "      <td>0.000000</td>\n",
              "      <td>0.000000</td>\n",
              "      <td>0.000000</td>\n",
              "      <td>0.000000</td>\n",
              "      <td>0.000000</td>\n",
              "      <td>0.000000</td>\n",
              "      <td>0.000000</td>\n",
              "      <td>0.000000</td>\n",
              "      <td>...</td>\n",
              "      <td>0.000000</td>\n",
              "      <td>0.000000</td>\n",
              "      <td>0.000000</td>\n",
              "      <td>0.000000</td>\n",
              "      <td>0.000000</td>\n",
              "      <td>0.000000</td>\n",
              "      <td>0.000000</td>\n",
              "      <td>0.000000</td>\n",
              "      <td>0.000000</td>\n",
              "      <td>0.000000</td>\n",
              "      <td>0.000000</td>\n",
              "      <td>0.000000</td>\n",
              "      <td>0.000000</td>\n",
              "      <td>0.000000</td>\n",
              "      <td>0.000000</td>\n",
              "      <td>0.000000</td>\n",
              "      <td>0.000000</td>\n",
              "      <td>0.000000</td>\n",
              "      <td>0.000000</td>\n",
              "      <td>0.000000</td>\n",
              "      <td>0.000000</td>\n",
              "      <td>0.000000</td>\n",
              "      <td>0.000000</td>\n",
              "      <td>0.000000</td>\n",
              "      <td>0.000000</td>\n",
              "      <td>0.000000</td>\n",
              "      <td>0.000000</td>\n",
              "      <td>0.000000</td>\n",
              "      <td>0.000000</td>\n",
              "      <td>0.000000</td>\n",
              "      <td>0.000000</td>\n",
              "      <td>0.000000</td>\n",
              "      <td>0.000000</td>\n",
              "      <td>0.000000</td>\n",
              "      <td>0.000000</td>\n",
              "      <td>0.000000</td>\n",
              "      <td>0.000000</td>\n",
              "      <td>0.000000</td>\n",
              "      <td>0.000000</td>\n",
              "      <td>0.000000</td>\n",
              "    </tr>\n",
              "    <tr>\n",
              "      <th>50%</th>\n",
              "      <td>0.000000</td>\n",
              "      <td>0.000000</td>\n",
              "      <td>0.000000</td>\n",
              "      <td>0.000000</td>\n",
              "      <td>1.000000</td>\n",
              "      <td>1.000000</td>\n",
              "      <td>0.000000</td>\n",
              "      <td>0.000000</td>\n",
              "      <td>0.000000</td>\n",
              "      <td>0.000000</td>\n",
              "      <td>0.000000</td>\n",
              "      <td>1.000000</td>\n",
              "      <td>0.000000</td>\n",
              "      <td>1.000000</td>\n",
              "      <td>0.000000</td>\n",
              "      <td>1.000000</td>\n",
              "      <td>0.000000</td>\n",
              "      <td>0.000000</td>\n",
              "      <td>0.000000</td>\n",
              "      <td>1.000000</td>\n",
              "      <td>0.000000</td>\n",
              "      <td>0.000000</td>\n",
              "      <td>0.000000</td>\n",
              "      <td>0.000000</td>\n",
              "      <td>0.000000</td>\n",
              "      <td>0.000000</td>\n",
              "      <td>0.000000</td>\n",
              "      <td>1.00000</td>\n",
              "      <td>1.000000</td>\n",
              "      <td>1.000000</td>\n",
              "      <td>0.000000</td>\n",
              "      <td>0.000000</td>\n",
              "      <td>0.000000</td>\n",
              "      <td>0.000000</td>\n",
              "      <td>0.000000</td>\n",
              "      <td>0.000000</td>\n",
              "      <td>0.000000</td>\n",
              "      <td>0.000000</td>\n",
              "      <td>0.000000</td>\n",
              "      <td>0.000000</td>\n",
              "      <td>...</td>\n",
              "      <td>0.000000</td>\n",
              "      <td>0.000000</td>\n",
              "      <td>1.000000</td>\n",
              "      <td>0.000000</td>\n",
              "      <td>1.000000</td>\n",
              "      <td>0.000000</td>\n",
              "      <td>0.000000</td>\n",
              "      <td>0.000000</td>\n",
              "      <td>1.000000</td>\n",
              "      <td>0.000000</td>\n",
              "      <td>0.000000</td>\n",
              "      <td>0.000000</td>\n",
              "      <td>0.000000</td>\n",
              "      <td>1.000000</td>\n",
              "      <td>0.000000</td>\n",
              "      <td>0.000000</td>\n",
              "      <td>0.000000</td>\n",
              "      <td>1.000000</td>\n",
              "      <td>0.000000</td>\n",
              "      <td>1.000000</td>\n",
              "      <td>1.000000</td>\n",
              "      <td>0.000000</td>\n",
              "      <td>0.000000</td>\n",
              "      <td>0.000000</td>\n",
              "      <td>0.000000</td>\n",
              "      <td>0.000000</td>\n",
              "      <td>1.000000</td>\n",
              "      <td>1.000000</td>\n",
              "      <td>0.000000</td>\n",
              "      <td>1.000000</td>\n",
              "      <td>0.000000</td>\n",
              "      <td>0.000000</td>\n",
              "      <td>1.000000</td>\n",
              "      <td>1.000000</td>\n",
              "      <td>0.000000</td>\n",
              "      <td>0.000000</td>\n",
              "      <td>0.000000</td>\n",
              "      <td>0.000000</td>\n",
              "      <td>0.000000</td>\n",
              "      <td>0.000000</td>\n",
              "    </tr>\n",
              "    <tr>\n",
              "      <th>75%</th>\n",
              "      <td>1.000000</td>\n",
              "      <td>0.000000</td>\n",
              "      <td>1.000000</td>\n",
              "      <td>2.000000</td>\n",
              "      <td>2.000000</td>\n",
              "      <td>1.000000</td>\n",
              "      <td>2.000000</td>\n",
              "      <td>1.000000</td>\n",
              "      <td>0.000000</td>\n",
              "      <td>1.000000</td>\n",
              "      <td>1.000000</td>\n",
              "      <td>2.000000</td>\n",
              "      <td>1.000000</td>\n",
              "      <td>1.000000</td>\n",
              "      <td>2.000000</td>\n",
              "      <td>2.000000</td>\n",
              "      <td>0.000000</td>\n",
              "      <td>1.000000</td>\n",
              "      <td>0.000000</td>\n",
              "      <td>2.000000</td>\n",
              "      <td>0.000000</td>\n",
              "      <td>1.000000</td>\n",
              "      <td>1.000000</td>\n",
              "      <td>1.000000</td>\n",
              "      <td>0.000000</td>\n",
              "      <td>1.000000</td>\n",
              "      <td>2.000000</td>\n",
              "      <td>1.00000</td>\n",
              "      <td>2.000000</td>\n",
              "      <td>2.000000</td>\n",
              "      <td>1.000000</td>\n",
              "      <td>0.000000</td>\n",
              "      <td>1.000000</td>\n",
              "      <td>0.000000</td>\n",
              "      <td>0.000000</td>\n",
              "      <td>1.000000</td>\n",
              "      <td>1.000000</td>\n",
              "      <td>1.000000</td>\n",
              "      <td>1.000000</td>\n",
              "      <td>1.000000</td>\n",
              "      <td>...</td>\n",
              "      <td>1.000000</td>\n",
              "      <td>1.000000</td>\n",
              "      <td>1.000000</td>\n",
              "      <td>1.000000</td>\n",
              "      <td>2.000000</td>\n",
              "      <td>0.000000</td>\n",
              "      <td>1.000000</td>\n",
              "      <td>0.000000</td>\n",
              "      <td>1.000000</td>\n",
              "      <td>1.000000</td>\n",
              "      <td>0.000000</td>\n",
              "      <td>0.000000</td>\n",
              "      <td>1.000000</td>\n",
              "      <td>1.000000</td>\n",
              "      <td>1.000000</td>\n",
              "      <td>2.000000</td>\n",
              "      <td>1.000000</td>\n",
              "      <td>2.000000</td>\n",
              "      <td>1.000000</td>\n",
              "      <td>2.000000</td>\n",
              "      <td>2.000000</td>\n",
              "      <td>0.000000</td>\n",
              "      <td>0.000000</td>\n",
              "      <td>1.000000</td>\n",
              "      <td>1.000000</td>\n",
              "      <td>0.000000</td>\n",
              "      <td>2.000000</td>\n",
              "      <td>2.000000</td>\n",
              "      <td>0.000000</td>\n",
              "      <td>2.000000</td>\n",
              "      <td>1.000000</td>\n",
              "      <td>2.000000</td>\n",
              "      <td>1.000000</td>\n",
              "      <td>1.000000</td>\n",
              "      <td>2.000000</td>\n",
              "      <td>0.000000</td>\n",
              "      <td>2.000000</td>\n",
              "      <td>1.000000</td>\n",
              "      <td>1.000000</td>\n",
              "      <td>0.000000</td>\n",
              "    </tr>\n",
              "    <tr>\n",
              "      <th>max</th>\n",
              "      <td>2.000000</td>\n",
              "      <td>1.000000</td>\n",
              "      <td>2.000000</td>\n",
              "      <td>2.000000</td>\n",
              "      <td>2.000000</td>\n",
              "      <td>2.000000</td>\n",
              "      <td>2.000000</td>\n",
              "      <td>2.000000</td>\n",
              "      <td>2.000000</td>\n",
              "      <td>2.000000</td>\n",
              "      <td>2.000000</td>\n",
              "      <td>2.000000</td>\n",
              "      <td>2.000000</td>\n",
              "      <td>2.000000</td>\n",
              "      <td>2.000000</td>\n",
              "      <td>2.000000</td>\n",
              "      <td>2.000000</td>\n",
              "      <td>2.000000</td>\n",
              "      <td>2.000000</td>\n",
              "      <td>2.000000</td>\n",
              "      <td>2.000000</td>\n",
              "      <td>2.000000</td>\n",
              "      <td>2.000000</td>\n",
              "      <td>2.000000</td>\n",
              "      <td>2.000000</td>\n",
              "      <td>2.000000</td>\n",
              "      <td>2.000000</td>\n",
              "      <td>2.00000</td>\n",
              "      <td>2.000000</td>\n",
              "      <td>2.000000</td>\n",
              "      <td>2.000000</td>\n",
              "      <td>2.000000</td>\n",
              "      <td>2.000000</td>\n",
              "      <td>2.000000</td>\n",
              "      <td>2.000000</td>\n",
              "      <td>2.000000</td>\n",
              "      <td>2.000000</td>\n",
              "      <td>2.000000</td>\n",
              "      <td>2.000000</td>\n",
              "      <td>2.000000</td>\n",
              "      <td>...</td>\n",
              "      <td>2.000000</td>\n",
              "      <td>2.000000</td>\n",
              "      <td>2.000000</td>\n",
              "      <td>2.000000</td>\n",
              "      <td>2.000000</td>\n",
              "      <td>2.000000</td>\n",
              "      <td>2.000000</td>\n",
              "      <td>1.000000</td>\n",
              "      <td>2.000000</td>\n",
              "      <td>2.000000</td>\n",
              "      <td>1.000000</td>\n",
              "      <td>2.000000</td>\n",
              "      <td>2.000000</td>\n",
              "      <td>2.000000</td>\n",
              "      <td>2.000000</td>\n",
              "      <td>2.000000</td>\n",
              "      <td>2.000000</td>\n",
              "      <td>2.000000</td>\n",
              "      <td>2.000000</td>\n",
              "      <td>2.000000</td>\n",
              "      <td>2.000000</td>\n",
              "      <td>2.000000</td>\n",
              "      <td>2.000000</td>\n",
              "      <td>2.000000</td>\n",
              "      <td>2.000000</td>\n",
              "      <td>2.000000</td>\n",
              "      <td>2.000000</td>\n",
              "      <td>2.000000</td>\n",
              "      <td>2.000000</td>\n",
              "      <td>2.000000</td>\n",
              "      <td>2.000000</td>\n",
              "      <td>2.000000</td>\n",
              "      <td>2.000000</td>\n",
              "      <td>2.000000</td>\n",
              "      <td>2.000000</td>\n",
              "      <td>2.000000</td>\n",
              "      <td>2.000000</td>\n",
              "      <td>2.000000</td>\n",
              "      <td>2.000000</td>\n",
              "      <td>2.000000</td>\n",
              "    </tr>\n",
              "  </tbody>\n",
              "</table>\n",
              "<p>8 rows × 25869 columns</p>\n",
              "</div>"
            ],
            "text/plain": [
              "       chr5.32745853  chr2.149849943  ...  chr6.4991602  chr17.38364472\n",
              "count    4061.000000     4061.000000  ...   4061.000000     4061.000000\n",
              "mean        0.438316        0.057621  ...      0.505294        0.119921\n",
              "std         0.645522        0.233055  ...      0.721782        0.342620\n",
              "min         0.000000        0.000000  ...      0.000000        0.000000\n",
              "25%         0.000000        0.000000  ...      0.000000        0.000000\n",
              "50%         0.000000        0.000000  ...      0.000000        0.000000\n",
              "75%         1.000000        0.000000  ...      1.000000        0.000000\n",
              "max         2.000000        1.000000  ...      2.000000        2.000000\n",
              "\n",
              "[8 rows x 25869 columns]"
            ]
          },
          "metadata": {
            "tags": []
          },
          "execution_count": 12
        }
      ]
    },
    {
      "cell_type": "code",
      "metadata": {
        "colab": {
          "base_uri": "https://localhost:8080/"
        },
        "id": "OEkhFtZwlK2-",
        "outputId": "53c5ea27-a045-4ef4-b3d2-19880268b092"
      },
      "source": [
        "chi2 = feature_selection.chi2\r\n",
        "selectk = feature_selection.SelectKBest(chi2, k=100)\r\n",
        "X_r = selectk.fit_transform(X.values, Y.flatten())\r\n",
        "X_r.shape"
      ],
      "execution_count": 13,
      "outputs": [
        {
          "output_type": "execute_result",
          "data": {
            "text/plain": [
              "(4061, 100)"
            ]
          },
          "metadata": {
            "tags": []
          },
          "execution_count": 13
        }
      ]
    },
    {
      "cell_type": "code",
      "metadata": {
        "colab": {
          "base_uri": "https://localhost:8080/"
        },
        "id": "FOgS9vzhVhL8",
        "outputId": "69e8baa7-5248-4a40-e66c-d3fbd6e50785"
      },
      "source": [
        "print(torch.cuda.device_count()) # number of GPU devices available\n",
        "print(torch.cuda.get_device_name(0)) # name of device\n",
        "device = torch.device('cuda:0') # sets the device to the cuda at index 0\n",
        "device"
      ],
      "execution_count": 14,
      "outputs": [
        {
          "output_type": "stream",
          "text": [
            "1\n",
            "Tesla T4\n"
          ],
          "name": "stdout"
        },
        {
          "output_type": "execute_result",
          "data": {
            "text/plain": [
              "device(type='cuda', index=0)"
            ]
          },
          "metadata": {
            "tags": []
          },
          "execution_count": 14
        }
      ]
    },
    {
      "cell_type": "code",
      "metadata": {
        "id": "mqM12yfhV9-J"
      },
      "source": [
        "ml = ml_models.ML(X_r, Y)\r\n",
        "ml.trainGANs()"
      ],
      "execution_count": 15,
      "outputs": []
    },
    {
      "cell_type": "code",
      "metadata": {
        "id": "IDu0qmCUqR_4"
      },
      "source": [
        "X_fake, Y_fake = ml.getFakeSamples(n = 2000)\r\n",
        "Y_fake = np.around(Y_fake).astype(int)\r\n",
        "scaler = sklearn.preprocessing.MinMaxScaler()\r\n",
        "X_fake = scaler.fit_transform(X_fake)"
      ],
      "execution_count": 40,
      "outputs": []
    },
    {
      "cell_type": "code",
      "metadata": {
        "colab": {
          "base_uri": "https://localhost:8080/"
        },
        "id": "hNFybaCXsiju",
        "outputId": "7769b8d2-cfad-4ba7-ce6b-5f9b0a7ee919"
      },
      "source": [
        "constants = neural_networks.NNConstants(BATCH_SIZE=100, D_OUT=3, X=X_fake)\r\n",
        "ffnn = neural_networks.FFNN(X_fake, Y_fake, constants)\r\n",
        "ffnn.device = device\r\n",
        "network = ffnn.network\r\n",
        "ffnn.network.to(device)\r\n",
        "print(network)"
      ],
      "execution_count": 41,
      "outputs": [
        {
          "output_type": "stream",
          "text": [
            "Architecture(\n",
            "  (fc_in): Linear(in_features=100, out_features=66, bias=True)\n",
            "  (fc_h0): Linear(in_features=66, out_features=33, bias=True)\n",
            "  (fc_out): Linear(in_features=33, out_features=3, bias=True)\n",
            ")\n"
          ],
          "name": "stdout"
        }
      ]
    },
    {
      "cell_type": "code",
      "metadata": {
        "colab": {
          "base_uri": "https://localhost:8080/",
          "height": 754
        },
        "id": "wK_P_ZvqxQ7w",
        "outputId": "06029d79-4120-4326-fd3d-72c142530a26"
      },
      "source": [
        "ffnn = neural_networks.FFNN(X_fake, Y_fake, constants)\r\n",
        "ffnn.device = device\r\n",
        "ffnn.network.to(device)\r\n",
        "ffnn.train(n_epochs=25)"
      ],
      "execution_count": 46,
      "outputs": [
        {
          "output_type": "stream",
          "text": [
            "Epoch: 0, Training Loss: 8.728, Validation loss: 3.295\n",
            "Epoch: 1, Training Loss: 8.425, Validation loss: 3.333\n",
            "Epoch: 2, Training Loss: 8.251, Validation loss: 3.162\n",
            "Epoch: 3, Training Loss: 7.982, Validation loss: 3.263\n",
            "Epoch: 4, Training Loss: 7.861, Validation loss: 3.378\n",
            "Epoch: 5, Training Loss: 7.685, Validation loss: 3.319\n",
            "Epoch: 6, Training Loss: 7.514, Validation loss: 3.323\n",
            "Epoch: 7, Training Loss: 7.316, Validation loss: 3.517\n",
            "Epoch: 8, Training Loss: 7.162, Validation loss: 3.470\n",
            "Epoch: 9, Training Loss: 6.850, Validation loss: 3.677\n",
            "Epoch: 10, Training Loss: 6.617, Validation loss: 3.917\n",
            "Epoch: 11, Training Loss: 6.455, Validation loss: 3.857\n",
            "Epoch: 12, Training Loss: 6.225, Validation loss: 3.897\n",
            "Epoch: 13, Training Loss: 6.100, Validation loss: 3.995\n",
            "Epoch: 14, Training Loss: 6.052, Validation loss: 3.964\n",
            "Epoch: 15, Training Loss: 5.756, Validation loss: 4.263\n",
            "Epoch: 16, Training Loss: 5.755, Validation loss: 4.614\n",
            "Epoch: 17, Training Loss: 5.177, Validation loss: 4.951\n",
            "Epoch: 18, Training Loss: 5.105, Validation loss: 4.863\n",
            "Epoch: 19, Training Loss: 4.591, Validation loss: 4.884\n",
            "Epoch: 20, Training Loss: 4.326, Validation loss: 5.631\n",
            "Epoch: 21, Training Loss: 4.510, Validation loss: 4.942\n",
            "Epoch: 22, Training Loss: 4.350, Validation loss: 6.001\n",
            "Epoch: 23, Training Loss: 4.284, Validation loss: 5.561\n",
            "Epoch: 24, Training Loss: 4.182, Validation loss: 5.933\n"
          ],
          "name": "stdout"
        },
        {
          "output_type": "display_data",
          "data": {
            "image/png": "[encoded data removed]",
            "text/plain": [
              "<Figure size 432x288 with 1 Axes>"
            ]
          },
          "metadata": {
            "tags": []
          }
        }
      ]
    },
    {
      "cell_type": "code",
      "metadata": {
        "colab": {
          "base_uri": "https://localhost:8080/"
        },
        "id": "ExfLHELJ8XPc",
        "outputId": "89985e56-7dd2-40bb-d324-e798dc798f46"
      },
      "source": [
        "ffnn.network(torch.Tensor(ml.X_test).to(device))"
      ],
      "execution_count": 87,
      "outputs": [
        {
          "output_type": "execute_result",
          "data": {
            "text/plain": [
              "tensor([[-9.0524e+00, -4.3365e+00, -1.3287e-02],\n",
              "        [-4.0477e-01, -1.1300e+00, -4.6201e+00],\n",
              "        [-8.6785e+00, -2.4319e-02, -3.7357e+00],\n",
              "        ...,\n",
              "        [-1.2876e+01, -5.4182e+00, -4.4476e-03],\n",
              "        [-8.5230e-01, -5.8263e-01, -4.1906e+00],\n",
              "        [-8.2199e-01, -6.4317e-01, -3.3576e+00]], device='cuda:0',\n",
              "       grad_fn=<LogSoftmaxBackward>)"
            ]
          },
          "metadata": {
            "tags": []
          },
          "execution_count": 87
        }
      ]
    },
    {
      "cell_type": "code",
      "metadata": {
        "colab": {
          "base_uri": "https://localhost:8080/"
        },
        "id": "OmCpISYE2M2r",
        "outputId": "a097c0e0-a60d-474b-dc38-334ded04db7a"
      },
      "source": [
        "def predict(input: np.ndarray, network) -> np.ndarray:\r\n",
        "    input = torch.Tensor(input).to(device)\r\n",
        "    output = network(input).cpu().detach().numpy().argmax(axis = 1)\r\n",
        "    return output\r\n",
        "def accuracy(Y, Y_pred):\r\n",
        "    Y_pred, Y = [y.flatten() for y in [Y_pred, Y]]\r\n",
        "    right, wrong = pd.Series(Y_pred == Y).value_counts()\r\n",
        "    return right / (right + wrong)\r\n",
        "\r\n",
        "\r\n",
        "predict(ml.X_test, ffnn.network)"
      ],
      "execution_count": 113,
      "outputs": [
        {
          "output_type": "execute_result",
          "data": {
            "text/plain": [
              "array([2, 0, 1, ..., 2, 1, 1])"
            ]
          },
          "metadata": {
            "tags": []
          },
          "execution_count": 113
        }
      ]
    },
    {
      "cell_type": "code",
      "metadata": {
        "colab": {
          "base_uri": "https://localhost:8080/"
        },
        "id": "iBeBPlw68RP9",
        "outputId": "ccbfcb1a-ac70-4847-a283-d0bdaa4ae17c"
      },
      "source": [
        "predict(X_fake, ffnn.network).shape, Y_fake.shape"
      ],
      "execution_count": 97,
      "outputs": [
        {
          "output_type": "execute_result",
          "data": {
            "text/plain": [
              "((1000,), (1000,))"
            ]
          },
          "metadata": {
            "tags": []
          },
          "execution_count": 97
        }
      ]
    },
    {
      "cell_type": "code",
      "metadata": {
        "colab": {
          "base_uri": "https://localhost:8080/"
        },
        "id": "ThYb04f-620M",
        "outputId": "c6ddd52d-ae58-408f-f474-a16d17bca4da"
      },
      "source": [
        "output = predict(ml.X_test, ffnn.network)\r\n",
        "print(f\"Accuracy: {accuracy(ml.Y_test, output):.4f}\")"
      ],
      "execution_count": 114,
      "outputs": [
        {
          "output_type": "stream",
          "text": [
            "Accuracy: 0.5719\n"
          ],
          "name": "stdout"
        }
      ]
    },
    {
      "cell_type": "code",
      "metadata": {
        "colab": {
          "base_uri": "https://localhost:8080/"
        },
        "id": "FwS2Z7QL_OEj",
        "outputId": "742a9166-8903-4526-8a12-ddd384d892d1"
      },
      "source": [
        "accuracy(Y_fake, predict(X_fake, ffnn.network))"
      ],
      "execution_count": 124,
      "outputs": [
        {
          "output_type": "execute_result",
          "data": {
            "text/plain": [
              "0.68"
            ]
          },
          "metadata": {
            "tags": []
          },
          "execution_count": 124
        }
      ]
    },
    {
      "cell_type": "code",
      "metadata": {
        "colab": {
          "base_uri": "https://localhost:8080/"
        },
        "id": "kFKn_qkq_rDR",
        "outputId": "05c7e0e5-3427-4632-8895-a139633a0790"
      },
      "source": [
        "accuracy(ml.Y_test, predict(ml.X_test, ffnn.network))"
      ],
      "execution_count": 129,
      "outputs": [
        {
          "output_type": "execute_result",
          "data": {
            "text/plain": [
              "0.5718503937007874"
            ]
          },
          "metadata": {
            "tags": []
          },
          "execution_count": 129
        }
      ]
    },
    {
      "cell_type": "code",
      "metadata": {
        "colab": {
          "base_uri": "https://localhost:8080/"
        },
        "id": "W01vGwRkFFbh",
        "outputId": "d4abfc17-0dd9-43ff-cd73-f936580aec5d"
      },
      "source": [
        "accuracy(ml.Y_train, predict(ml.X_train, ffnn.network))"
      ],
      "execution_count": 130,
      "outputs": [
        {
          "output_type": "execute_result",
          "data": {
            "text/plain": [
              "0.5924466338259442"
            ]
          },
          "metadata": {
            "tags": []
          },
          "execution_count": 130
        }
      ]
    }
  ]
}