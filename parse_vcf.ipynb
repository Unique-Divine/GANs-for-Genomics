{
 "cells": [
  {
   "cell_type": "markdown",
   "metadata": {
    "toc": true
   },
   "source": [
    "<h1>Table of Contents<span class=\"tocSkip\"></span></h1>\n",
    "<div class=\"toc\"><ul class=\"toc-item\"><li><span><a href=\"#Analysis\" data-toc-modified-id=\"Analysis-1\"><span class=\"toc-item-num\">1&nbsp;&nbsp;</span>Analysis</a></span><ul class=\"toc-item\"><li><span><a href=\"#vcf.Reader-[docs]\" data-toc-modified-id=\"vcf.Reader-[docs]-1.1\"><span class=\"toc-item-num\">1.1&nbsp;&nbsp;</span><code>vcf.Reader</code> <a href=\"https://pyvcf.readthedocs.io/en/latest/API.html#vcf-reader\" target=\"_blank\">[docs]</a></a></span></li></ul></li><li><span><a href=\"#vcf.model._Record-[docs]\" data-toc-modified-id=\"vcf.model._Record-[docs]-2\"><span class=\"toc-item-num\">2&nbsp;&nbsp;</span><code>vcf.model._Record</code> <a href=\"https://pyvcf.readthedocs.io/en/latest/API.html#vcf-model-record\" target=\"_blank\">[docs]</a></a></span></li><li><span><a href=\"#vcf.model_Call-[docs]\" data-toc-modified-id=\"vcf.model_Call-[docs]-3\"><span class=\"toc-item-num\">3&nbsp;&nbsp;</span><code>vcf.model_Call</code> <a href=\"https://pyvcf.readthedocs.io/en/latest/API.html#vcf-model-call\" target=\"_blank\">[docs]</a></a></span><ul class=\"toc-item\"><li><span><a href=\"#What-exactly-is-genotype?-And-why-is-there-a-heterozygous-property-in-this-class?\" data-toc-modified-id=\"What-exactly-is-genotype?-And-why-is-there-a-heterozygous-property-in-this-class?-3.1\"><span class=\"toc-item-num\">3.1&nbsp;&nbsp;</span>What exactly is genotype? And why is there a heterozygous property in this class?</a></span></li><li><span><a href=\"#Genotype-calling,-genotyping,-and-SNP-calling?\" data-toc-modified-id=\"Genotype-calling,-genotyping,-and-SNP-calling?-3.2\"><span class=\"toc-item-num\">3.2&nbsp;&nbsp;</span>Genotype calling, genotyping, and SNP calling?</a></span><ul class=\"toc-item\"><li><span><a href=\"#Genotyping\" data-toc-modified-id=\"Genotyping-3.2.1\"><span class=\"toc-item-num\">3.2.1&nbsp;&nbsp;</span>Genotyping</a></span></li><li><span><a href=\"#Genotype-&amp;-SNP-calling\" data-toc-modified-id=\"Genotype-&amp;-SNP-calling-3.2.2\"><span class=\"toc-item-num\">3.2.2&nbsp;&nbsp;</span>Genotype &amp; SNP calling</a></span></li></ul></li></ul></li><li><span><a href=\"#The-Script\" data-toc-modified-id=\"The-Script-4\"><span class=\"toc-item-num\">4&nbsp;&nbsp;</span>The Script</a></span></li></ul></div>"
   ]
  },
  {
   "cell_type": "code",
   "execution_count": 2,
   "metadata": {},
   "outputs": [],
   "source": [
    "import vcf\n",
    "\n",
    "import os\n",
    "import gzip\n",
    "\n",
    "import numpy as np\n",
    "import pandas as pd\n",
    "import matplotlib.pyplot as plt\n",
    "%matplotlib inline\n",
    "\n",
    "plt.style.use(\"ggplot\")"
   ]
  },
  {
   "cell_type": "code",
   "execution_count": 3,
   "metadata": {
    "scrolled": true
   },
   "outputs": [
    {
     "name": "stdout",
     "output_type": "stream",
     "text": [
      "VCF data loaded successfully...\n",
      "\n",
      "Metadata:\n",
      "OrderedDict([('fileformat', 'VCFv4.2'), ('fileDate', '20180201'), ('source', ['PLINKv1.90'])])\n"
     ]
    }
   ],
   "source": [
    "# VCF data loading \"hello world\"\n",
    "system_path = r\"C:\\Users\\uniqu\\Adaptation\\github repos\" \\\n",
    "              + \"\\Bioinformatics-Neural Networks for Genomic Risk\"\n",
    "system_path = system_path + r\"\\DawleyRats\"\n",
    "vcf_file_name_options = [r\"allChr.allSamps.90DR2.maf01.hweE7.noIBD.CharlesRiverOnly.vcf.gz\",\n",
    "                         r\"allChr.allSamps.90DR2.maf01.hweE7.noIBD.HarlanOnly.vcf.gz\"]\n",
    "vcf_file_name = vcf_file_name_options[0] # \"...vcf.gz\"\n",
    "\n",
    "vcf_file_path = os.path.join(system_path, vcf_file_name)\n",
    "\n",
    "vcf_reader = vcf.Reader(filename=vcf_file_path, compressed=True)\n",
    "\n",
    "try:\n",
    "    print(\"VCF data loaded successfully...\\n\")\n",
    "    print(f\"Metadata:\\n{vcf_reader.metadata}\")\n",
    "except: \n",
    "    print(\"Failed to load VCF data.\")"
   ]
  },
  {
   "cell_type": "markdown",
   "metadata": {},
   "source": [
    "--- \n",
    "\n",
    "## Analysis\n",
    "\n",
    "Resources Used:\n",
    "- [PyVCF Tutorial: Michal Linial (Jan, 2020). *Quantitative Biological Research with Python*.](https://youtu.be/jWu_nxlS5Vc) (ends @ 12 minutes)\n",
    "- "
   ]
  },
  {
   "cell_type": "markdown",
   "metadata": {},
   "source": [
    "###  `vcf.Reader` [[docs]](https://pyvcf.readthedocs.io/en/latest/API.html#vcf-reader)"
   ]
  },
  {
   "cell_type": "code",
   "execution_count": 4,
   "metadata": {},
   "outputs": [
    {
     "name": "stdout",
     "output_type": "stream",
     "text": [
      "##fileformat=VCFv4.2\n",
      "##fileDate=20180201\n",
      "##source=PLINKv1.90\n",
      "##contig=<ID=1,length=282745832>\n",
      "##contig=<ID=2,length=266367381>\n",
      "##contig=<ID=3,length=177678048>\n",
      "##contig=<ID=4,length=184213463>\n",
      "##contig=<ID=5,length=173704786>\n",
      "##contig=<ID=6,length=147965078>\n",
      "##contig=<ID=7,length=145599967>\n",
      "##contig=<ID=8,length=133288266>\n",
      "##contig=<ID=9,length=122022420>\n",
      "##contig=<ID=10,length=112580048>\n",
      "##contig=<ID=11,length=90453650>\n",
      "##contig=<ID=12,length=52683120>\n",
      "##contig=<ID=13,length=114010850>\n",
      "##contig=<ID=14,length=115436306>\n",
      "##contig=<ID=15,length=111173208>\n",
      "##contig=<ID=16,length=90610649>\n",
      "##contig=<ID=17,length=90840848>\n",
      "##contig=<ID=18,length=87963297>\n",
      "##contig=<ID=19,length=62264106>\n",
      "##contig=<ID=20,length=56089150>\n",
      "##INFO=<ID=PR,Number=0,Type=Flag,Description=\"Provisional reference allele, may not be based on real reference genome\">\n",
      "##FORMAT=<ID=GT,Number=1,Type=String,Description=\"Genotype\">\n",
      "#CHROM\tPOS\tID\tREF\tALT\tQUAL\tFILTER\tINFO\tFORMAT\t1052\t1053\t1054\t1055\t1059\t1060\t1061\t1062\t1065\t106\n"
     ]
    }
   ],
   "source": [
    "# Read the first n characters of the .gz vcf file.\n",
    "with gzip.open(vcf_file_path, 'rt') as f:\n",
    "    print(f.read(n := int(1e3)))"
   ]
  },
  {
   "cell_type": "markdown",
   "metadata": {},
   "source": [
    "Q: What's the gzip module for? [gzip docs](https://docs.python.org/3/library/gzip.html)\n",
    "\n",
    "- This module provides a simple interface to compress and decompress files like the GNU program gzip\n",
    "- `gzip`: a module that provides the `GzipFile` class as well as the `open`, `compress`, and `decompress` convenience functions.\n",
    "\n",
    "Q: The \"*.gz\" file extension?\n",
    "\n",
    "- .gz files: compressed files created using the gzip compression utility, which was created to replace and improve on compress in UNIX. This utility is commonly used on UNIX-like systems.\n",
    "- gzip file compression is often used to compress some elements of web pages to speed up page loading. \n",
    "\n",
    "Q: Why is the tool called `gzip`? \n",
    "\n",
    "- A .gz file is an archive file compressed by the standard GNU zip (gzip) compression algorithm.\n",
    "\n",
    "Q: Why use the `GzipFile` class? [class docs](https://docs.python.org/3/library/gzip.html#gzip.GzipFile)\n",
    "\n",
    "- It simulates most of the methods of a \"file object\"\n",
    "\n",
    "Q: \"file object\"? [Python docs. file object.](https://docs.python.org/3/glossary.html#term-file-object)\n",
    "\n",
    "file object: \n",
    "- An object exposing a file-oriented API (with methods such as `read()` or `write()`) to an underlying resource\n",
    "- Tutorial [file objects](https://youtu.be/Uh2ebFW8OYM)\n",
    "- Tutorial [OS Module](https://www.youtube.com/watch?v=tJxcKyFMTGo)\n",
    "\n",
    "Q: `gzip.open` method?\n",
    "\n"
   ]
  },
  {
   "cell_type": "code",
   "execution_count": 5,
   "metadata": {},
   "outputs": [
    {
     "data": {
      "text/plain": [
       "OrderedDict([('fileformat', 'VCFv4.2'),\n",
       "             ('fileDate', '20180201'),\n",
       "             ('source', ['PLINKv1.90'])])"
      ]
     },
     "execution_count": 5,
     "metadata": {},
     "output_type": "execute_result"
    }
   ],
   "source": [
    "vcf_reader.metadata"
   ]
  },
  {
   "cell_type": "markdown",
   "metadata": {},
   "source": [
    "Q: How does the `OrderDict` type differ from the regular dictionary? [OrderedDict docs](https://docs.python.org/3.4/library/collections.html?highlight=ordereddict)\n",
    "- It retains the order in which the entries were added.\n",
    "\n",
    "[Python Dictionary Methods](https://www.w3schools.com/python/python_ref_dictionary.asp)"
   ]
  },
  {
   "cell_type": "code",
   "execution_count": 6,
   "metadata": {},
   "outputs": [
    {
     "data": {
      "text/plain": [
       "odict_items([('fileformat', 'VCFv4.2'), ('fileDate', '20180201'), ('source', ['PLINKv1.90'])])"
      ]
     },
     "execution_count": 6,
     "metadata": {},
     "output_type": "execute_result"
    }
   ],
   "source": [
    "vcf_reader.metadata.items()"
   ]
  },
  {
   "cell_type": "code",
   "execution_count": 7,
   "metadata": {},
   "outputs": [
    {
     "name": "stdout",
     "output_type": "stream",
     "text": [
      "('fileformat', 'VCFv4.2')\n",
      "('fileDate', '20180201')\n",
      "('source', ['PLINKv1.90'])\n"
     ]
    }
   ],
   "source": [
    "for pair in vcf_reader.metadata.items():\n",
    "    print(pair)"
   ]
  },
  {
   "cell_type": "code",
   "execution_count": 8,
   "metadata": {},
   "outputs": [
    {
     "data": {
      "text/plain": [
       "OrderedDict([('PR',\n",
       "              Info(id='PR', num=0, type='Flag', desc='Provisional reference allele, may not be based on real reference genome', source=None, version=None))])"
      ]
     },
     "execution_count": 8,
     "metadata": {},
     "output_type": "execute_result"
    }
   ],
   "source": [
    "vcf_reader.infos"
   ]
  },
  {
   "cell_type": "code",
   "execution_count": 9,
   "metadata": {},
   "outputs": [
    {
     "data": {
      "text/plain": [
       "odict_items([('PR', Info(id='PR', num=0, type='Flag', desc='Provisional reference allele, may not be based on real reference genome', source=None, version=None))])"
      ]
     },
     "execution_count": 9,
     "metadata": {},
     "output_type": "execute_result"
    }
   ],
   "source": [
    "vcf_reader.infos.items()"
   ]
  },
  {
   "cell_type": "code",
   "execution_count": 10,
   "metadata": {},
   "outputs": [
    {
     "name": "stdout",
     "output_type": "stream",
     "text": [
      "PR (Flag): Provisional reference allele, may not be based on real reference genome\n"
     ]
    }
   ],
   "source": [
    "# name: name of an info object\n",
    "# info: a vcf.Reader info object\n",
    "for name, info in vcf_reader.infos.items():\n",
    "    print(f\"{name} ({info.type}): {info.desc}\")"
   ]
  },
  {
   "cell_type": "markdown",
   "metadata": {},
   "source": [
    "`vcf_reader.infos` | info object:\n",
    "- `info.type`: type of the info object\n",
    "- `info.desc`: desription of the info object"
   ]
  },
  {
   "cell_type": "markdown",
   "metadata": {},
   "source": [
    "## `vcf.model._Record` [[docs]][record docs]\n",
    "\n",
    "**class `vcf.model._Record`**: A set of calls at a site. The standard VCF fields CHROM, POS, IS, REF, ALT, INFO, QUAL, FILTER, and FORMAT are available as properties (details on [Wikipedia][vcf_wikipedia]). \n",
    "\n",
    "The list of calls is in the `samples` attribute. \n",
    "\n",
    "[record docs]: https://pyvcf.readthedocs.io/en/latest/API.html#vcf-model-record\n",
    "[vcf_wikipedia]: https://en.wikipedia.org/wiki/Variant_Call_Format"
   ]
  },
  {
   "cell_type": "markdown",
   "metadata": {},
   "source": [
    "`vcf_reader` is an iterable object.\n",
    "\n",
    "This means `it = iter(vcf_reader)` would be redundant and we can already use `next()`. "
   ]
  },
  {
   "cell_type": "code",
   "execution_count": 81,
   "metadata": {},
   "outputs": [
    {
     "name": "stdout",
     "output_type": "stream",
     "text": [
      "Chromsome: 1\n",
      "position: 2205015\n",
      "alternative alleles: [T]\n",
      "reference base: G\n",
      "Variation info: {'PR': True}\n",
      "Identifier of variation: chr1.2205015\n"
     ]
    }
   ],
   "source": [
    "record = next(vcf_reader)\n",
    "records = []\n",
    "\n",
    "for snp_idx, record in enumerate(vcf_reader):\n",
    "    records.append(record)\n",
    "    if snp_idx == 50:\n",
    "        break\n",
    "\n",
    "print(f\"Chromsome: {record.CHROM}\")\n",
    "print(f\"position: {record.POS}\")\n",
    "print(f\"alternative alleles: {record.ALT}\")\n",
    "print(f\"reference base: {record.REF}\")\n",
    "print(f\"Variation info: {record.INFO}\")\n",
    "print(f\"Identifier of variation: {record.ID}\")"
   ]
  },
  {
   "cell_type": "markdown",
   "metadata": {},
   "source": [
    "## `vcf.model_Call` [[docs]][call docs]\n",
    "\n",
    "**class `vcf.model._Call`**: A genotype call, a cell entry in a VCF file.\n",
    "\n",
    "[call docs]: https://pyvcf.readthedocs.io/en/latest/API.html#vcf-model-call\n",
    "\n",
    "### What exactly is genotype? And why is there a heterozygous property in this class?\n",
    "\n",
    "A **gene** is a section of DNA that encodes a trait. The precise arrangement of **nucleotides** in a gene can differ between copies of the same gene. Therefore, a gene can exist in different forms across organisms. These different forms are known as **alleles**. The exact fixed position on the chromosome that contains a particular gene is known as a **locus**.\n",
    "\n",
    "A **diploid** organism either inherits two copies of the same allele or one copy of two different alleles from their parents. If an individual inherits two identical alleles, their **genotype** is said to be **homozygous** at that locus. However, if they possess two different alleles, their genotype is classed as **heterozygous** for that locus.\n",
    "\n",
    "Alleles of the same gene are either autosomal dominant or recessive. An **autosomal dominant allele** will always be preferentially expressed over a recessive allele.\n",
    "\n",
    "The subsequent combination of alleles that an individual possesses for a specific gene is their **genotype**.  \n",
    "\n",
    "Nucleotides are each composed of a phosphate group, sugar and a base.\n",
    "\n",
    "[source: technologynetworks.com/genomics](https://www.technologynetworks.com/genomics/articles/genotype-vs-phenotype-examples-and-definitions-318446)\n",
    "\n",
    "### Genotype calling, genotyping, and SNP calling?\n",
    "\n",
    "What's the difference in these terms? What is \"calling\"?\n",
    "\n",
    "**Source**: [[Kevin Blighe]](https://www.biostars.org/p/277927/)\n",
    "\n",
    "#### Genotyping\n",
    "\n",
    "\n",
    "\n",
    "#### Genotype & SNP calling\n",
    "\n",
    "\n",
    "\n",
    "\n",
    "\n",
    "Genotype calling is the process of determining the genotype for each individual and is typically only done for positions in which a SNP or a 'variant' has already been called. We use the word 'calling' here to signify the estimation of one unique SNP or genotype.\n",
    "\n",
    "**Source**: Nielsen, R., Paul, J. S., Albrechtsen, A., & Song, Y. S. (2011). Genotype and SNP calling from next-generation sequencing data. *Nature reviews. Genetics, 12(6)*, 443–451. [ncbi.nlm.nih.gov](https://www.ncbi.nlm.nih.gov/pmc/articles/PMC3593722/#:~:text=Genotype%20calling%20is%20the%20process,one%20unique%20SNP%20or%20genotype)."
   ]
  },
  {
   "cell_type": "code",
   "execution_count": 93,
   "metadata": {},
   "outputs": [
    {
     "name": "stdout",
     "output_type": "stream",
     "text": [
      "A/A\n",
      "A/A\n",
      "A/A\n"
     ]
    }
   ],
   "source": [
    "record = records[4]\n",
    "\n",
    "for idx, sample in enumerate(record.samples):\n",
    "    print(sample.gt_bases)\n",
    "    if idx == 2:\n",
    "        break"
   ]
  },
  {
   "cell_type": "code",
   "execution_count": 95,
   "metadata": {},
   "outputs": [],
   "source": [
    "df = pd.DataFrame(\n",
    "    data = [[sample.sample, sample.gt_bases, sample.gt_type,\n",
    "        sample.is_het, sample.phased] for sample in record.samples],\n",
    "    columns = [\"sample_name\", \"gt_bases\", \"gt_type\", \"is_het\", \"phased\"])"
   ]
  },
  {
   "cell_type": "code",
   "execution_count": 96,
   "metadata": {},
   "outputs": [
    {
     "data": {
      "text/plain": [
       "A/A    1698\n",
       "A/C      81\n",
       "C/C       1\n",
       "Name: gt_bases, dtype: int64"
      ]
     },
     "execution_count": 96,
     "metadata": {},
     "output_type": "execute_result"
    }
   ],
   "source": [
    "df['gt_bases'].value_counts()"
   ]
  },
  {
   "cell_type": "code",
   "execution_count": 91,
   "metadata": {},
   "outputs": [
    {
     "data": {
      "text/plain": [
       "gt_bases  gt_type\n",
       "A/A       0          1698\n",
       "A/C       1            81\n",
       "C/C       2             1\n",
       "Name: gt_type, dtype: int64"
      ]
     },
     "execution_count": 91,
     "metadata": {},
     "output_type": "execute_result"
    }
   ],
   "source": [
    "df.groupby(\"gt_bases\")['gt_type'].value_counts()"
   ]
  },
  {
   "cell_type": "code",
   "execution_count": 92,
   "metadata": {},
   "outputs": [
    {
     "data": {
      "text/plain": [
       "0    1698\n",
       "1      81\n",
       "2       1\n",
       "Name: gt_type, dtype: int64"
      ]
     },
     "execution_count": 92,
     "metadata": {},
     "output_type": "execute_result"
    }
   ],
   "source": [
    "df['gt_type'].value_counts()"
   ]
  },
  {
   "cell_type": "code",
   "execution_count": 71,
   "metadata": {},
   "outputs": [
    {
     "data": {
      "text/plain": [
       "(list, 1780, ['1052', '1053', '1054'])"
      ]
     },
     "execution_count": 71,
     "metadata": {},
     "output_type": "execute_result"
    }
   ],
   "source": [
    "# vcf_reader.samples (list): the genotype calls\n",
    "\n",
    "type(vcf_reader.samples), len(vcf_reader.samples), vcf_reader.samples[:3]"
   ]
  },
  {
   "cell_type": "code",
   "execution_count": 15,
   "metadata": {},
   "outputs": [
    {
     "data": {
      "text/plain": [
       "array([Call(sample=1052, CallData(GT=0/0)),\n",
       "       Call(sample=1053, CallData(GT=0/0)),\n",
       "       Call(sample=1054, CallData(GT=0/0)), ...,\n",
       "       Call(sample=4182, CallData(GT=0/0)),\n",
       "       Call(sample=4659, CallData(GT=0/0)),\n",
       "       Call(sample=920, CallData(GT=0/0))], dtype=object)"
      ]
     },
     "execution_count": 15,
     "metadata": {},
     "output_type": "execute_result"
    }
   ],
   "source": [
    "np.array(record.samples)"
   ]
  },
  {
   "cell_type": "code",
   "execution_count": 16,
   "metadata": {},
   "outputs": [
    {
     "name": "stdout",
     "output_type": "stream",
     "text": [
      "Variant type: snp\n",
      "      \tTrue, False\n",
      "      \t['G', C]\n"
     ]
    }
   ],
   "source": [
    "print(f\"Variant type: {record.var_type}\\n\\\n",
    "      \\t{record.is_snp}, {record.is_indel}\\n\\\n",
    "      \\t{record.alleles}\")"
   ]
  },
  {
   "cell_type": "code",
   "execution_count": 17,
   "metadata": {},
   "outputs": [],
   "source": [
    "record_batches = []\n",
    "batch_size = 1000 # number of records per batch"
   ]
  },
  {
   "cell_type": "code",
   "execution_count": 18,
   "metadata": {},
   "outputs": [
    {
     "ename": "SyntaxError",
     "evalue": "invalid syntax (<ipython-input-18-2c474cc0f0bc>, line 3)",
     "output_type": "error",
     "traceback": [
      "\u001b[1;36m  File \u001b[1;32m\"<ipython-input-18-2c474cc0f0bc>\"\u001b[1;36m, line \u001b[1;32m3\u001b[0m\n\u001b[1;33m    for batch\u001b[0m\n\u001b[1;37m             ^\u001b[0m\n\u001b[1;31mSyntaxError\u001b[0m\u001b[1;31m:\u001b[0m invalid syntax\n"
     ]
    }
   ],
   "source": [
    "record_count = 0 \n",
    "\n",
    "for batch\n",
    "\n",
    "for idx, record in enumerate(vcf_reader):\n",
    "    record_count += 1\n",
    "    if idx % 500 == 0:\n",
    "        print(f\"{idx} records looped\")"
   ]
  },
  {
   "cell_type": "markdown",
   "metadata": {},
   "source": [
    "---\n",
    "\n",
    "## The Script "
   ]
  },
  {
   "cell_type": "code",
   "execution_count": null,
   "metadata": {},
   "outputs": [],
   "source": [
    "import vcf\n",
    "\n",
    "import os\n",
    "import gzip\n",
    "\n",
    "import numpy as np\n",
    "import pandas as pd\n",
    "import matplotlib.pyplot as plt\n",
    "%matplotlib inline\n",
    "\n",
    "plt.style.use(\"ggplot\")\n",
    "\n",
    "def read_chars_gz(n):\n",
    "    \"\"\" Read the first n characters of the .gz vcf file.\n",
    "    Args:\n",
    "        n (int)\n",
    "    \"\"\"\n",
    "    with gzip.open(vcf_file_path, 'rt') as f:\n",
    "        print(f.read(n))\n"
   ]
  },
  {
   "cell_type": "code",
   "execution_count": null,
   "metadata": {},
   "outputs": [],
   "source": [
    "def main():\n",
    "    system_path = r\"C:\\Users\\uniqu\\Adaptation\\github repos\" \\\n",
    "              + \"\\Bioinformatics-Neural Networks for Genomic Risk\"\n",
    "    system_path = system_path + r\"\\DawleyRats\"\n",
    "    vcf_file_name_options = [r\"allChr.allSamps.90DR2.maf01.hweE7.noIBD.CharlesRiverOnly.vcf.gz\",\n",
    "                             r\"allChr.allSamps.90DR2.maf01.hweE7.noIBD.HarlanOnly.vcf.gz\"]\n",
    "    vcf_file_name = vcf_file_name_options[0] # \"...vcf.gz\"\n",
    "\n",
    "    vcf_file_path = os.path.join(system_path, vcf_file_name)\n",
    "\n",
    "    vcf_reader = vcf.Reader(filename=vcf_file_path, compressed=True)\n",
    "\n",
    "    try:\n",
    "        print(\"VCF data loaded successfully...\\n\")\n",
    "        print(f\"Metadata:\\n{vcf_reader.metadata}\")\n",
    "    except: \n",
    "        print(\"Failed to load VCF data.\")\n",
    "    \n",
    "    n = int(1e4)\n",
    "    read_chars_gz(n)\n",
    "        \n",
    "    \n",
    "if __name__ == '__main__':\n",
    "    main()"
   ]
  }
 ],
 "metadata": {
  "kernelspec": {
   "display_name": "Python (ds_env)",
   "language": "python",
   "name": "ds_env"
  },
  "language_info": {
   "codemirror_mode": {
    "name": "ipython",
    "version": 3
   },
   "file_extension": ".py",
   "mimetype": "text/x-python",
   "name": "python",
   "nbconvert_exporter": "python",
   "pygments_lexer": "ipython3",
   "version": "3.8.5"
  },
  "toc": {
   "base_numbering": 1,
   "nav_menu": {},
   "number_sections": true,
   "sideBar": true,
   "skip_h1_title": true,
   "title_cell": "Table of Contents",
   "title_sidebar": "Contents",
   "toc_cell": true,
   "toc_position": {},
   "toc_section_display": true,
   "toc_window_display": false
  }
 },
 "nbformat": 4,
 "nbformat_minor": 4
}
