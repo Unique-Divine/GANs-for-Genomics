{
 "cells": [
  {
   "cell_type": "code",
   "execution_count": 6,
   "metadata": {},
   "outputs": [],
   "source": [
    "import vcf\n",
    "\n",
    "import os\n",
    "import gzip\n",
    "\n",
    "import numpy as np\n",
    "import pandas as pd\n",
    "import matplotlib.pyplot as plt\n",
    "%matplotlib inline\n",
    "\n",
    "plt.style.use(\"ggplot\")"
   ]
  },
  {
   "cell_type": "code",
   "execution_count": 4,
   "metadata": {},
   "outputs": [
    {
     "name": "stdout",
     "output_type": "stream",
     "text": [
      "VCF data loaded successfully...\n",
      "\n",
      "Metadata: OrderedDict([('fileformat', 'VCFv4.2'), ('fileDate', '20180201'), ('source', ['PLINKv1.90'])])\n"
     ]
    }
   ],
   "source": [
    "system_path = r\"C:\\Users\\uniqu\\Adaptation\\github repos\" \\\n",
    "              + \"\\Bioinformatics-Neural Networks for Genomic Risk\"\n",
    "system_path = system_path + r\"\\DawleyRats\"\n",
    "vcf_file_name_options = [r\"allChr.allSamps.90DR2.maf01.hweE7.noIBD.CharlesRiverOnly.vcf.gz\",\n",
    "                         r\"allChr.allSamps.90DR2.maf01.hweE7.noIBD.HarlanOnly.vcf.gz\"]\n",
    "vcf_file_name = vcf_file_name_options[0] # \"...vcf.gz\"\n",
    "\n",
    "vcf_file_path = os.path.join(system_path, vcf_file_name)\n",
    "\n",
    "vcf_reader = vcf.Reader(filename=vcf_file_path, compressed=True)\n",
    "\n",
    "try:\n",
    "    print(\"VCF data loaded successfully...\\n\")\n",
    "    print(f\"Metadata: {vcf_reader.metadata}\")\n",
    "except: \n",
    "    print(\"Failed to load VCF data.\"b)"
   ]
  },
  {
   "cell_type": "code",
   "execution_count": 15,
   "metadata": {},
   "outputs": [
    {
     "name": "stdout",
     "output_type": "stream",
     "text": [
      "##fileformat=VCFv4.2\n",
      "##fileDate=20180201\n",
      "##source=PLINKv1.90\n",
      "##contig=<ID=1,length=282745832>\n",
      "##contig=<ID=2,length=266367381>\n",
      "##contig=<ID=3,length=177678048>\n",
      "##contig=<ID=4,length=184213463>\n",
      "##contig=<ID=5,length=173704786>\n",
      "##contig=<ID=6,length=147965078>\n",
      "##contig=<ID=7,length=145599967>\n",
      "##contig=<ID=8,length=133288266>\n",
      "##contig=<ID=9,length=122022420>\n",
      "##contig=<ID=10,length=112580048>\n",
      "##contig=<ID=11,length=90453650>\n",
      "##contig=<ID=12,length=52683120>\n",
      "##contig=<ID=13,length=114010850>\n",
      "##contig=<ID=14,length=115436306>\n",
      "##contig=<ID=15,length=111173208>\n",
      "##contig=<ID=16,length=90610649>\n",
      "##contig=<ID=17,length=90840848>\n",
      "##contig=<ID=18,length=87963297>\n",
      "##contig=<ID=19,length=62264106>\n",
      "##contig=<ID=20,length=56089150>\n",
      "##INFO=<ID=PR,Number=0,Type=Flag,Description=\"Provisional reference allele, may not be based on real reference genome\">\n",
      "##FORMAT=<ID=GT,Number=1,Type=String,Description=\"Genotype\">\n",
      "#CHROM\tPOS\tID\tREF\tALT\tQUAL\tFILTER\tINFO\tFORMAT\t1052\t1053\t1054\t1055\t1059\t1060\t1061\t1062\t1065\t106\n"
     ]
    }
   ],
   "source": [
    "with gzip.open(vcf_file_path, 'rt') as f:\n",
    "    print(f.read(int(1e3)))"
   ]
  },
  {
   "cell_type": "markdown",
   "metadata": {},
   "source": [
    "Q: What's the gzip module for? [gzip docs](https://docs.python.org/3/library/gzip.html)\n",
    "\n",
    "- This module provides a simple interface to compress and decompress files like the GNU program gzip\n",
    "- `gzip`: a module that provides the `GzipFile` class as well as the `open`, `compress`, and `decompress` convenience functions.\n",
    "\n",
    "Q: The \"*.gz\" file extension?\n",
    "\n",
    "- .gz files: compressed files created using the gzip compression utility, which was created to replace and improve on compress in UNIX. This utility is commonly used on UNIX-like systems.\n",
    "- gzip file compression is often used to compress some elements of web pages to speed up page loading. \n",
    "\n",
    "Q: Why is the tool called `gzip`? \n",
    "\n",
    "- A .gz file is an archive file compressed by the standard GNU zip (gzip) compression algorithm.\n",
    "\n",
    "Q: Why use the `GzipFile` class? [class docs](https://docs.python.org/3/library/gzip.html#gzip.GzipFile)\n",
    "\n",
    "- It simulates most of the methods of a \"file object\"\n",
    "\n",
    "Q: \"file object\"? [Python docs. file object.](https://docs.python.org/3/glossary.html#term-file-object)\n",
    "\n",
    "file object: \n",
    "- An object exposing a file-oriented API (with methods such as `read()` or `write()`) to an underlying resource\n",
    "\n",
    "Q: `gzip.open` method?\n",
    "\n"
   ]
  },
  {
   "cell_type": "code",
   "execution_count": null,
   "metadata": {},
   "outputs": [],
   "source": []
  }
 ],
 "metadata": {
  "kernelspec": {
   "display_name": "Python (ds_env)",
   "language": "python",
   "name": "ds_env"
  },
  "language_info": {
   "codemirror_mode": {
    "name": "ipython",
    "version": 3
   },
   "file_extension": ".py",
   "mimetype": "text/x-python",
   "name": "python",
   "nbconvert_exporter": "python",
   "pygments_lexer": "ipython3",
   "version": "3.8.5"
  }
 },
 "nbformat": 4,
 "nbformat_minor": 4
}
