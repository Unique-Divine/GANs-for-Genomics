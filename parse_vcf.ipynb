{
 "cells": [
  {
   "cell_type": "markdown",
   "metadata": {
    "toc": true
   },
   "source": [
    "<h1>Table of Contents<span class=\"tocSkip\"></span></h1>\n",
    "<div class=\"toc\"><ul class=\"toc-item\"><li><span><a href=\"#Analysis\" data-toc-modified-id=\"Analysis-1\"><span class=\"toc-item-num\">1&nbsp;&nbsp;</span>Analysis</a></span><ul class=\"toc-item\"><li><span><a href=\"#vcf.Reader-[docs]\" data-toc-modified-id=\"vcf.Reader-[docs]-1.1\"><span class=\"toc-item-num\">1.1&nbsp;&nbsp;</span><code>vcf.Reader</code> <a href=\"https://pyvcf.readthedocs.io/en/latest/API.html#vcf-reader\" target=\"_blank\">[docs]</a></a></span></li></ul></li><li><span><a href=\"#vcf.model._Record-[docs]\" data-toc-modified-id=\"vcf.model._Record-[docs]-2\"><span class=\"toc-item-num\">2&nbsp;&nbsp;</span><code>vcf.model._Record</code> <a href=\"https://pyvcf.readthedocs.io/en/latest/API.html#vcf-model-record\" target=\"_blank\">[docs]</a></a></span></li><li><span><a href=\"#vcf.model_Call-[docs]\" data-toc-modified-id=\"vcf.model_Call-[docs]-3\"><span class=\"toc-item-num\">3&nbsp;&nbsp;</span><code>vcf.model_Call</code> <a href=\"https://pyvcf.readthedocs.io/en/latest/API.html#vcf-model-call\" target=\"_blank\">[docs]</a></a></span><ul class=\"toc-item\"><li><span><a href=\"#What-exactly-is-genotype?-And-why-is-there-a-heterozygous-property-in-this-class?\" data-toc-modified-id=\"What-exactly-is-genotype?-And-why-is-there-a-heterozygous-property-in-this-class?-3.1\"><span class=\"toc-item-num\">3.1&nbsp;&nbsp;</span>What exactly is genotype? And why is there a heterozygous property in this class?</a></span></li><li><span><a href=\"#Genotype-calling,-genotyping,-and-SNP-calling?\" data-toc-modified-id=\"Genotype-calling,-genotyping,-and-SNP-calling?-3.2\"><span class=\"toc-item-num\">3.2&nbsp;&nbsp;</span>Genotype calling, genotyping, and SNP calling?</a></span><ul class=\"toc-item\"><li><span><a href=\"#Genotyping\" data-toc-modified-id=\"Genotyping-3.2.1\"><span class=\"toc-item-num\">3.2.1&nbsp;&nbsp;</span>Genotyping</a></span></li><li><span><a href=\"#Genotype-&amp;-SNP-calling\" data-toc-modified-id=\"Genotype-&amp;-SNP-calling-3.2.2\"><span class=\"toc-item-num\">3.2.2&nbsp;&nbsp;</span>Genotype &amp; SNP calling</a></span></li></ul></li></ul></li><li><span><a href=\"#The-Script\" data-toc-modified-id=\"The-Script-4\"><span class=\"toc-item-num\">4&nbsp;&nbsp;</span>The Script</a></span></li></ul></div>"
   ]
  },
  {
   "cell_type": "code",
   "execution_count": 98,
   "metadata": {},
   "outputs": [],
   "source": [
    "import vcf\n",
    "\n",
    "import os\n",
    "import gzip\n",
    "\n",
    "import numpy as np\n",
    "import pandas as pd\n",
    "import matplotlib.pyplot as plt\n",
    "%matplotlib inline\n",
    "\n",
    "plt.style.use(\"ggplot\")"
   ]
  },
  {
   "cell_type": "code",
   "execution_count": 268,
   "metadata": {
    "scrolled": true
   },
   "outputs": [
    {
     "name": "stdout",
     "output_type": "stream",
     "text": [
      "VCF data loaded successfully...\n",
      "\n",
      "Metadata:\n",
      "OrderedDict([('fileformat', 'VCFv4.2'), ('fileDate', '20180201'), ('source', ['PLINKv1.90'])])\n"
     ]
    }
   ],
   "source": [
    "# VCF data loading \"hello world\"\n",
    "system_path = r\"C:\\Users\\uniqu\\Adaptation\\github repos\" \\\n",
    "              + \"\\Bioinformatics-Neural Networks for Genomic Risk\"\n",
    "system_path = system_path + r\"\\DawleyRats\"\n",
    "vcf_file_name_options = [r\"allChr.allSamps.90DR2.maf01.hweE7.noIBD.CharlesRiverOnly.vcf.gz\",\n",
    "                         r\"allChr.allSamps.90DR2.maf01.hweE7.noIBD.HarlanOnly.vcf.gz\"]\n",
    "vcf_file_name = vcf_file_name_options[0] # \"...vcf.gz\"\n",
    "\n",
    "vcf_file_path = os.path.join(system_path, vcf_file_name)\n",
    "\n",
    "vcf_reader = vcf.Reader(filename=vcf_file_path, compressed=True)\n",
    "\n",
    "try:\n",
    "    print(\"VCF data loaded successfully...\\n\")\n",
    "    print(f\"Metadata:\\n{vcf_reader.metadata}\")\n",
    "except: \n",
    "    print(\"Failed to load VCF data.\")"
   ]
  },
  {
   "cell_type": "markdown",
   "metadata": {},
   "source": [
    "--- \n",
    "\n",
    "## Analysis\n",
    "\n",
    "Resources Used:\n",
    "- [PyVCF Tutorial: Michal Linial (Jan, 2020). *Quantitative Biological Research with Python*.](https://youtu.be/jWu_nxlS5Vc) (ends @ 12 minutes)\n",
    "- "
   ]
  },
  {
   "cell_type": "markdown",
   "metadata": {},
   "source": [
    "###  `vcf.Reader` [[docs]](https://pyvcf.readthedocs.io/en/latest/API.html#vcf-reader)"
   ]
  },
  {
   "cell_type": "code",
   "execution_count": 100,
   "metadata": {},
   "outputs": [
    {
     "name": "stdout",
     "output_type": "stream",
     "text": [
      "##fileformat=VCFv4.2\n",
      "##fileDate=20180201\n",
      "##source=PLINKv1.90\n",
      "##contig=<ID=1,length=282745832>\n",
      "##contig=<ID=2,length=266367381>\n",
      "##contig=<ID=3,length=177678048>\n",
      "##contig=<ID=4,length=184213463>\n",
      "##contig=<ID=5,length=173704786>\n",
      "##contig=<ID=6,length=147965078>\n",
      "##contig=<ID=7,length=145599967>\n",
      "##contig=<ID=8,length=133288266>\n",
      "##contig=<ID=9,length=122022420>\n",
      "##contig=<ID=10,length=112580048>\n",
      "##contig=<ID=11,length=90453650>\n",
      "##contig=<ID=12,length=52683120>\n",
      "##contig=<ID=13,length=114010850>\n",
      "##contig=<ID=14,length=115436306>\n",
      "##contig=<ID=15,length=111173208>\n",
      "##contig=<ID=16,length=90610649>\n",
      "##contig=<ID=17,length=90840848>\n",
      "##contig=<ID=18,length=87963297>\n",
      "##contig=<ID=19,length=62264106>\n",
      "##contig=<ID=20,length=56089150>\n",
      "##INFO=<ID=PR,Number=0,Type=Flag,Description=\"Provisional reference allele, may not be based on real reference genome\">\n",
      "##FORMAT=<ID=GT,Number=1,Type=String,Description=\"Genotype\">\n",
      "#CHROM\tPOS\tID\tREF\tALT\tQUAL\tFILTER\tINFO\tFORMAT\t1052\t1053\t1054\t1055\t1059\t1060\t1061\t1062\t1065\t106\n"
     ]
    }
   ],
   "source": [
    "# Read the first n characters of the .gz vcf file.\n",
    "with gzip.open(vcf_file_path, 'rt') as f:\n",
    "    print(f.read(n := int(1e3)))"
   ]
  },
  {
   "cell_type": "markdown",
   "metadata": {},
   "source": [
    "Q: What's the gzip module for? [gzip docs](https://docs.python.org/3/library/gzip.html)\n",
    "\n",
    "- This module provides a simple interface to compress and decompress files like the GNU program gzip\n",
    "- `gzip`: a module that provides the `GzipFile` class as well as the `open`, `compress`, and `decompress` convenience functions.\n",
    "\n",
    "Q: The \"*.gz\" file extension?\n",
    "\n",
    "- .gz files: compressed files created using the gzip compression utility, which was created to replace and improve on compress in UNIX. This utility is commonly used on UNIX-like systems.\n",
    "- gzip file compression is often used to compress some elements of web pages to speed up page loading. \n",
    "\n",
    "Q: Why is the tool called `gzip`? \n",
    "\n",
    "- A .gz file is an archive file compressed by the standard GNU zip (gzip) compression algorithm.\n",
    "\n",
    "Q: Why use the `GzipFile` class? [class docs](https://docs.python.org/3/library/gzip.html#gzip.GzipFile)\n",
    "\n",
    "- It simulates most of the methods of a \"file object\"\n",
    "\n",
    "Q: \"file object\"? [Python docs. file object.](https://docs.python.org/3/glossary.html#term-file-object)\n",
    "\n",
    "file object: \n",
    "- An object exposing a file-oriented API (with methods such as `read()` or `write()`) to an underlying resource\n",
    "- Tutorial [file objects](https://youtu.be/Uh2ebFW8OYM)\n",
    "- Tutorial [OS Module](https://www.youtube.com/watch?v=tJxcKyFMTGo)\n",
    "\n",
    "Q: `gzip.open` method?\n",
    "\n"
   ]
  },
  {
   "cell_type": "code",
   "execution_count": 5,
   "metadata": {},
   "outputs": [
    {
     "data": {
      "text/plain": [
       "OrderedDict([('fileformat', 'VCFv4.2'),\n",
       "             ('fileDate', '20180201'),\n",
       "             ('source', ['PLINKv1.90'])])"
      ]
     },
     "execution_count": 5,
     "metadata": {},
     "output_type": "execute_result"
    }
   ],
   "source": [
    "vcf_reader.metadata"
   ]
  },
  {
   "cell_type": "markdown",
   "metadata": {},
   "source": [
    "Q: How does the `OrderDict` type differ from the regular dictionary? [OrderedDict docs](https://docs.python.org/3.4/library/collections.html?highlight=ordereddict)\n",
    "- It retains the order in which the entries were added.\n",
    "\n",
    "[Python Dictionary Methods](https://www.w3schools.com/python/python_ref_dictionary.asp)"
   ]
  },
  {
   "cell_type": "code",
   "execution_count": 6,
   "metadata": {},
   "outputs": [
    {
     "data": {
      "text/plain": [
       "odict_items([('fileformat', 'VCFv4.2'), ('fileDate', '20180201'), ('source', ['PLINKv1.90'])])"
      ]
     },
     "execution_count": 6,
     "metadata": {},
     "output_type": "execute_result"
    }
   ],
   "source": [
    "vcf_reader.metadata.items()"
   ]
  },
  {
   "cell_type": "code",
   "execution_count": 7,
   "metadata": {},
   "outputs": [
    {
     "name": "stdout",
     "output_type": "stream",
     "text": [
      "('fileformat', 'VCFv4.2')\n",
      "('fileDate', '20180201')\n",
      "('source', ['PLINKv1.90'])\n"
     ]
    }
   ],
   "source": [
    "for pair in vcf_reader.metadata.items():\n",
    "    print(pair)"
   ]
  },
  {
   "cell_type": "code",
   "execution_count": 8,
   "metadata": {},
   "outputs": [
    {
     "data": {
      "text/plain": [
       "OrderedDict([('PR',\n",
       "              Info(id='PR', num=0, type='Flag', desc='Provisional reference allele, may not be based on real reference genome', source=None, version=None))])"
      ]
     },
     "execution_count": 8,
     "metadata": {},
     "output_type": "execute_result"
    }
   ],
   "source": [
    "vcf_reader.infos"
   ]
  },
  {
   "cell_type": "code",
   "execution_count": 9,
   "metadata": {},
   "outputs": [
    {
     "data": {
      "text/plain": [
       "odict_items([('PR', Info(id='PR', num=0, type='Flag', desc='Provisional reference allele, may not be based on real reference genome', source=None, version=None))])"
      ]
     },
     "execution_count": 9,
     "metadata": {},
     "output_type": "execute_result"
    }
   ],
   "source": [
    "vcf_reader.infos.items()"
   ]
  },
  {
   "cell_type": "code",
   "execution_count": 10,
   "metadata": {},
   "outputs": [
    {
     "name": "stdout",
     "output_type": "stream",
     "text": [
      "PR (Flag): Provisional reference allele, may not be based on real reference genome\n"
     ]
    }
   ],
   "source": [
    "# name: name of an info object\n",
    "# info: a vcf.Reader info object\n",
    "for name, info in vcf_reader.infos.items():\n",
    "    print(f\"{name} ({info.type}): {info.desc}\")"
   ]
  },
  {
   "cell_type": "markdown",
   "metadata": {},
   "source": [
    "`vcf_reader.infos` | info object:\n",
    "- `info.type`: type of the info object\n",
    "- `info.desc`: desription of the info object"
   ]
  },
  {
   "cell_type": "markdown",
   "metadata": {},
   "source": [
    "## `vcf.model._Record` [[docs]][record docs]\n",
    "\n",
    "**class `vcf.model._Record`**: A set of calls at a site. The standard VCF fields CHROM, POS, IS, REF, ALT, INFO, QUAL, FILTER, and FORMAT are available as properties (details on [Wikipedia][vcf_wikipedia]). \n",
    "\n",
    "The list of calls is in the `samples` attribute. \n",
    "\n",
    "[record docs]: https://pyvcf.readthedocs.io/en/latest/API.html#vcf-model-record\n",
    "[vcf_wikipedia]: https://en.wikipedia.org/wiki/Variant_Call_Format"
   ]
  },
  {
   "cell_type": "markdown",
   "metadata": {},
   "source": [
    "`vcf_reader` is an iterable object.\n",
    "\n",
    "This means `it = iter(vcf_reader)` would be redundant and we can already use `next()`. "
   ]
  },
  {
   "cell_type": "code",
   "execution_count": 226,
   "metadata": {},
   "outputs": [
    {
     "name": "stdout",
     "output_type": "stream",
     "text": [
      "Chromsome: 1\n",
      "position: 200161650\n",
      "alternative alleles: [C]\n",
      "reference base: T\n",
      "Variation info: {'PR': True}\n",
      "Identifier of variation: chr1.200161650\n"
     ]
    }
   ],
   "source": [
    "def printRecordAttributes(vcf_reader, record=None, start=0):\n",
    "    \n",
    "    if record == None:\n",
    "        for snp_idx, record in enumerate(vcf_reader, start=0):\n",
    "            break\n",
    "        \n",
    "    print(f\"Chromsome: {record.CHROM}\")\n",
    "    print(f\"position: {record.POS}\")\n",
    "    print(f\"alternative alleles: {record.ALT}\")\n",
    "    print(f\"reference base: {record.REF}\")\n",
    "    print(f\"Variation info: {record.INFO}\")\n",
    "    print(f\"Identifier of variation: {record.ID}\")\n",
    "\n",
    "printRecordAttributes(vcf_reader)"
   ]
  },
  {
   "cell_type": "code",
   "execution_count": 307,
   "metadata": {},
   "outputs": [],
   "source": [
    "def appendRecordData(record_df, record):\n",
    "    \"\"\"\n",
    "    Args:\n",
    "        record_df (pd.DataFrame): \n",
    "        record (vcf.model._Record):\n",
    "    \n",
    "    Returns:\n",
    "        (pd.DataFrame): record_df with an additional row of record (SNP) data.\n",
    "    \"\"\"\n",
    "    \n",
    "    # Alternate allele bases\n",
    "    if len(record.ALT) == 0:\n",
    "        alt0, alt1 = np.nan, np.nan\n",
    "    elif len(record.ALT) == 1:\n",
    "        alt0, alt1 = record.ALT[0], np.nan\n",
    "\n",
    "    varIdentifier = pd.Series(record.ID, name=\"varIdentifier\")\n",
    "    \n",
    "    df = pd.DataFrame(\n",
    "        data = {\"refBase\": record.REF, \"altAllele0\": alt0,\n",
    "                \"altAllele1\": alt1},\n",
    "        index = varIdentifier)\n",
    "    \n",
    "    record_df = record_df.append(df, ignore_index=False)\n",
    "    \n",
    "    return record_df\n",
    "\n",
    "def appendCallData(call_df, record):\n",
    "    \"\"\"\n",
    "    Args:\n",
    "        call_df (pd.DataFrame):\n",
    "        record (vcf.model._Record): \n",
    "        \n",
    "    Returns:\n",
    "        (pd.DataFrame): call_df with additional columns of (SNP) data\n",
    "    \"\"\"\n",
    "\n",
    "    varIdentifier = pd.Series(record.ID, name=\"SNP\"+\"varIdentifier\")\n",
    "    sample_names = np.array([sample.sample for sample in record.samples])\n",
    "    gt_types = np.array([sample.gt_type for sample in record.samples]).reshape(1,-1)\n",
    "    \n",
    "    df = pd.DataFrame(\n",
    "        data = gt_types,\n",
    "        columns = sample_names,\n",
    "        index = varIdentifier)\n",
    "    \n",
    "    call_df = call_df.append(df, ignore_index=False)\n",
    "    \n",
    "    return call_df"
   ]
  },
  {
   "cell_type": "code",
   "execution_count": 310,
   "metadata": {},
   "outputs": [
    {
     "data": {
      "text/html": [
       "<div>\n",
       "<style scoped>\n",
       "    .dataframe tbody tr th:only-of-type {\n",
       "        vertical-align: middle;\n",
       "    }\n",
       "\n",
       "    .dataframe tbody tr th {\n",
       "        vertical-align: top;\n",
       "    }\n",
       "\n",
       "    .dataframe thead th {\n",
       "        text-align: right;\n",
       "    }\n",
       "</style>\n",
       "<table border=\"1\" class=\"dataframe\">\n",
       "  <thead>\n",
       "    <tr style=\"text-align: right;\">\n",
       "      <th></th>\n",
       "      <th>refBase</th>\n",
       "      <th>altAllele0</th>\n",
       "      <th>altAllele1</th>\n",
       "    </tr>\n",
       "    <tr>\n",
       "      <th>varIdentifier</th>\n",
       "      <th></th>\n",
       "      <th></th>\n",
       "      <th></th>\n",
       "    </tr>\n",
       "  </thead>\n",
       "  <tbody>\n",
       "    <tr>\n",
       "      <th>chr1.175954</th>\n",
       "      <td>G</td>\n",
       "      <td>C</td>\n",
       "      <td>NaN</td>\n",
       "    </tr>\n",
       "    <tr>\n",
       "      <th>chr1.175960</th>\n",
       "      <td>C</td>\n",
       "      <td>T</td>\n",
       "      <td>NaN</td>\n",
       "    </tr>\n",
       "    <tr>\n",
       "      <th>chr1.175970</th>\n",
       "      <td>T</td>\n",
       "      <td>A</td>\n",
       "      <td>NaN</td>\n",
       "    </tr>\n",
       "    <tr>\n",
       "      <th>chr1.177010</th>\n",
       "      <td>G</td>\n",
       "      <td>A</td>\n",
       "      <td>NaN</td>\n",
       "    </tr>\n",
       "    <tr>\n",
       "      <th>chr1.669529</th>\n",
       "      <td>T</td>\n",
       "      <td>C</td>\n",
       "      <td>NaN</td>\n",
       "    </tr>\n",
       "    <tr>\n",
       "      <th>chr1.669535</th>\n",
       "      <td>C</td>\n",
       "      <td>T</td>\n",
       "      <td>NaN</td>\n",
       "    </tr>\n",
       "    <tr>\n",
       "      <th>chr1.669543</th>\n",
       "      <td>A</td>\n",
       "      <td>C</td>\n",
       "      <td>NaN</td>\n",
       "    </tr>\n",
       "    <tr>\n",
       "      <th>chr1.669544</th>\n",
       "      <td>C</td>\n",
       "      <td>A</td>\n",
       "      <td>NaN</td>\n",
       "    </tr>\n",
       "    <tr>\n",
       "      <th>chr1.669588</th>\n",
       "      <td>A</td>\n",
       "      <td>T</td>\n",
       "      <td>NaN</td>\n",
       "    </tr>\n",
       "    <tr>\n",
       "      <th>chr1.669606</th>\n",
       "      <td>T</td>\n",
       "      <td>C</td>\n",
       "      <td>NaN</td>\n",
       "    </tr>\n",
       "    <tr>\n",
       "      <th>chr1.671446</th>\n",
       "      <td>T</td>\n",
       "      <td>G</td>\n",
       "      <td>NaN</td>\n",
       "    </tr>\n",
       "  </tbody>\n",
       "</table>\n",
       "</div>"
      ],
      "text/plain": [
       "              refBase altAllele0  altAllele1\n",
       "varIdentifier                               \n",
       "chr1.175954         G          C         NaN\n",
       "chr1.175960         C          T         NaN\n",
       "chr1.175970         T          A         NaN\n",
       "chr1.177010         G          A         NaN\n",
       "chr1.669529         T          C         NaN\n",
       "chr1.669535         C          T         NaN\n",
       "chr1.669543         A          C         NaN\n",
       "chr1.669544         C          A         NaN\n",
       "chr1.669588         A          T         NaN\n",
       "chr1.669606         T          C         NaN\n",
       "chr1.671446         T          G         NaN"
      ]
     },
     "execution_count": 310,
     "metadata": {},
     "output_type": "execute_result"
    }
   ],
   "source": [
    "vcf_reader = vcf.Reader(filename=vcf_file_path, compressed=True)\n",
    "\n",
    "recordAttributes = pd.DataFrame()\n",
    "call_df = pd.DataFrame()\n",
    "\n",
    "for snp_idx, record in enumerate(vcf_reader, start=0):\n",
    "    \n",
    "    recordAttributes = appendRecordData(recordAttributes, record=record)\n",
    "    \n",
    "    call_df = appendCallData(call_df, record=record) \n",
    "    \n",
    "    # Stop criterion\n",
    "    if snp_idx == 10:\n",
    "        break\n",
    "\n",
    "recordAttributes"
   ]
  },
  {
   "cell_type": "code",
   "execution_count": 314,
   "metadata": {},
   "outputs": [
    {
     "data": {
      "text/plain": [
       "0    1602\n",
       "1     178\n",
       "Name: chr1.175954, dtype: int64"
      ]
     },
     "execution_count": 314,
     "metadata": {},
     "output_type": "execute_result"
    }
   ],
   "source": [
    "call_df.iloc[0].value_counts()"
   ]
  },
  {
   "cell_type": "code",
   "execution_count": 266,
   "metadata": {},
   "outputs": [
    {
     "name": "stdout",
     "output_type": "stream",
     "text": [
      "<class 'pandas.core.frame.DataFrame'>\n",
      "Int64Index: 12002 entries, 0 to 10000\n",
      "Data columns (total 7 columns):\n",
      " #   Column                   Non-Null Count  Dtype  \n",
      "---  ------                   --------------  -----  \n",
      " 0   Chromosome               12002 non-null  object \n",
      " 1   altAllele0               12002 non-null  object \n",
      " 2   altAllele1               0 non-null      float64\n",
      " 3   altAllele2               0 non-null      float64\n",
      " 4   position                 12002 non-null  float64\n",
      " 5   refBase                  12002 non-null  object \n",
      " 6   Identifier of variation  10001 non-null  object \n",
      "dtypes: float64(3), object(4)\n",
      "memory usage: 750.1+ KB\n"
     ]
    }
   ],
   "source": [
    "df.info()"
   ]
  },
  {
   "cell_type": "markdown",
   "metadata": {},
   "source": [
    "## `vcf.model_Call` [[docs]][call docs]\n",
    "\n",
    "**class `vcf.model._Call`**: A genotype call, a cell entry in a VCF file.\n",
    "\n",
    "[call docs]: https://pyvcf.readthedocs.io/en/latest/API.html#vcf-model-call\n",
    "\n",
    "### What exactly is genotype? And why is there a heterozygous property in this class?\n",
    "\n",
    "A **gene** is a section of DNA that encodes a trait. The precise arrangement of **nucleotides** in a gene can differ between copies of the same gene. Therefore, a gene can exist in different forms across organisms. These different forms are known as **alleles**. The exact fixed position on the chromosome that contains a particular gene is known as a **locus**.\n",
    "\n",
    "A **diploid** organism either inherits two copies of the same allele or one copy of two different alleles from their parents. If an individual inherits two identical alleles, their **genotype** is said to be **homozygous** at that locus. However, if they possess two different alleles, their genotype is classed as **heterozygous** for that locus.\n",
    "\n",
    "Alleles of the same gene are either autosomal dominant or recessive. An **autosomal dominant allele** will always be preferentially expressed over a recessive allele.\n",
    "\n",
    "The subsequent combination of alleles that an individual possesses for a specific gene is their **genotype**.  \n",
    "\n",
    "Nucleotides are each composed of a phosphate group, sugar and a base.\n",
    "\n",
    "[source: technologynetworks.com/genomics](https://www.technologynetworks.com/genomics/articles/genotype-vs-phenotype-examples-and-definitions-318446)\n",
    "\n",
    "### Genotype calling, genotyping, and SNP calling?\n",
    "\n",
    "What's the difference in these terms? What is \"calling\"?\n",
    "\n",
    "**Source**: [[Kevin Blighe]](https://www.biostars.org/p/277927/)\n",
    "\n",
    "#### Genotyping\n",
    "\n",
    "\n",
    "\n",
    "#### Genotype & SNP calling\n",
    "\n",
    "\n",
    "\n",
    "\n",
    "\n",
    "Genotype calling is the process of determining the genotype for each individual and is typically only done for positions in which a SNP or a 'variant' has already been called. We use the word 'calling' here to signify the estimation of one unique SNP or genotype.\n",
    "\n",
    "**Source**: Nielsen, R., Paul, J. S., Albrechtsen, A., & Song, Y. S. (2011). Genotype and SNP calling from next-generation sequencing data. *Nature reviews. Genetics, 12(6)*, 443–451. [ncbi.nlm.nih.gov](https://www.ncbi.nlm.nih.gov/pmc/articles/PMC3593722/#:~:text=Genotype%20calling%20is%20the%20process,one%20unique%20SNP%20or%20genotype)."
   ]
  },
  {
   "cell_type": "code",
   "execution_count": 230,
   "metadata": {},
   "outputs": [
    {
     "name": "stdout",
     "output_type": "stream",
     "text": [
      "C/C 0\n",
      "Chromsome: 1\n",
      "position: 200030549\n",
      "alternative alleles: [T]\n",
      "reference base: C\n",
      "Variation info: {'PR': True}\n",
      "Identifier of variation: chr1.200030549\n",
      "\n",
      "\n",
      "T/T 2\n",
      "Chromsome: 1\n",
      "position: 200030549\n",
      "alternative alleles: [T]\n",
      "reference base: C\n",
      "Variation info: {'PR': True}\n",
      "Identifier of variation: chr1.200030549\n",
      "\n",
      "\n"
     ]
    }
   ],
   "source": [
    "for idx, sample in enumerate(record.samples):\n",
    "    print(sample.gt_bases, sample.gt_type)\n",
    "    printRecordAttributes(vcf_reader=vcf_reader, record=record)\n",
    "    print(\"\\n\")\n",
    "#     char = iter(sample.gt_bases)\n",
    "#     print(next(char))\n",
    "#     print(next(char))\n",
    "#     print(next(char))\n",
    "    \n",
    "    if idx == 1:\n",
    "        break"
   ]
  },
  {
   "cell_type": "markdown",
   "metadata": {},
   "source": [
    "We searched for a record with each `gt_type` to figure out what the variable meant. It's 0 if both alleles are the reference, 1 if one of them is, and 2 if both alleles are alternative alleles. \n",
    "\n",
    "```python\n",
    ">>> df = pd.DataFrame(\n",
    "        data = [[sample.sample, sample.gt_bases, \n",
    "            sample.gt_type, sample.is_het, \n",
    "            sample.phased] for sample in record.samples],\n",
    "        columns = [\"sample_name\", \"gt_bases\", \n",
    "                   \"gt_type\", \"is_het\", \"phased\"])\n",
    "\n",
    ">>> df['gt_bases'].value_counts()\n",
    "A/A    1698\n",
    "A/C      81\n",
    "C/C       1\n",
    "Name: gt_bases, dtype: int64\n",
    "        \n",
    ">>> df.groupby(\"gt_bases\")['gt_type'].value_counts()\n",
    "gt_bases  gt_type\n",
    "A/A       0          1698\n",
    "A/C       1            81\n",
    "C/C       2             1\n",
    "Name: gt_type, dtype: int64\n",
    "        \n",
    ">>> df['gt_type'].value_counts()\n",
    "0    1698\n",
    "1      81\n",
    "2       1\n",
    "Name: gt_type, dtype: int64\n",
    "```"
   ]
  },
  {
   "cell_type": "code",
   "execution_count": 71,
   "metadata": {},
   "outputs": [
    {
     "data": {
      "text/plain": [
       "(list, 1780, ['1052', '1053', '1054'])"
      ]
     },
     "execution_count": 71,
     "metadata": {},
     "output_type": "execute_result"
    }
   ],
   "source": [
    "# vcf_reader.samples (list): the genotype calls\n",
    "\n",
    "type(vcf_reader.samples), len(vcf_reader.samples), vcf_reader.samples[:3]"
   ]
  },
  {
   "cell_type": "code",
   "execution_count": 15,
   "metadata": {},
   "outputs": [
    {
     "data": {
      "text/plain": [
       "array([Call(sample=1052, CallData(GT=0/0)),\n",
       "       Call(sample=1053, CallData(GT=0/0)),\n",
       "       Call(sample=1054, CallData(GT=0/0)), ...,\n",
       "       Call(sample=4182, CallData(GT=0/0)),\n",
       "       Call(sample=4659, CallData(GT=0/0)),\n",
       "       Call(sample=920, CallData(GT=0/0))], dtype=object)"
      ]
     },
     "execution_count": 15,
     "metadata": {},
     "output_type": "execute_result"
    }
   ],
   "source": [
    "np.array(record.samples)"
   ]
  },
  {
   "cell_type": "code",
   "execution_count": 16,
   "metadata": {},
   "outputs": [
    {
     "name": "stdout",
     "output_type": "stream",
     "text": [
      "Variant type: snp\n",
      "      \tTrue, False\n",
      "      \t['G', C]\n"
     ]
    }
   ],
   "source": [
    "print(f\"Variant type: {record.var_type}\\n\\\n",
    "      \\t{record.is_snp}, {record.is_indel}\\n\\\n",
    "      \\t{record.alleles}\")"
   ]
  },
  {
   "cell_type": "markdown",
   "metadata": {},
   "source": [
    "---\n",
    "\n",
    "## The Script "
   ]
  },
  {
   "cell_type": "code",
   "execution_count": null,
   "metadata": {},
   "outputs": [],
   "source": [
    "import vcf\n",
    "\n",
    "import os\n",
    "import gzip\n",
    "\n",
    "import numpy as np\n",
    "import pandas as pd\n",
    "import matplotlib.pyplot as plt\n",
    "%matplotlib inline\n",
    "\n",
    "plt.style.use(\"ggplot\")\n",
    "\n",
    "def read_chars_gz(n):\n",
    "    \"\"\" Read the first n characters of the .gz vcf file.\n",
    "    Args:\n",
    "        n (int)\n",
    "    \"\"\"\n",
    "    with gzip.open(vcf_file_path, 'rt') as f:\n",
    "        print(f.read(n))\n"
   ]
  },
  {
   "cell_type": "code",
   "execution_count": null,
   "metadata": {},
   "outputs": [],
   "source": [
    "def main():\n",
    "    system_path = r\"C:\\Users\\uniqu\\Adaptation\\github repos\" \\\n",
    "              + \"\\Bioinformatics-Neural Networks for Genomic Risk\"\n",
    "    system_path = system_path + r\"\\DawleyRats\"\n",
    "    vcf_file_name_options = [r\"allChr.allSamps.90DR2.maf01.hweE7.noIBD.CharlesRiverOnly.vcf.gz\",\n",
    "                             r\"allChr.allSamps.90DR2.maf01.hweE7.noIBD.HarlanOnly.vcf.gz\"]\n",
    "    vcf_file_name = vcf_file_name_options[0] # \"...vcf.gz\"\n",
    "\n",
    "    vcf_file_path = os.path.join(system_path, vcf_file_name)\n",
    "\n",
    "    vcf_reader = vcf.Reader(filename=vcf_file_path, compressed=True)\n",
    "\n",
    "    try:\n",
    "        print(\"VCF data loaded successfully...\\n\")\n",
    "        print(f\"Metadata:\\n{vcf_reader.metadata}\")\n",
    "    except: \n",
    "        print(\"Failed to load VCF data.\")\n",
    "    \n",
    "    \n",
    "        \n",
    "    \n",
    "if __name__ == '__main__':\n",
    "    main()"
   ]
  }
 ],
 "metadata": {
  "kernelspec": {
   "display_name": "Python (ds_env)",
   "language": "python",
   "name": "ds_env"
  },
  "language_info": {
   "codemirror_mode": {
    "name": "ipython",
    "version": 3
   },
   "file_extension": ".py",
   "mimetype": "text/x-python",
   "name": "python",
   "nbconvert_exporter": "python",
   "pygments_lexer": "ipython3",
   "version": "3.8.5"
  },
  "toc": {
   "base_numbering": 1,
   "nav_menu": {},
   "number_sections": true,
   "sideBar": true,
   "skip_h1_title": true,
   "title_cell": "Table of Contents",
   "title_sidebar": "Contents",
   "toc_cell": true,
   "toc_position": {},
   "toc_section_display": true,
   "toc_window_display": false
  }
 },
 "nbformat": 4,
 "nbformat_minor": 4
}
